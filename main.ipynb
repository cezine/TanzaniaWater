{
 "cells": [
  {
   "cell_type": "code",
   "execution_count": 110,
   "metadata": {},
   "outputs": [],
   "source": [
    "import pandas as pd\n",
    "import numpy as np\n",
    "import matplotlib.pyplot as plt\n",
    "%matplotlib inline\n",
    "import seaborn as sns\n",
    "import pickle\n",
    "from sklearn.metrics import plot_confusion_matrix, classification_report\n",
    "from sklearn.model_selection import train_test_split, cross_val_score, GridSearchCV\n",
    "from sklearn.pipeline import Pipeline\n",
    "from sklearn.impute import SimpleImputer\n",
    "from sklearn.compose import ColumnTransformer\n",
    "from sklearn.preprocessing import OneHotEncoder, LabelEncoder, StandardScaler\n",
    "from sklearn.tree import DecisionTreeClassifier, plot_tree\n",
    "from imblearn.over_sampling import SMOTE\n",
    "from sklearn.feature_selection import RFECV, VarianceThreshold\n",
    "from sklearn.ensemble import GradientBoostingClassifier\n",
    "from sklearn.dummy import DummyClassifier\n",
    "from imblearn.pipeline import Pipeline as imbpipeline"
   ]
  },
  {
   "cell_type": "code",
   "execution_count": 3,
   "metadata": {},
   "outputs": [],
   "source": [
    "df = pd.read_pickle('dropped_na_data.pickle')"
   ]
  },
  {
   "cell_type": "markdown",
   "metadata": {},
   "source": [
    "# Data Cleaning"
   ]
  },
  {
   "cell_type": "code",
   "execution_count": 4,
   "metadata": {},
   "outputs": [],
   "source": [
    "unknown= df.loc[(df['population']==0)&(df['construction_year']==0)&(df['amount_tsh']==0)&(df['gps_height']==0)]"
   ]
  },
  {
   "cell_type": "code",
   "execution_count": 5,
   "metadata": {},
   "outputs": [],
   "source": [
    "def missing(row): \n",
    "    if (row['population']==0)&(row['construction_year']==0)&(row['amount_tsh']==0)&(row['gps_height']==0):\n",
    "        return 1\n",
    "    else:\n",
    "        return 0 \n"
   ]
  },
  {
   "cell_type": "code",
   "execution_count": 6,
   "metadata": {},
   "outputs": [],
   "source": [
    "df['missing']= df.apply(lambda row : missing(row), axis=1)"
   ]
  },
  {
   "cell_type": "code",
   "execution_count": 7,
   "metadata": {
    "scrolled": true
   },
   "outputs": [
    {
     "data": {
      "text/plain": [
       "(59400, 19)"
      ]
     },
     "execution_count": 7,
     "metadata": {},
     "output_type": "execute_result"
    }
   ],
   "source": [
    "X = df.drop('status_group', axis=1)\n",
    "X.shape"
   ]
  },
  {
   "cell_type": "code",
   "execution_count": 8,
   "metadata": {},
   "outputs": [],
   "source": [
    "y= df['status_group']"
   ]
  },
  {
   "cell_type": "code",
   "execution_count": 9,
   "metadata": {},
   "outputs": [],
   "source": [
    "le = LabelEncoder()"
   ]
  },
  {
   "cell_type": "code",
   "execution_count": 10,
   "metadata": {},
   "outputs": [],
   "source": [
    "y=le.fit_transform(df['status_group'])\n",
    "\n",
    "#0 = functional, 1= need repair, 2= non functional "
   ]
  },
  {
   "cell_type": "code",
   "execution_count": 11,
   "metadata": {},
   "outputs": [],
   "source": [
    "X_train,X_test,y_train,y_test = train_test_split(X,y, test_size=0.2,random_state=42, stratify=y)"
   ]
  },
  {
   "cell_type": "code",
   "execution_count": 12,
   "metadata": {
    "scrolled": true
   },
   "outputs": [],
   "source": [
    "cat_columns= [col for col in X.columns if X[col].dtype in ['object']]"
   ]
  },
  {
   "cell_type": "code",
   "execution_count": 13,
   "metadata": {},
   "outputs": [
    {
     "data": {
      "text/plain": [
       "['amount_tsh',\n",
       " 'gps_height',\n",
       " 'longitude',\n",
       " 'latitude',\n",
       " 'district_code',\n",
       " 'population',\n",
       " 'construction_year',\n",
       " 'missing']"
      ]
     },
     "execution_count": 13,
     "metadata": {},
     "output_type": "execute_result"
    }
   ],
   "source": [
    "num_columns = [col for col in X.columns if X[col].dtypes in ['float64', 'int64']]\n",
    "\n",
    "num_columns"
   ]
  },
  {
   "cell_type": "code",
   "execution_count": 14,
   "metadata": {},
   "outputs": [],
   "source": [
    "zero_pipe=Pipeline(steps= [\n",
    "    ('ss', StandardScaler())\n",
    "])"
   ]
  },
  {
   "cell_type": "code",
   "execution_count": 15,
   "metadata": {},
   "outputs": [],
   "source": [
    "cat_pipe=Pipeline(steps= [\n",
    "    ('ohe', OneHotEncoder(sparse=False, handle_unknown='ignore'))\n",
    "])"
   ]
  },
  {
   "cell_type": "code",
   "execution_count": 16,
   "metadata": {},
   "outputs": [],
   "source": [
    "coltran= ColumnTransformer(transformers=[\n",
    "    ('zero', zero_pipe , num_columns), \n",
    "    ('cat_pipe', cat_pipe, cat_columns)\n",
    "],remainder= 'passthrough')\n"
   ]
  },
  {
   "cell_type": "code",
   "execution_count": 17,
   "metadata": {},
   "outputs": [
    {
     "data": {
      "text/plain": [
       "ColumnTransformer(remainder='passthrough',\n",
       "                  transformers=[('zero',\n",
       "                                 Pipeline(steps=[('ss', StandardScaler())]),\n",
       "                                 ['amount_tsh', 'gps_height', 'longitude',\n",
       "                                  'latitude', 'district_code', 'population',\n",
       "                                  'construction_year', 'missing']),\n",
       "                                ('cat_pipe',\n",
       "                                 Pipeline(steps=[('ohe',\n",
       "                                                  OneHotEncoder(handle_unknown='ignore',\n",
       "                                                                sparse=False))]),\n",
       "                                 ['basin', 'region', 'lga', 'ward',\n",
       "                                  'extraction_type', 'management', 'payment',\n",
       "                                  'water_quality', 'quantity', 'source_type',\n",
       "                                  'waterpoint_type'])])"
      ]
     },
     "execution_count": 17,
     "metadata": {},
     "output_type": "execute_result"
    }
   ],
   "source": [
    "coltran.fit(X_train)"
   ]
  },
  {
   "cell_type": "code",
   "execution_count": 18,
   "metadata": {},
   "outputs": [],
   "source": [
    "X_cleaned_train= coltran.transform(X_train)"
   ]
  },
  {
   "cell_type": "code",
   "execution_count": 19,
   "metadata": {},
   "outputs": [],
   "source": [
    "X_cleaned_test = coltran.transform(X_test)"
   ]
  },
  {
   "cell_type": "code",
   "execution_count": 20,
   "metadata": {},
   "outputs": [],
   "source": [
    "#the order of the column name has to match the order of the column transformer \n",
    "cat_columns = coltran.named_transformers_['cat_pipe']['ohe'].get_feature_names(cat_columns).tolist()\n",
    "all_columns = num_columns + cat_columns \n",
    "\n",
    "cleaned_df_train = pd.DataFrame(X_cleaned_train, columns=all_columns)\n",
    "cleaned_df_test = pd.DataFrame(X_cleaned_test, columns=all_columns)"
   ]
  },
  {
   "cell_type": "code",
   "execution_count": 21,
   "metadata": {},
   "outputs": [
    {
     "data": {
      "text/html": [
       "<div>\n",
       "<style scoped>\n",
       "    .dataframe tbody tr th:only-of-type {\n",
       "        vertical-align: middle;\n",
       "    }\n",
       "\n",
       "    .dataframe tbody tr th {\n",
       "        vertical-align: top;\n",
       "    }\n",
       "\n",
       "    .dataframe thead th {\n",
       "        text-align: right;\n",
       "    }\n",
       "</style>\n",
       "<table border=\"1\" class=\"dataframe\">\n",
       "  <thead>\n",
       "    <tr style=\"text-align: right;\">\n",
       "      <th></th>\n",
       "      <th>amount_tsh</th>\n",
       "      <th>gps_height</th>\n",
       "      <th>longitude</th>\n",
       "      <th>latitude</th>\n",
       "      <th>district_code</th>\n",
       "      <th>population</th>\n",
       "      <th>construction_year</th>\n",
       "      <th>missing</th>\n",
       "    </tr>\n",
       "  </thead>\n",
       "  <tbody>\n",
       "    <tr>\n",
       "      <th>count</th>\n",
       "      <td>4.752000e+04</td>\n",
       "      <td>4.752000e+04</td>\n",
       "      <td>4.752000e+04</td>\n",
       "      <td>4.752000e+04</td>\n",
       "      <td>4.752000e+04</td>\n",
       "      <td>4.752000e+04</td>\n",
       "      <td>4.752000e+04</td>\n",
       "      <td>4.752000e+04</td>\n",
       "    </tr>\n",
       "    <tr>\n",
       "      <th>mean</th>\n",
       "      <td>8.272823e-16</td>\n",
       "      <td>-1.059440e-15</td>\n",
       "      <td>-3.949796e-16</td>\n",
       "      <td>1.809836e-17</td>\n",
       "      <td>-7.144505e-16</td>\n",
       "      <td>9.017466e-17</td>\n",
       "      <td>1.512819e-15</td>\n",
       "      <td>-1.572456e-15</td>\n",
       "    </tr>\n",
       "    <tr>\n",
       "      <th>std</th>\n",
       "      <td>1.000011e+00</td>\n",
       "      <td>1.000011e+00</td>\n",
       "      <td>1.000011e+00</td>\n",
       "      <td>1.000011e+00</td>\n",
       "      <td>1.000011e+00</td>\n",
       "      <td>1.000011e+00</td>\n",
       "      <td>1.000011e+00</td>\n",
       "      <td>1.000011e+00</td>\n",
       "    </tr>\n",
       "    <tr>\n",
       "      <th>min</th>\n",
       "      <td>-1.006895e-01</td>\n",
       "      <td>-1.057099e+00</td>\n",
       "      <td>-5.201849e+00</td>\n",
       "      <td>-2.020702e+00</td>\n",
       "      <td>-5.837933e-01</td>\n",
       "      <td>-3.882845e-01</td>\n",
       "      <td>-1.369972e+00</td>\n",
       "      <td>-7.020572e-01</td>\n",
       "    </tr>\n",
       "    <tr>\n",
       "      <th>25%</th>\n",
       "      <td>-1.006895e-01</td>\n",
       "      <td>-9.661892e-01</td>\n",
       "      <td>-1.511435e-01</td>\n",
       "      <td>-9.595306e-01</td>\n",
       "      <td>-3.759175e-01</td>\n",
       "      <td>-3.882845e-01</td>\n",
       "      <td>-1.369972e+00</td>\n",
       "      <td>-7.020572e-01</td>\n",
       "    </tr>\n",
       "    <tr>\n",
       "      <th>50%</th>\n",
       "      <td>-1.006895e-01</td>\n",
       "      <td>-4.286700e-01</td>\n",
       "      <td>1.264211e-01</td>\n",
       "      <td>2.327237e-01</td>\n",
       "      <td>-2.719796e-01</td>\n",
       "      <td>-3.342978e-01</td>\n",
       "      <td>7.184756e-01</td>\n",
       "      <td>-7.020572e-01</td>\n",
       "    </tr>\n",
       "    <tr>\n",
       "      <th>75%</th>\n",
       "      <td>-9.287021e-02</td>\n",
       "      <td>9.385769e-01</td>\n",
       "      <td>4.713299e-01</td>\n",
       "      <td>8.087446e-01</td>\n",
       "      <td>-6.410379e-02</td>\n",
       "      <td>7.600142e-02</td>\n",
       "      <td>7.374041e-01</td>\n",
       "      <td>1.424385e+00</td>\n",
       "    </tr>\n",
       "    <tr>\n",
       "      <th>max</th>\n",
       "      <td>1.093699e+02</td>\n",
       "      <td>3.030934e+00</td>\n",
       "      <td>9.557211e-01</td>\n",
       "      <td>1.939939e+00</td>\n",
       "      <td>7.731239e+00</td>\n",
       "      <td>3.265160e+01</td>\n",
       "      <td>7.468684e-01</td>\n",
       "      <td>1.424385e+00</td>\n",
       "    </tr>\n",
       "  </tbody>\n",
       "</table>\n",
       "</div>"
      ],
      "text/plain": [
       "         amount_tsh    gps_height     longitude      latitude  district_code  \\\n",
       "count  4.752000e+04  4.752000e+04  4.752000e+04  4.752000e+04   4.752000e+04   \n",
       "mean   8.272823e-16 -1.059440e-15 -3.949796e-16  1.809836e-17  -7.144505e-16   \n",
       "std    1.000011e+00  1.000011e+00  1.000011e+00  1.000011e+00   1.000011e+00   \n",
       "min   -1.006895e-01 -1.057099e+00 -5.201849e+00 -2.020702e+00  -5.837933e-01   \n",
       "25%   -1.006895e-01 -9.661892e-01 -1.511435e-01 -9.595306e-01  -3.759175e-01   \n",
       "50%   -1.006895e-01 -4.286700e-01  1.264211e-01  2.327237e-01  -2.719796e-01   \n",
       "75%   -9.287021e-02  9.385769e-01  4.713299e-01  8.087446e-01  -6.410379e-02   \n",
       "max    1.093699e+02  3.030934e+00  9.557211e-01  1.939939e+00   7.731239e+00   \n",
       "\n",
       "         population  construction_year       missing  \n",
       "count  4.752000e+04       4.752000e+04  4.752000e+04  \n",
       "mean   9.017466e-17       1.512819e-15 -1.572456e-15  \n",
       "std    1.000011e+00       1.000011e+00  1.000011e+00  \n",
       "min   -3.882845e-01      -1.369972e+00 -7.020572e-01  \n",
       "25%   -3.882845e-01      -1.369972e+00 -7.020572e-01  \n",
       "50%   -3.342978e-01       7.184756e-01 -7.020572e-01  \n",
       "75%    7.600142e-02       7.374041e-01  1.424385e+00  \n",
       "max    3.265160e+01       7.468684e-01  1.424385e+00  "
      ]
     },
     "execution_count": 21,
     "metadata": {},
     "output_type": "execute_result"
    }
   ],
   "source": [
    "cleaned_df_train[num_columns].describe()"
   ]
  },
  {
   "cell_type": "code",
   "execution_count": 22,
   "metadata": {},
   "outputs": [],
   "source": [
    "#with open('cleaned_df_test.pkl', \"wb\") as f:\n",
    "    #pickle.dump(cleaned_df_test , f)\n",
    "    \n",
    "#with open('cleaned_df_train.pkl', \"wb\") as f1:\n",
    "    #pickle.dump(cleaned_df_train, f1)\n",
    "\n",
    "#with open('y_train.pkl', \"wb\") as f3:\n",
    "    #pickle.dump(y_train, f3)\n",
    "\n",
    "#with open('y_test.pkl', \"wb\") as f4:\n",
    "    #pickle.dump(y_test, f4)\n"
   ]
  },
  {
   "cell_type": "markdown",
   "metadata": {},
   "source": [
    "## Dummie model "
   ]
  },
  {
   "cell_type": "code",
   "execution_count": 23,
   "metadata": {},
   "outputs": [
    {
     "data": {
      "text/plain": [
       "0.5430765993265994"
      ]
     },
     "execution_count": 23,
     "metadata": {},
     "output_type": "execute_result"
    }
   ],
   "source": [
    "dummy_clf = DummyClassifier(strategy=\"most_frequent\")\n",
    "dummy_clf.fit(cleaned_df_train, y_train)\n",
    "dummy_clf.score(cleaned_df_train, y_train)"
   ]
  },
  {
   "cell_type": "markdown",
   "metadata": {},
   "source": [
    "# Model 1"
   ]
  },
  {
   "cell_type": "code",
   "execution_count": 24,
   "metadata": {},
   "outputs": [],
   "source": [
    "def evaluate_model(model, X, y):\n",
    "    y_pred = model.predict(X)\n",
    "    print(classification_report(y, y_pred))\n",
    "    plot_confusion_matrix(model, X, y,cmap=\"Blues\")"
   ]
  },
  {
   "cell_type": "code",
   "execution_count": null,
   "metadata": {},
   "outputs": [],
   "source": [
    "dt_pipe= Pipeline(steps= [('col', coltran), ('dt',DecisionTreeClassifier())])\n"
   ]
  },
  {
   "cell_type": "code",
   "execution_count": null,
   "metadata": {},
   "outputs": [],
   "source": [
    "dt_pipe.fit(X_train, y_train)"
   ]
  },
  {
   "cell_type": "code",
   "execution_count": null,
   "metadata": {},
   "outputs": [],
   "source": [
    "score= cross_val_score(dt_pipe, X_train, y_train)"
   ]
  },
  {
   "cell_type": "code",
   "execution_count": null,
   "metadata": {},
   "outputs": [],
   "source": [
    "score.mean()"
   ]
  },
  {
   "cell_type": "code",
   "execution_count": null,
   "metadata": {},
   "outputs": [],
   "source": [
    "dt_pipe.score(X_test, y_test)"
   ]
  },
  {
   "cell_type": "code",
   "execution_count": null,
   "metadata": {},
   "outputs": [],
   "source": [
    "evaluate_model(dt_pipe, X_train, y_train)"
   ]
  },
  {
   "cell_type": "code",
   "execution_count": null,
   "metadata": {},
   "outputs": [],
   "source": [
    "evaluate_model(dt_pipe, X_test, y_test)\n"
   ]
  },
  {
   "cell_type": "markdown",
   "metadata": {},
   "source": [
    "## SMOTE"
   ]
  },
  {
   "cell_type": "code",
   "execution_count": 25,
   "metadata": {},
   "outputs": [],
   "source": [
    "pipe_model = imbpipeline(steps=[\n",
    "    ('col', coltran),\n",
    "    ('smote', SMOTE()),\n",
    "    ('dt', DecisionTreeClassifier())\n",
    "])"
   ]
  },
  {
   "cell_type": "code",
   "execution_count": 26,
   "metadata": {},
   "outputs": [
    {
     "data": {
      "text/plain": [
       "Pipeline(steps=[('col',\n",
       "                 ColumnTransformer(remainder='passthrough',\n",
       "                                   transformers=[('zero',\n",
       "                                                  Pipeline(steps=[('ss',\n",
       "                                                                   StandardScaler())]),\n",
       "                                                  ['amount_tsh', 'gps_height',\n",
       "                                                   'longitude', 'latitude',\n",
       "                                                   'district_code',\n",
       "                                                   'population',\n",
       "                                                   'construction_year',\n",
       "                                                   'missing']),\n",
       "                                                 ('cat_pipe',\n",
       "                                                  Pipeline(steps=[('ohe',\n",
       "                                                                   OneHotEncoder(handle_unknown='ignore',\n",
       "                                                                                 sparse=False))]),\n",
       "                                                  ['basin', 'region', 'lga',\n",
       "                                                   'ward', 'extraction_type',\n",
       "                                                   'management', 'payment',\n",
       "                                                   'water_quality', 'quantity',\n",
       "                                                   'source_type',\n",
       "                                                   'waterpoint_type'])])),\n",
       "                ('smote', SMOTE()), ('dt', DecisionTreeClassifier())])"
      ]
     },
     "execution_count": 26,
     "metadata": {},
     "output_type": "execute_result"
    }
   ],
   "source": [
    "pipe_model.fit(X_train, y_train)"
   ]
  },
  {
   "cell_type": "code",
   "execution_count": 27,
   "metadata": {},
   "outputs": [
    {
     "data": {
      "text/plain": [
       "0.9963594276094276"
      ]
     },
     "execution_count": 27,
     "metadata": {},
     "output_type": "execute_result"
    }
   ],
   "source": [
    "pipe_model.score(X_train, y_train)"
   ]
  },
  {
   "cell_type": "code",
   "execution_count": 28,
   "metadata": {},
   "outputs": [
    {
     "name": "stdout",
     "output_type": "stream",
     "text": [
      "              precision    recall  f1-score   support\n",
      "\n",
      "           0       1.00      1.00      1.00     25807\n",
      "           1       0.97      0.99      0.98      3454\n",
      "           2       1.00      1.00      1.00     18259\n",
      "\n",
      "    accuracy                           1.00     47520\n",
      "   macro avg       0.99      0.99      0.99     47520\n",
      "weighted avg       1.00      1.00      1.00     47520\n",
      "\n"
     ]
    },
    {
     "data": {
      "image/png": "[encoded data removed]",
      "text/plain": [
       "<Figure size 432x288 with 2 Axes>"
      ]
     },
     "metadata": {
      "needs_background": "light"
     },
     "output_type": "display_data"
    }
   ],
   "source": [
    "evaluate_model(pipe_model, X_train, y_train)"
   ]
  },
  {
   "cell_type": "code",
   "execution_count": 29,
   "metadata": {
    "scrolled": true
   },
   "outputs": [
    {
     "name": "stdout",
     "output_type": "stream",
     "text": [
      "              precision    recall  f1-score   support\n",
      "\n",
      "           0       0.81      0.79      0.80      6452\n",
      "           1       0.35      0.44      0.39       863\n",
      "           2       0.78      0.77      0.77      4565\n",
      "\n",
      "    accuracy                           0.75     11880\n",
      "   macro avg       0.65      0.67      0.65     11880\n",
      "weighted avg       0.76      0.75      0.76     11880\n",
      "\n"
     ]
    },
    {
     "data": {
      "image/png": "[encoded data removed]",
      "text/plain": [
       "<Figure size 432x288 with 2 Axes>"
      ]
     },
     "metadata": {
      "needs_background": "light"
     },
     "output_type": "display_data"
    }
   ],
   "source": [
    "evaluate_model(pipe_model, X_test, y_test)"
   ]
  },
  {
   "cell_type": "code",
   "execution_count": 30,
   "metadata": {
    "scrolled": true
   },
   "outputs": [
    {
     "name": "stdout",
     "output_type": "stream",
     "text": [
      "Fitting 5 folds for each of 6 candidates, totalling 30 fits\n",
      "[CV] END .............dt__criterion=gini, dt__max_depth=None; total time=  34.9s\n",
      "[CV] END .............dt__criterion=gini, dt__max_depth=None; total time=  35.8s\n",
      "[CV] END .............dt__criterion=gini, dt__max_depth=None; total time=  34.1s\n",
      "[CV] END .............dt__criterion=gini, dt__max_depth=None; total time=  33.5s\n",
      "[CV] END .............dt__criterion=gini, dt__max_depth=None; total time=  32.8s\n",
      "[CV] END ................dt__criterion=gini, dt__max_depth=5; total time=  23.0s\n",
      "[CV] END ................dt__criterion=gini, dt__max_depth=5; total time=  23.7s\n",
      "[CV] END ................dt__criterion=gini, dt__max_depth=5; total time=  23.4s\n",
      "[CV] END ................dt__criterion=gini, dt__max_depth=5; total time=  23.5s\n",
      "[CV] END ................dt__criterion=gini, dt__max_depth=5; total time=  23.3s\n",
      "[CV] END ................dt__criterion=gini, dt__max_depth=9; total time=  28.5s\n",
      "[CV] END ................dt__criterion=gini, dt__max_depth=9; total time=  27.3s\n",
      "[CV] END ................dt__criterion=gini, dt__max_depth=9; total time=  27.5s\n",
      "[CV] END ................dt__criterion=gini, dt__max_depth=9; total time=  27.3s\n",
      "[CV] END ................dt__criterion=gini, dt__max_depth=9; total time=  27.1s\n",
      "[CV] END ..........dt__criterion=entropy, dt__max_depth=None; total time=  29.4s\n",
      "[CV] END ..........dt__criterion=entropy, dt__max_depth=None; total time=  29.2s\n",
      "[CV] END ..........dt__criterion=entropy, dt__max_depth=None; total time=  28.1s\n",
      "[CV] END ..........dt__criterion=entropy, dt__max_depth=None; total time=  28.8s\n",
      "[CV] END ..........dt__criterion=entropy, dt__max_depth=None; total time=  29.3s\n",
      "[CV] END .............dt__criterion=entropy, dt__max_depth=5; total time=  23.4s\n",
      "[CV] END .............dt__criterion=entropy, dt__max_depth=5; total time=  23.6s\n",
      "[CV] END .............dt__criterion=entropy, dt__max_depth=5; total time=  23.5s\n",
      "[CV] END .............dt__criterion=entropy, dt__max_depth=5; total time=  23.2s\n",
      "[CV] END .............dt__criterion=entropy, dt__max_depth=5; total time=  22.9s\n",
      "[CV] END .............dt__criterion=entropy, dt__max_depth=9; total time=  25.2s\n",
      "[CV] END .............dt__criterion=entropy, dt__max_depth=9; total time=  25.5s\n",
      "[CV] END .............dt__criterion=entropy, dt__max_depth=9; total time=  25.8s\n",
      "[CV] END .............dt__criterion=entropy, dt__max_depth=9; total time=  25.6s\n",
      "[CV] END .............dt__criterion=entropy, dt__max_depth=9; total time=  25.7s\n"
     ]
    },
    {
     "ename": "NameError",
     "evalue": "name 'basegrid' is not defined",
     "output_type": "error",
     "traceback": [
      "\u001b[0;31m---------------------------------------------------------------------------\u001b[0m",
      "\u001b[0;31mNameError\u001b[0m                                 Traceback (most recent call last)",
      "\u001b[0;32m<ipython-input-30-d7af4a24acb9>\u001b[0m in \u001b[0;36m<module>\u001b[0;34m\u001b[0m\n\u001b[1;32m      6\u001b[0m \u001b[0mgrid\u001b[0m\u001b[0;34m.\u001b[0m\u001b[0mfit\u001b[0m\u001b[0;34m(\u001b[0m\u001b[0mX_train\u001b[0m\u001b[0;34m,\u001b[0m \u001b[0my_train\u001b[0m\u001b[0;34m)\u001b[0m\u001b[0;34m\u001b[0m\u001b[0;34m\u001b[0m\u001b[0m\n\u001b[1;32m      7\u001b[0m \u001b[0;34m\u001b[0m\u001b[0m\n\u001b[0;32m----> 8\u001b[0;31m \u001b[0mbasegrid\u001b[0m\u001b[0;34m.\u001b[0m\u001b[0mbest_params_\u001b[0m\u001b[0;34m\u001b[0m\u001b[0;34m\u001b[0m\u001b[0m\n\u001b[0m",
      "\u001b[0;31mNameError\u001b[0m: name 'basegrid' is not defined"
     ]
    }
   ],
   "source": [
    "param_grid = {'dt__criterion' :['gini', 'entropy'],\n",
    "    'dt__max_depth': [None, 5, 9]\n",
    "}\n",
    "\n",
    "grid = GridSearchCV(pipe_model, param_grid, scoring='f1_macro', verbose=2)\n",
    "grid.fit(X_train, y_train)\n",
    "\n",
    "basegrid.best_params_"
   ]
  },
  {
   "cell_type": "code",
   "execution_count": 31,
   "metadata": {},
   "outputs": [
    {
     "data": {
      "text/html": [
       "<div>\n",
       "<style scoped>\n",
       "    .dataframe tbody tr th:only-of-type {\n",
       "        vertical-align: middle;\n",
       "    }\n",
       "\n",
       "    .dataframe tbody tr th {\n",
       "        vertical-align: top;\n",
       "    }\n",
       "\n",
       "    .dataframe thead th {\n",
       "        text-align: right;\n",
       "    }\n",
       "</style>\n",
       "<table border=\"1\" class=\"dataframe\">\n",
       "  <thead>\n",
       "    <tr style=\"text-align: right;\">\n",
       "      <th></th>\n",
       "      <th>mean_fit_time</th>\n",
       "      <th>std_fit_time</th>\n",
       "      <th>mean_score_time</th>\n",
       "      <th>std_score_time</th>\n",
       "      <th>param_dt__criterion</th>\n",
       "      <th>param_dt__max_depth</th>\n",
       "      <th>params</th>\n",
       "      <th>split0_test_score</th>\n",
       "      <th>split1_test_score</th>\n",
       "      <th>split2_test_score</th>\n",
       "      <th>split3_test_score</th>\n",
       "      <th>split4_test_score</th>\n",
       "      <th>mean_test_score</th>\n",
       "      <th>std_test_score</th>\n",
       "      <th>rank_test_score</th>\n",
       "    </tr>\n",
       "  </thead>\n",
       "  <tbody>\n",
       "    <tr>\n",
       "      <th>0</th>\n",
       "      <td>34.041824</td>\n",
       "      <td>1.035570</td>\n",
       "      <td>0.180058</td>\n",
       "      <td>0.003267</td>\n",
       "      <td>gini</td>\n",
       "      <td>None</td>\n",
       "      <td>{'dt__criterion': 'gini', 'dt__max_depth': None}</td>\n",
       "      <td>0.646972</td>\n",
       "      <td>0.648218</td>\n",
       "      <td>0.645227</td>\n",
       "      <td>0.652342</td>\n",
       "      <td>0.657427</td>\n",
       "      <td>0.650037</td>\n",
       "      <td>0.004377</td>\n",
       "      <td>1</td>\n",
       "    </tr>\n",
       "    <tr>\n",
       "      <th>1</th>\n",
       "      <td>23.227213</td>\n",
       "      <td>0.249873</td>\n",
       "      <td>0.178736</td>\n",
       "      <td>0.003829</td>\n",
       "      <td>gini</td>\n",
       "      <td>5</td>\n",
       "      <td>{'dt__criterion': 'gini', 'dt__max_depth': 5}</td>\n",
       "      <td>0.477457</td>\n",
       "      <td>0.470445</td>\n",
       "      <td>0.478401</td>\n",
       "      <td>0.464503</td>\n",
       "      <td>0.473101</td>\n",
       "      <td>0.472782</td>\n",
       "      <td>0.005050</td>\n",
       "      <td>5</td>\n",
       "    </tr>\n",
       "    <tr>\n",
       "      <th>2</th>\n",
       "      <td>27.321712</td>\n",
       "      <td>0.505930</td>\n",
       "      <td>0.185262</td>\n",
       "      <td>0.006727</td>\n",
       "      <td>gini</td>\n",
       "      <td>9</td>\n",
       "      <td>{'dt__criterion': 'gini', 'dt__max_depth': 9}</td>\n",
       "      <td>0.556896</td>\n",
       "      <td>0.554866</td>\n",
       "      <td>0.549135</td>\n",
       "      <td>0.544722</td>\n",
       "      <td>0.554462</td>\n",
       "      <td>0.552016</td>\n",
       "      <td>0.004459</td>\n",
       "      <td>3</td>\n",
       "    </tr>\n",
       "    <tr>\n",
       "      <th>3</th>\n",
       "      <td>28.779892</td>\n",
       "      <td>0.490389</td>\n",
       "      <td>0.180752</td>\n",
       "      <td>0.003208</td>\n",
       "      <td>entropy</td>\n",
       "      <td>None</td>\n",
       "      <td>{'dt__criterion': 'entropy', 'dt__max_depth': ...</td>\n",
       "      <td>0.638755</td>\n",
       "      <td>0.648861</td>\n",
       "      <td>0.649567</td>\n",
       "      <td>0.650777</td>\n",
       "      <td>0.652310</td>\n",
       "      <td>0.648054</td>\n",
       "      <td>0.004795</td>\n",
       "      <td>2</td>\n",
       "    </tr>\n",
       "    <tr>\n",
       "      <th>4</th>\n",
       "      <td>23.142414</td>\n",
       "      <td>0.236994</td>\n",
       "      <td>0.179432</td>\n",
       "      <td>0.004677</td>\n",
       "      <td>entropy</td>\n",
       "      <td>5</td>\n",
       "      <td>{'dt__criterion': 'entropy', 'dt__max_depth': 5}</td>\n",
       "      <td>0.475528</td>\n",
       "      <td>0.441979</td>\n",
       "      <td>0.449994</td>\n",
       "      <td>0.469568</td>\n",
       "      <td>0.474952</td>\n",
       "      <td>0.462404</td>\n",
       "      <td>0.013800</td>\n",
       "      <td>6</td>\n",
       "    </tr>\n",
       "    <tr>\n",
       "      <th>5</th>\n",
       "      <td>25.375212</td>\n",
       "      <td>0.197578</td>\n",
       "      <td>0.176509</td>\n",
       "      <td>0.001661</td>\n",
       "      <td>entropy</td>\n",
       "      <td>9</td>\n",
       "      <td>{'dt__criterion': 'entropy', 'dt__max_depth': 9}</td>\n",
       "      <td>0.552231</td>\n",
       "      <td>0.539025</td>\n",
       "      <td>0.556936</td>\n",
       "      <td>0.557184</td>\n",
       "      <td>0.538459</td>\n",
       "      <td>0.548767</td>\n",
       "      <td>0.008375</td>\n",
       "      <td>4</td>\n",
       "    </tr>\n",
       "  </tbody>\n",
       "</table>\n",
       "</div>"
      ],
      "text/plain": [
       "   mean_fit_time  std_fit_time  mean_score_time  std_score_time  \\\n",
       "0      34.041824      1.035570         0.180058        0.003267   \n",
       "1      23.227213      0.249873         0.178736        0.003829   \n",
       "2      27.321712      0.505930         0.185262        0.006727   \n",
       "3      28.779892      0.490389         0.180752        0.003208   \n",
       "4      23.142414      0.236994         0.179432        0.004677   \n",
       "5      25.375212      0.197578         0.176509        0.001661   \n",
       "\n",
       "  param_dt__criterion param_dt__max_depth  \\\n",
       "0                gini                None   \n",
       "1                gini                   5   \n",
       "2                gini                   9   \n",
       "3             entropy                None   \n",
       "4             entropy                   5   \n",
       "5             entropy                   9   \n",
       "\n",
       "                                              params  split0_test_score  \\\n",
       "0   {'dt__criterion': 'gini', 'dt__max_depth': None}           0.646972   \n",
       "1      {'dt__criterion': 'gini', 'dt__max_depth': 5}           0.477457   \n",
       "2      {'dt__criterion': 'gini', 'dt__max_depth': 9}           0.556896   \n",
       "3  {'dt__criterion': 'entropy', 'dt__max_depth': ...           0.638755   \n",
       "4   {'dt__criterion': 'entropy', 'dt__max_depth': 5}           0.475528   \n",
       "5   {'dt__criterion': 'entropy', 'dt__max_depth': 9}           0.552231   \n",
       "\n",
       "   split1_test_score  split2_test_score  split3_test_score  split4_test_score  \\\n",
       "0           0.648218           0.645227           0.652342           0.657427   \n",
       "1           0.470445           0.478401           0.464503           0.473101   \n",
       "2           0.554866           0.549135           0.544722           0.554462   \n",
       "3           0.648861           0.649567           0.650777           0.652310   \n",
       "4           0.441979           0.449994           0.469568           0.474952   \n",
       "5           0.539025           0.556936           0.557184           0.538459   \n",
       "\n",
       "   mean_test_score  std_test_score  rank_test_score  \n",
       "0         0.650037        0.004377                1  \n",
       "1         0.472782        0.005050                5  \n",
       "2         0.552016        0.004459                3  \n",
       "3         0.648054        0.004795                2  \n",
       "4         0.462404        0.013800                6  \n",
       "5         0.548767        0.008375                4  "
      ]
     },
     "execution_count": 31,
     "metadata": {},
     "output_type": "execute_result"
    }
   ],
   "source": [
    "pd.DataFrame(grid.cv_results_)"
   ]
  },
  {
   "cell_type": "code",
   "execution_count": 32,
   "metadata": {
    "scrolled": true
   },
   "outputs": [
    {
     "data": {
      "text/plain": [
       "Pipeline(steps=[('col',\n",
       "                 ColumnTransformer(remainder='passthrough',\n",
       "                                   transformers=[('zero',\n",
       "                                                  Pipeline(steps=[('ss',\n",
       "                                                                   StandardScaler())]),\n",
       "                                                  ['amount_tsh', 'gps_height',\n",
       "                                                   'longitude', 'latitude',\n",
       "                                                   'district_code',\n",
       "                                                   'population',\n",
       "                                                   'construction_year',\n",
       "                                                   'missing']),\n",
       "                                                 ('cat_pipe',\n",
       "                                                  Pipeline(steps=[('ohe',\n",
       "                                                                   OneHotEncoder(handle_unknown='ignore',\n",
       "                                                                                 sparse=False))]),\n",
       "                                                  ['basin', 'region', 'lga',\n",
       "                                                   'ward', 'extraction_type',\n",
       "                                                   'management', 'payment',\n",
       "                                                   'water_quality', 'quantity',\n",
       "                                                   'source_type',\n",
       "                                                   'waterpoint_type'])])),\n",
       "                ('smote', SMOTE()), ('dt', DecisionTreeClassifier())])"
      ]
     },
     "execution_count": 32,
     "metadata": {},
     "output_type": "execute_result"
    }
   ],
   "source": [
    "best_model = grid.best_estimator_\n",
    "best_model.fit(X_train, y_train)"
   ]
  },
  {
   "cell_type": "code",
   "execution_count": 33,
   "metadata": {},
   "outputs": [
    {
     "name": "stdout",
     "output_type": "stream",
     "text": [
      "              precision    recall  f1-score   support\n",
      "\n",
      "           0       0.81      0.78      0.80      6452\n",
      "           1       0.36      0.44      0.40       863\n",
      "           2       0.77      0.77      0.77      4565\n",
      "\n",
      "    accuracy                           0.75     11880\n",
      "   macro avg       0.65      0.66      0.65     11880\n",
      "weighted avg       0.76      0.75      0.76     11880\n",
      "\n"
     ]
    },
    {
     "data": {
      "image/png": "[encoded data removed]",
      "text/plain": [
       "<Figure size 432x288 with 2 Axes>"
      ]
     },
     "metadata": {
      "needs_background": "light"
     },
     "output_type": "display_data"
    }
   ],
   "source": [
    "evaluate_model(best_model, X_test, y_test)"
   ]
  },
  {
   "cell_type": "code",
   "execution_count": null,
   "metadata": {},
   "outputs": [],
   "source": [
    "0.8 *6452/11880+0.4*863/11880+0.77*4565/11880"
   ]
  },
  {
   "cell_type": "code",
   "execution_count": 34,
   "metadata": {},
   "outputs": [
    {
     "data": {
      "image/png": "[encoded data removed]",
      "text/plain": [
       "<Figure size 432x288 with 1 Axes>"
      ]
     },
     "metadata": {
      "needs_background": "light"
     },
     "output_type": "display_data"
    }
   ],
   "source": [
    "fig, axes = plt.subplots()\n",
    "plot_tree(best_model['dt'])\n",
    "plt.show()"
   ]
  },
  {
   "cell_type": "code",
   "execution_count": 35,
   "metadata": {},
   "outputs": [],
   "source": [
    "cat_columns= [col for col in X.columns if X[col].dtype in ['object']]\n",
    "\n",
    "cat_ohe_cols = best_model.named_steps['col'].named_transformers_['cat_pipe']['ohe'].get_feature_names(cat_columns).tolist()"
   ]
  },
  {
   "cell_type": "code",
   "execution_count": 36,
   "metadata": {},
   "outputs": [
    {
     "data": {
      "image/png": "[encoded data removed]",
      "text/plain": [
       "<Figure size 432x288 with 1 Axes>"
      ]
     },
     "metadata": {
      "needs_background": "light"
     },
     "output_type": "display_data"
    }
   ],
   "source": [
    "feat_cols = num_columns+ cat_ohe_cols \n",
    "\n",
    "X_train_tf = pd.DataFrame(best_model.named_steps['col'].fit_transform(X_train), columns=all_columns)\n",
    "\n",
    "\n",
    "important_feats = pd.Series(best_model.named_steps['dt'].feature_importances_, \n",
    "                           index=feat_cols)\n",
    "\n",
    "important_feats.sort_values(ascending=False)[:5]\n",
    "\n",
    "top_feats = important_feats.sort_values(ascending=False).head(10)\n",
    "plt.Figure(figsize=(5, 5))\n",
    "top_feats.sort_values().plot(kind='barh')\n",
    "plt.xlabel('Level of importance')\n",
    "plt.ylabel('Features')\n",
    "plt.title('Best Features');"
   ]
  },
  {
   "cell_type": "markdown",
   "metadata": {},
   "source": [
    "# Feature Selection"
   ]
  },
  {
   "cell_type": "markdown",
   "metadata": {},
   "source": [
    "## Variance Threshold filtering method "
   ]
  },
  {
   "cell_type": "code",
   "execution_count": 37,
   "metadata": {},
   "outputs": [
    {
     "name": "stdout",
     "output_type": "stream",
     "text": [
      "0.9971801346801347\n",
      "0.7589225589225589\n",
      "\n",
      "\n",
      "0.9913720538720538\n",
      "0.7307239057239058\n",
      "\n",
      "\n",
      "0.9859848484848485\n",
      "0.6677609427609428\n",
      "\n",
      "\n",
      "0.9859848484848485\n",
      "0.6695286195286195\n",
      "\n",
      "\n",
      "0.9859848484848485\n",
      "0.6705387205387205\n",
      "\n",
      "\n",
      "0.9836700336700337\n",
      "0.5820707070707071\n",
      "\n",
      "\n"
     ]
    }
   ],
   "source": [
    "threshold_ranges= np.linspace(0,1, num=6)\n",
    "\n",
    "for thresh in threshold_ranges:\n",
    "    selector = VarianceThreshold(thresh)\n",
    "    reduce_featrue_train= selector.fit_transform(cleaned_df_train)\n",
    "    reduce_featrue_test= selector.transform(cleaned_df_test)\n",
    "    base2 = DecisionTreeClassifier()\n",
    "    base2.fit(reduce_featrue_train, y_train)\n",
    "    print(base2.score(reduce_featrue_train, y_train))\n",
    "    print(base2.score(reduce_featrue_test, y_test))\n",
    "    print(\"\\n\")\n",
    "   "
   ]
  },
  {
   "cell_type": "code",
   "execution_count": null,
   "metadata": {},
   "outputs": [],
   "source": [
    "reduce_featrue_train"
   ]
  },
  {
   "cell_type": "markdown",
   "metadata": {},
   "source": [
    "> overfitting "
   ]
  },
  {
   "cell_type": "code",
   "execution_count": 38,
   "metadata": {},
   "outputs": [
    {
     "data": {
      "text/html": [
       "<div>\n",
       "<style scoped>\n",
       "    .dataframe tbody tr th:only-of-type {\n",
       "        vertical-align: middle;\n",
       "    }\n",
       "\n",
       "    .dataframe tbody tr th {\n",
       "        vertical-align: top;\n",
       "    }\n",
       "\n",
       "    .dataframe thead th {\n",
       "        text-align: right;\n",
       "    }\n",
       "</style>\n",
       "<table border=\"1\" class=\"dataframe\">\n",
       "  <thead>\n",
       "    <tr style=\"text-align: right;\">\n",
       "      <th></th>\n",
       "      <th>gps_height</th>\n",
       "      <th>longitude</th>\n",
       "      <th>population</th>\n",
       "      <th>missing</th>\n",
       "    </tr>\n",
       "  </thead>\n",
       "  <tbody>\n",
       "    <tr>\n",
       "      <th>0</th>\n",
       "      <td>-0.966189</td>\n",
       "      <td>-0.082347</td>\n",
       "      <td>-0.388285</td>\n",
       "      <td>1.424385</td>\n",
       "    </tr>\n",
       "    <tr>\n",
       "      <th>1</th>\n",
       "      <td>1.990527</td>\n",
       "      <td>0.089031</td>\n",
       "      <td>-0.010377</td>\n",
       "      <td>-0.702057</td>\n",
       "    </tr>\n",
       "    <tr>\n",
       "      <th>2</th>\n",
       "      <td>-0.547718</td>\n",
       "      <td>0.634332</td>\n",
       "      <td>4.578495</td>\n",
       "      <td>-0.702057</td>\n",
       "    </tr>\n",
       "    <tr>\n",
       "      <th>3</th>\n",
       "      <td>-0.966189</td>\n",
       "      <td>-0.513692</td>\n",
       "      <td>-0.388285</td>\n",
       "      <td>1.424385</td>\n",
       "    </tr>\n",
       "    <tr>\n",
       "      <th>4</th>\n",
       "      <td>-0.966189</td>\n",
       "      <td>0.199466</td>\n",
       "      <td>-0.388285</td>\n",
       "      <td>1.424385</td>\n",
       "    </tr>\n",
       "    <tr>\n",
       "      <th>...</th>\n",
       "      <td>...</td>\n",
       "      <td>...</td>\n",
       "      <td>...</td>\n",
       "      <td>...</td>\n",
       "    </tr>\n",
       "    <tr>\n",
       "      <th>47515</th>\n",
       "      <td>-0.260560</td>\n",
       "      <td>0.638912</td>\n",
       "      <td>2.419026</td>\n",
       "      <td>-0.702057</td>\n",
       "    </tr>\n",
       "    <tr>\n",
       "      <th>47516</th>\n",
       "      <td>-0.966189</td>\n",
       "      <td>-0.023830</td>\n",
       "      <td>-0.388285</td>\n",
       "      <td>1.424385</td>\n",
       "    </tr>\n",
       "    <tr>\n",
       "      <th>47517</th>\n",
       "      <td>-0.101829</td>\n",
       "      <td>0.790675</td>\n",
       "      <td>-0.386125</td>\n",
       "      <td>-0.702057</td>\n",
       "    </tr>\n",
       "    <tr>\n",
       "      <th>47518</th>\n",
       "      <td>-0.351469</td>\n",
       "      <td>0.803744</td>\n",
       "      <td>0.302746</td>\n",
       "      <td>-0.702057</td>\n",
       "    </tr>\n",
       "    <tr>\n",
       "      <th>47519</th>\n",
       "      <td>-0.243244</td>\n",
       "      <td>0.531094</td>\n",
       "      <td>-0.193932</td>\n",
       "      <td>-0.702057</td>\n",
       "    </tr>\n",
       "  </tbody>\n",
       "</table>\n",
       "<p>47520 rows × 4 columns</p>\n",
       "</div>"
      ],
      "text/plain": [
       "       gps_height  longitude  population   missing\n",
       "0       -0.966189  -0.082347   -0.388285  1.424385\n",
       "1        1.990527   0.089031   -0.010377 -0.702057\n",
       "2       -0.547718   0.634332    4.578495 -0.702057\n",
       "3       -0.966189  -0.513692   -0.388285  1.424385\n",
       "4       -0.966189   0.199466   -0.388285  1.424385\n",
       "...           ...        ...         ...       ...\n",
       "47515   -0.260560   0.638912    2.419026 -0.702057\n",
       "47516   -0.966189  -0.023830   -0.388285  1.424385\n",
       "47517   -0.101829   0.790675   -0.386125 -0.702057\n",
       "47518   -0.351469   0.803744    0.302746 -0.702057\n",
       "47519   -0.243244   0.531094   -0.193932 -0.702057\n",
       "\n",
       "[47520 rows x 4 columns]"
      ]
     },
     "execution_count": 38,
     "metadata": {},
     "output_type": "execute_result"
    }
   ],
   "source": [
    "cleaned_df_train[cleaned_df_train.columns[selector.get_support(indices=True)]] "
   ]
  },
  {
   "cell_type": "markdown",
   "metadata": {},
   "source": [
    "## Tree Pruning "
   ]
  },
  {
   "cell_type": "code",
   "execution_count": 39,
   "metadata": {},
   "outputs": [],
   "source": [
    "clf = DecisionTreeClassifier()"
   ]
  },
  {
   "cell_type": "code",
   "execution_count": 40,
   "metadata": {},
   "outputs": [],
   "source": [
    "path = clf.cost_complexity_pruning_path(reduce_featrue_train, y_train)"
   ]
  },
  {
   "cell_type": "code",
   "execution_count": 41,
   "metadata": {},
   "outputs": [],
   "source": [
    "ccp_alphas = path.ccp_alphas"
   ]
  },
  {
   "cell_type": "code",
   "execution_count": 42,
   "metadata": {},
   "outputs": [],
   "source": [
    "ccp_alphas = ccp_alphas[:-1]"
   ]
  },
  {
   "cell_type": "code",
   "execution_count": 43,
   "metadata": {},
   "outputs": [],
   "source": [
    "clfs= []"
   ]
  },
  {
   "cell_type": "code",
   "execution_count": 44,
   "metadata": {},
   "outputs": [
    {
     "name": "stdout",
     "output_type": "stream",
     "text": [
      "Number of nodes in the last tree is: 5 with ccp_alpha: 0.0028112996843502325\n"
     ]
    }
   ],
   "source": [
    "for ccp_alpha in ccp_alphas: \n",
    "    clf =DecisionTreeClassifier(random_state =0, ccp_alpha= ccp_alpha)\n",
    "    clf.fit(reduce_featrue_train, y_train)\n",
    "    clfs.append(clf)\n",
    "print(\"Number of nodes in the last tree is: {} with ccp_alpha: {}\".format(clfs[-1].tree_.node_count, ccp_alphas[-1]))"
   ]
  },
  {
   "cell_type": "code",
   "execution_count": 46,
   "metadata": {},
   "outputs": [
    {
     "data": {
      "image/png": "[encoded data removed]",
      "text/plain": [
       "<Figure size 432x288 with 1 Axes>"
      ]
     },
     "metadata": {
      "needs_background": "light"
     },
     "output_type": "display_data"
    }
   ],
   "source": [
    "train_scores = [clf.score(reduce_featrue_train, y_train) for clf in clfs]\n",
    "test_scores = [clf.score(reduce_featrue_test, y_test) for clf in clfs]\n",
    "\n",
    "fig, ax = plt.subplots()\n",
    "ax.set_xlabel(\"alpha\")\n",
    "ax.set_ylabel(\"accuracy\")\n",
    "ax.set_title(\"Accuracy vs alpha for training and testing sets\")\n",
    "ax.plot(ccp_alphas, train_scores, marker='o', label=\"train\",\n",
    "        drawstyle=\"steps-post\")\n",
    "ax.plot(ccp_alphas, test_scores, marker='o', label=\"test\",\n",
    "        drawstyle=\"steps-post\")\n",
    "ax.legend()\n",
    "plt.show()"
   ]
  },
  {
   "cell_type": "code",
   "execution_count": 66,
   "metadata": {},
   "outputs": [],
   "source": [
    "\n"
   ]
  },
  {
   "cell_type": "code",
   "execution_count": 103,
   "metadata": {},
   "outputs": [],
   "source": [
    "ideal_ccp_alpha= alpha_results[(alpha_results['alpha']>0.0001)&((alpha_results['alpha']< 0.00012))]['alpha']"
   ]
  },
  {
   "cell_type": "code",
   "execution_count": 105,
   "metadata": {},
   "outputs": [
    {
     "data": {
      "text/plain": [
       "6639    0.000110\n",
       "6640    0.000110\n",
       "6641    0.000111\n",
       "6642    0.000111\n",
       "6643    0.000111\n",
       "6644    0.000112\n",
       "6645    0.000112\n",
       "6646    0.000112\n",
       "6647    0.000112\n",
       "6648    0.000112\n",
       "6649    0.000113\n",
       "6650    0.000113\n",
       "6651    0.000113\n",
       "6652    0.000113\n",
       "6653    0.000114\n",
       "6654    0.000114\n",
       "6655    0.000114\n",
       "6656    0.000114\n",
       "6657    0.000115\n",
       "6658    0.000116\n",
       "6659    0.000116\n",
       "6660    0.000117\n",
       "6661    0.000117\n",
       "6662    0.000118\n",
       "6663    0.000119\n",
       "6664    0.000119\n",
       "Name: alpha, dtype: float64"
      ]
     },
     "execution_count": 105,
     "metadata": {},
     "output_type": "execute_result"
    }
   ],
   "source": [
    "ideal_ccp_alpha"
   ]
  },
  {
   "cell_type": "code",
   "execution_count": 120,
   "metadata": {},
   "outputs": [],
   "source": [
    "clf_pruned = DecisionTreeClassifier(random_state = 42, ccp_alpha= 0.000110)\n",
    "clf_pruned = clf_pruned.fit(reduce_featrue_train, y_train)"
   ]
  },
  {
   "cell_type": "code",
   "execution_count": 107,
   "metadata": {},
   "outputs": [
    {
     "data": {
      "text/plain": [
       "[Text(197.23094835739744, 214.33371428571428, 'X[0] <= 0.984\\ngini = 0.552\\nsamples = 11880\\nvalue = [6452, 863, 4565]'),\n",
       " Text(116.54947850944515, 208.12114285714284, 'X[1] <= 0.525\\ngini = 0.562\\nsamples = 9134\\nvalue = [4679, 693, 3762]'),\n",
       " Text(44.62682729160388, 201.90857142857143, 'X[1] <= -0.62\\ngini = 0.564\\nsamples = 6873\\nvalue = [3658, 593, 2622]'),\n",
       " Text(2.7660388729847822, 195.696, 'X[1] <= -0.676\\ngini = 0.646\\nsamples = 516\\nvalue = [233, 137, 146]'),\n",
       " Text(1.816001205363869, 189.48342857142856, 'X[2] <= 0.314\\ngini = 0.629\\nsamples = 384\\nvalue = [186, 84, 114]'),\n",
       " Text(1.546963989754407, 183.27085714285715, 'X[2] <= -0.037\\ngini = 0.628\\nsamples = 380\\nvalue = [186, 84, 110]'),\n",
       " Text(1.277926774144945, 177.05828571428572, 'gini = 0.632\\nsamples = 373\\nvalue = [179, 84, 110]'),\n",
       " Text(1.816001205363869, 177.05828571428572, 'gini = 0.0\\nsamples = 7\\nvalue = [7, 0, 0]'),\n",
       " Text(2.0850384209733313, 183.27085714285715, 'gini = 0.0\\nsamples = 4\\nvalue = [0, 0, 4]'),\n",
       " Text(3.716076540605695, 189.48342857142856, 'X[1] <= -0.664\\ngini = 0.653\\nsamples = 132\\nvalue = [47, 53, 32]'),\n",
       " Text(2.6231128521922553, 183.27085714285715, 'X[1] <= -0.668\\ngini = 0.615\\nsamples = 45\\nvalue = [7, 21, 17]'),\n",
       " Text(2.354075636582793, 177.05828571428572, 'X[1] <= -0.675\\ngini = 0.63\\nsamples = 37\\nvalue = [7, 13, 17]'),\n",
       " Text(2.0850384209733313, 170.84571428571428, 'gini = 0.0\\nsamples = 7\\nvalue = [0, 7, 0]'),\n",
       " Text(2.6231128521922553, 170.84571428571428, 'X[2] <= 2.829\\ngini = 0.584\\nsamples = 30\\nvalue = [7, 6, 17]'),\n",
       " Text(2.354075636582793, 164.63314285714284, 'X[0] <= 0.547\\ngini = 0.554\\nsamples = 28\\nvalue = [5, 6, 17]'),\n",
       " Text(1.4797046858520415, 158.42057142857144, 'X[1] <= -0.673\\ngini = 0.483\\nsamples = 25\\nvalue = [3, 5, 17]'),\n",
       " Text(0.5380744312189242, 152.208, 'X[1] <= -0.675\\ngini = 0.5\\nsamples = 6\\nvalue = [0, 3, 3]'),\n",
       " Text(0.2690372156094621, 145.99542857142856, 'gini = 0.0\\nsamples = 2\\nvalue = [0, 0, 2]'),\n",
       " Text(0.8071116468283863, 145.99542857142856, 'X[0] <= 0.242\\ngini = 0.375\\nsamples = 4\\nvalue = [0, 3, 1]'),\n",
       " Text(0.5380744312189242, 139.78285714285715, 'gini = 0.0\\nsamples = 1\\nvalue = [0, 0, 1]'),\n",
       " Text(1.0761488624378484, 139.78285714285715, 'gini = 0.0\\nsamples = 3\\nvalue = [0, 3, 0]'),\n",
       " Text(2.421334940485159, 152.208, 'X[0] <= 0.239\\ngini = 0.421\\nsamples = 19\\nvalue = [3, 2, 14]'),\n",
       " Text(1.8832605092662347, 145.99542857142856, 'X[0] <= 0.234\\ngini = 0.653\\nsamples = 7\\nvalue = [2, 2, 3]'),\n",
       " Text(1.6142232936567726, 139.78285714285715, 'gini = 0.48\\nsamples = 5\\nvalue = [2, 0, 3]'),\n",
       " Text(2.1522977248756967, 139.78285714285715, 'gini = 0.0\\nsamples = 2\\nvalue = [0, 2, 0]'),\n",
       " Text(2.959409371704083, 145.99542857142856, 'X[1] <= -0.673\\ngini = 0.153\\nsamples = 12\\nvalue = [1, 0, 11]'),\n",
       " Text(2.6903721560946208, 139.78285714285715, 'gini = 0.0\\nsamples = 1\\nvalue = [1, 0, 0]'),\n",
       " Text(3.2284465873135453, 139.78285714285715, 'gini = 0.0\\nsamples = 11\\nvalue = [0, 0, 11]'),\n",
       " Text(3.2284465873135453, 158.42057142857144, 'X[2] <= -0.148\\ngini = 0.444\\nsamples = 3\\nvalue = [2, 1, 0]'),\n",
       " Text(2.959409371704083, 152.208, 'gini = 0.0\\nsamples = 1\\nvalue = [0, 1, 0]'),\n",
       " Text(3.497483802923007, 152.208, 'gini = 0.0\\nsamples = 2\\nvalue = [2, 0, 0]'),\n",
       " Text(2.8921500678017176, 164.63314285714284, 'gini = 0.0\\nsamples = 2\\nvalue = [2, 0, 0]'),\n",
       " Text(2.8921500678017176, 177.05828571428572, 'gini = 0.0\\nsamples = 8\\nvalue = [0, 8, 0]'),\n",
       " Text(4.809040229019135, 183.27085714285715, 'X[0] <= 0.175\\ngini = 0.624\\nsamples = 87\\nvalue = [40, 32, 15]'),\n",
       " Text(3.7665210185324693, 177.05828571428572, 'X[0] <= 0.162\\ngini = 0.48\\nsamples = 5\\nvalue = [2, 0, 3]'),\n",
       " Text(3.497483802923007, 170.84571428571428, 'gini = 0.0\\nsamples = 2\\nvalue = [2, 0, 0]'),\n",
       " Text(4.035558234141932, 170.84571428571428, 'gini = 0.0\\nsamples = 3\\nvalue = [0, 0, 3]'),\n",
       " Text(5.851559439505801, 177.05828571428572, 'X[0] <= 0.476\\ngini = 0.612\\nsamples = 82\\nvalue = [38, 32, 12]'),\n",
       " Text(4.573632665360855, 170.84571428571428, 'X[0] <= 0.433\\ngini = 0.518\\nsamples = 32\\nvalue = [13, 18, 1]'),\n",
       " Text(4.035558234141932, 164.63314285714284, 'X[2] <= -0.059\\ngini = 0.538\\nsamples = 25\\nvalue = [12, 12, 1]'),\n",
       " Text(3.7665210185324693, 158.42057142857144, 'gini = 0.0\\nsamples = 5\\nvalue = [0, 5, 0]'),\n",
       " Text(4.304595449751393, 158.42057142857144, 'X[2] <= -0.021\\ngini = 0.515\\nsamples = 20\\nvalue = [12, 7, 1]'),\n",
       " Text(4.035558234141932, 152.208, 'gini = 0.0\\nsamples = 6\\nvalue = [6, 0, 0]'),\n",
       " Text(4.573632665360855, 152.208, 'X[1] <= -0.663\\ngini = 0.561\\nsamples = 14\\nvalue = [6, 7, 1]'),\n",
       " Text(4.304595449751393, 145.99542857142856, 'gini = 0.0\\nsamples = 4\\nvalue = [4, 0, 0]'),\n",
       " Text(4.842669880970318, 145.99542857142856, 'X[2] <= 0.782\\ngini = 0.46\\nsamples = 10\\nvalue = [2, 7, 1]'),\n",
       " Text(4.573632665360855, 139.78285714285715, 'gini = 0.219\\nsamples = 8\\nvalue = [0, 7, 1]'),\n",
       " Text(5.11170709657978, 139.78285714285715, 'gini = 0.0\\nsamples = 2\\nvalue = [2, 0, 0]'),\n",
       " Text(5.11170709657978, 164.63314285714284, 'X[2] <= -0.145\\ngini = 0.245\\nsamples = 7\\nvalue = [1, 6, 0]'),\n",
       " Text(4.842669880970318, 158.42057142857144, 'gini = 0.0\\nsamples = 1\\nvalue = [1, 0, 0]'),\n",
       " Text(5.3807443121892415, 158.42057142857144, 'gini = 0.0\\nsamples = 6\\nvalue = [0, 6, 0]'),\n",
       " Text(7.129486213650745, 170.84571428571428, 'X[0] <= 0.91\\ngini = 0.623\\nsamples = 50\\nvalue = [25, 14, 11]'),\n",
       " Text(6.5914117824318215, 164.63314285714284, 'X[1] <= -0.621\\ngini = 0.65\\nsamples = 41\\nvalue = [18, 12, 11]'),\n",
       " Text(6.322374566822359, 158.42057142857144, 'X[1] <= -0.642\\ngini = 0.663\\nsamples = 37\\nvalue = [14, 12, 11]'),\n",
       " Text(5.649781527798704, 152.208, 'X[2] <= 2.527\\ngini = 0.462\\nsamples = 13\\nvalue = [9, 3, 1]'),\n",
       " Text(5.3807443121892415, 145.99542857142856, 'gini = 0.375\\nsamples = 12\\nvalue = [9, 3, 0]'),\n",
       " Text(5.918818743408166, 145.99542857142856, 'gini = 0.0\\nsamples = 1\\nvalue = [0, 0, 1]'),\n",
       " Text(6.994967605846014, 152.208, 'X[1] <= -0.625\\ngini = 0.642\\nsamples = 24\\nvalue = [5, 9, 10]'),\n",
       " Text(6.456893174627091, 145.99542857142856, 'X[0] <= 0.509\\ngini = 0.654\\nsamples = 19\\nvalue = [5, 8, 6]'),\n",
       " Text(6.187855959017628, 139.78285714285715, 'gini = 0.0\\nsamples = 2\\nvalue = [0, 0, 2]'),\n",
       " Text(6.725930390236552, 139.78285714285715, 'X[1] <= -0.638\\ngini = 0.637\\nsamples = 17\\nvalue = [5, 8, 4]'),\n",
       " Text(6.456893174627091, 133.57028571428572, 'X[1] <= -0.639\\ngini = 0.642\\nsamples = 9\\nvalue = [2, 3, 4]'),\n",
       " Text(6.187855959017628, 127.35771428571428, 'gini = 0.56\\nsamples = 5\\nvalue = [1, 3, 1]'),\n",
       " Text(6.725930390236552, 127.35771428571428, 'gini = 0.375\\nsamples = 4\\nvalue = [1, 0, 3]'),\n",
       " Text(6.994967605846014, 133.57028571428572, 'gini = 0.469\\nsamples = 8\\nvalue = [3, 5, 0]'),\n",
       " Text(7.533042037064939, 145.99542857142856, 'X[2] <= 0.152\\ngini = 0.32\\nsamples = 5\\nvalue = [0, 1, 4]'),\n",
       " Text(7.264004821455476, 139.78285714285715, 'gini = 0.0\\nsamples = 1\\nvalue = [0, 1, 0]'),\n",
       " Text(7.8020792526744005, 139.78285714285715, 'gini = 0.0\\nsamples = 4\\nvalue = [0, 0, 4]'),\n",
       " Text(6.860448998041283, 158.42057142857144, 'gini = 0.0\\nsamples = 4\\nvalue = [4, 0, 0]'),\n",
       " Text(7.66756064486967, 164.63314285714284, 'X[1] <= -0.621\\ngini = 0.346\\nsamples = 9\\nvalue = [7, 2, 0]'),\n",
       " Text(7.398523429260208, 158.42057142857144, 'gini = 0.0\\nsamples = 6\\nvalue = [6, 0, 0]'),\n",
       " Text(7.936597860479131, 158.42057142857144, 'X[2] <= 0.249\\ngini = 0.444\\nsamples = 3\\nvalue = [1, 2, 0]'),\n",
       " Text(7.66756064486967, 152.208, 'gini = 0.0\\nsamples = 1\\nvalue = [1, 0, 0]'),\n",
       " Text(8.205635076088594, 152.208, 'gini = 0.0\\nsamples = 2\\nvalue = [0, 2, 0]'),\n",
       " Text(86.48761571022298, 195.696, 'X[1] <= 0.006\\ngini = 0.553\\nsamples = 6357\\nvalue = [3425, 456, 2476]'),\n",
       " Text(46.39499491487118, 189.48342857142856, 'X[2] <= -0.387\\ngini = 0.565\\nsamples = 3658\\nvalue = [1826, 280, 1552]'),\n",
       " Text(31.086409522374566, 183.27085714285715, 'X[1] <= -0.134\\ngini = 0.556\\nsamples = 3000\\nvalue = [1549, 205, 1246]'),\n",
       " Text(19.42007307518457, 177.05828571428572, 'X[1] <= -0.273\\ngini = 0.549\\nsamples = 1801\\nvalue = [891, 98, 812]'),\n",
       " Text(14.643611571493144, 170.84571428571428, 'X[1] <= -0.276\\ngini = 0.562\\nsamples = 902\\nvalue = [468, 70, 364]'),\n",
       " Text(14.37457435588368, 164.63314285714284, 'X[1] <= -0.537\\ngini = 0.563\\nsamples = 891\\nvalue = [458, 69, 364]'),\n",
       " Text(14.105537140274219, 158.42057142857144, 'gini = 0.468\\nsamples = 51\\nvalue = [35, 4, 12]'),\n",
       " Text(14.643611571493144, 158.42057142857144, 'X[1] <= -0.53\\ngini = 0.565\\nsamples = 840\\nvalue = [423, 65, 352]'),\n",
       " Text(14.37457435588368, 152.208, 'gini = 0.435\\nsamples = 25\\nvalue = [5, 2, 18]'),\n",
       " Text(14.912648787102606, 152.208, 'X[1] <= -0.35\\ngini = 0.563\\nsamples = 815\\nvalue = [418, 63, 334]'),\n",
       " Text(10.290673497061924, 145.99542857142856, 'X[1] <= -0.385\\ngini = 0.566\\nsamples = 613\\nvalue = [301, 47, 265]'),\n",
       " Text(8.340153683893325, 139.78285714285715, 'X[1] <= -0.386\\ngini = 0.558\\nsamples = 415\\nvalue = [219, 31, 165]'),\n",
       " Text(8.071116468283863, 133.57028571428572, 'X[1] <= -0.527\\ngini = 0.561\\nsamples = 406\\nvalue = [210, 31, 165]'),\n",
       " Text(7.8020792526744005, 127.35771428571428, 'gini = 0.403\\nsamples = 12\\nvalue = [9, 2, 1]'),\n",
       " Text(8.340153683893325, 127.35771428571428, 'X[1] <= -0.524\\ngini = 0.561\\nsamples = 394\\nvalue = [201, 29, 164]'),\n",
       " Text(8.071116468283863, 121.14514285714286, 'gini = 0.43\\nsamples = 11\\nvalue = [2, 1, 8]'),\n",
       " Text(8.609190899502787, 121.14514285714286, 'X[1] <= -0.388\\ngini = 0.559\\nsamples = 383\\nvalue = [199, 28, 156]'),\n",
       " Text(8.340153683893325, 114.93257142857142, 'X[1] <= -0.471\\ngini = 0.557\\nsamples = 364\\nvalue = [193, 27, 144]'),\n",
       " Text(6.994967605846014, 108.72, 'X[1] <= -0.488\\ngini = 0.577\\nsamples = 158\\nvalue = [73, 14, 71]'),\n",
       " Text(6.322374566822359, 102.50742857142856, 'X[1] <= -0.49\\ngini = 0.585\\nsamples = 104\\nvalue = [55, 13, 36]'),\n",
       " Text(6.053337351212897, 96.29485714285714, 'X[1] <= -0.491\\ngini = 0.597\\nsamples = 98\\nvalue = [49, 13, 36]'),\n",
       " Text(5.784300135603435, 90.08228571428572, 'X[1] <= -0.491\\ngini = 0.596\\nsamples = 96\\nvalue = [49, 13, 34]'),\n",
       " Text(5.5152629199939724, 83.86971428571428, 'X[1] <= -0.493\\ngini = 0.59\\nsamples = 95\\nvalue = [49, 12, 34]'),\n",
       " Text(5.246225704384511, 77.65714285714284, 'X[1] <= -0.495\\ngini = 0.6\\nsamples = 89\\nvalue = [44, 12, 33]'),\n",
       " Text(4.708151273165586, 71.44457142857144, 'X[1] <= -0.497\\ngini = 0.592\\nsamples = 86\\nvalue = [44, 11, 31]'),\n",
       " Text(4.439114057556124, 65.232, 'X[1] <= -0.499\\ngini = 0.605\\nsamples = 78\\nvalue = [38, 11, 29]'),\n",
       " Text(4.1700768419466625, 59.01942857142856, 'X[1] <= -0.502\\ngini = 0.587\\nsamples = 70\\nvalue = [37, 9, 24]'),\n",
       " Text(3.9010396263372003, 52.806857142857126, 'X[1] <= -0.503\\ngini = 0.59\\nsamples = 61\\nvalue = [30, 7, 24]'),\n",
       " Text(3.632002410727738, 46.59428571428572, 'X[1] <= -0.509\\ngini = 0.582\\nsamples = 56\\nvalue = [30, 7, 19]'),\n",
       " Text(3.362965195118276, 40.38171428571428, 'X[1] <= -0.511\\ngini = 0.612\\nsamples = 47\\nvalue = [22, 7, 18]'),\n",
       " Text(3.093927979508814, 34.169142857142845, 'X[1] <= -0.514\\ngini = 0.608\\nsamples = 41\\nvalue = [21, 7, 13]'),\n",
       " Text(2.421334940485159, 27.956571428571436, 'X[1] <= -0.518\\ngini = 0.573\\nsamples = 37\\nvalue = [20, 4, 13]'),\n",
       " Text(1.8832605092662347, 21.744, 'X[1] <= -0.52\\ngini = 0.582\\nsamples = 23\\nvalue = [13, 4, 6]'),\n",
       " Text(1.6142232936567726, 15.531428571428563, 'X[1] <= -0.521\\ngini = 0.623\\nsamples = 17\\nvalue = [8, 3, 6]'),\n",
       " Text(1.3451860780473104, 9.318857142857127, 'gini = 0.544\\nsamples = 13\\nvalue = [8, 2, 3]'),\n",
       " Text(1.8832605092662347, 9.318857142857127, 'gini = 0.375\\nsamples = 4\\nvalue = [0, 1, 3]'),\n",
       " Text(2.1522977248756967, 15.531428571428563, 'gini = 0.278\\nsamples = 6\\nvalue = [5, 1, 0]'),\n",
       " Text(2.959409371704083, 21.744, 'X[1] <= -0.517\\ngini = 0.5\\nsamples = 14\\nvalue = [7, 0, 7]'),\n",
       " Text(2.6903721560946208, 15.531428571428563, 'gini = 0.0\\nsamples = 3\\nvalue = [0, 0, 3]'),\n",
       " Text(3.2284465873135453, 15.531428571428563, 'gini = 0.463\\nsamples = 11\\nvalue = [7, 0, 4]'),\n",
       " Text(3.7665210185324693, 27.956571428571436, 'X[1] <= -0.512\\ngini = 0.375\\nsamples = 4\\nvalue = [1, 3, 0]'),\n",
       " Text(3.497483802923007, 21.744, 'gini = 0.0\\nsamples = 3\\nvalue = [0, 3, 0]'),\n",
       " Text(4.035558234141932, 21.744, 'gini = 0.0\\nsamples = 1\\nvalue = [1, 0, 0]'),\n",
       " Text(3.632002410727738, 34.169142857142845, 'gini = 0.278\\nsamples = 6\\nvalue = [1, 0, 5]'),\n",
       " Text(3.9010396263372003, 40.38171428571428, 'gini = 0.198\\nsamples = 9\\nvalue = [8, 0, 1]'),\n",
       " Text(4.1700768419466625, 46.59428571428572, 'gini = 0.0\\nsamples = 5\\nvalue = [0, 0, 5]'),\n",
       " Text(4.439114057556124, 52.806857142857126, 'gini = 0.346\\nsamples = 9\\nvalue = [7, 2, 0]'),\n",
       " Text(4.708151273165586, 59.01942857142856, 'gini = 0.531\\nsamples = 8\\nvalue = [1, 2, 5]'),\n",
       " Text(4.977188488775049, 65.232, 'gini = 0.375\\nsamples = 8\\nvalue = [6, 0, 2]'),\n",
       " Text(5.784300135603435, 71.44457142857144, 'X[1] <= -0.493\\ngini = 0.444\\nsamples = 3\\nvalue = [0, 1, 2]'),\n",
       " Text(5.5152629199939724, 65.232, 'gini = 0.0\\nsamples = 2\\nvalue = [0, 0, 2]'),\n",
       " Text(6.053337351212897, 65.232, 'gini = 0.0\\nsamples = 1\\nvalue = [0, 1, 0]'),\n",
       " Text(5.784300135603435, 77.65714285714284, 'gini = 0.278\\nsamples = 6\\nvalue = [5, 0, 1]'),\n",
       " Text(6.053337351212897, 83.86971428571428, 'gini = 0.0\\nsamples = 1\\nvalue = [0, 1, 0]'),\n",
       " Text(6.322374566822359, 90.08228571428572, 'gini = 0.0\\nsamples = 2\\nvalue = [0, 0, 2]'),\n",
       " Text(6.5914117824318215, 96.29485714285714, 'gini = 0.0\\nsamples = 6\\nvalue = [6, 0, 0]'),\n",
       " Text(7.66756064486967, 102.50742857142856, 'X[1] <= -0.478\\ngini = 0.468\\nsamples = 54\\nvalue = [18, 1, 35]'),\n",
       " Text(7.129486213650745, 96.29485714285714, 'X[1] <= -0.48\\ngini = 0.383\\nsamples = 31\\nvalue = [8, 0, 23]'),\n",
       " Text(6.860448998041283, 90.08228571428572, 'X[1] <= -0.484\\ngini = 0.488\\nsamples = 19\\nvalue = [8, 0, 11]'),\n",
       " Text(6.5914117824318215, 83.86971428571428, 'gini = 0.219\\nsamples = 8\\nvalue = [1, 0, 7]'),\n",
       " Text(7.129486213650745, 83.86971428571428, 'X[1] <= -0.482\\ngini = 0.463\\nsamples = 11\\nvalue = [7, 0, 4]'),\n",
       " Text(6.860448998041283, 77.65714285714284, 'gini = 0.278\\nsamples = 6\\nvalue = [5, 0, 1]'),\n",
       " Text(7.398523429260208, 77.65714285714284, 'X[1] <= -0.481\\ngini = 0.48\\nsamples = 5\\nvalue = [2, 0, 3]'),\n",
       " Text(7.129486213650745, 71.44457142857144, 'gini = 0.0\\nsamples = 3\\nvalue = [0, 0, 3]'),\n",
       " Text(7.66756064486967, 71.44457142857144, 'gini = 0.0\\nsamples = 2\\nvalue = [2, 0, 0]'),\n",
       " Text(7.398523429260208, 90.08228571428572, 'gini = 0.0\\nsamples = 12\\nvalue = [0, 0, 12]'),\n",
       " Text(8.205635076088594, 96.29485714285714, 'X[1] <= -0.477\\ngini = 0.537\\nsamples = 23\\nvalue = [10, 1, 12]'),\n",
       " Text(7.936597860479131, 90.08228571428572, 'gini = 0.0\\nsamples = 3\\nvalue = [3, 0, 0]'),\n",
       " Text(8.474672291698056, 90.08228571428572, 'gini = 0.515\\nsamples = 20\\nvalue = [7, 1, 12]'),\n",
       " Text(9.685339761940636, 108.72, 'X[1] <= -0.444\\ngini = 0.531\\nsamples = 206\\nvalue = [120, 13, 73]'),\n",
       " Text(9.416302546331172, 102.50742857142856, 'gini = 0.398\\nsamples = 64\\nvalue = [47, 1, 16]'),\n",
       " Text(9.954376977550098, 102.50742857142856, 'X[1] <= -0.426\\ngini = 0.567\\nsamples = 142\\nvalue = [73, 12, 57]'),\n",
       " Text(9.281783938526441, 96.29485714285714, 'X[1] <= -0.433\\ngini = 0.518\\nsamples = 26\\nvalue = [10, 1, 15]'),\n",
       " Text(9.01274672291698, 90.08228571428572, 'X[1] <= -0.443\\ngini = 0.541\\nsamples = 22\\nvalue = [10, 1, 11]'),\n",
       " Text(8.743709507307518, 83.86971428571428, 'X[1] <= -0.444\\ngini = 0.568\\nsamples = 9\\nvalue = [5, 1, 3]'),\n",
       " Text(8.474672291698056, 77.65714285714284, 'gini = 0.56\\nsamples = 5\\nvalue = [1, 1, 3]'),\n",
       " Text(9.01274672291698, 77.65714285714284, 'gini = 0.0\\nsamples = 4\\nvalue = [4, 0, 0]'),\n",
       " Text(9.281783938526441, 83.86971428571428, 'gini = 0.473\\nsamples = 13\\nvalue = [5, 0, 8]'),\n",
       " Text(9.550821154135905, 90.08228571428572, 'gini = 0.0\\nsamples = 4\\nvalue = [0, 0, 4]'),\n",
       " Text(10.626970016573752, 96.29485714285714, 'X[1] <= -0.414\\ngini = 0.565\\nsamples = 116\\nvalue = [63, 11, 42]'),\n",
       " Text(10.088895585354829, 90.08228571428572, 'X[1] <= -0.421\\ngini = 0.381\\nsamples = 17\\nvalue = [13, 1, 3]'),\n",
       " Text(9.819858369745367, 83.86971428571428, 'X[1] <= -0.423\\ngini = 0.54\\nsamples = 10\\nvalue = [6, 1, 3]'),\n",
       " Text(9.550821154135905, 77.65714285714284, 'gini = 0.0\\nsamples = 4\\nvalue = [4, 0, 0]'),\n",
       " Text(10.088895585354829, 77.65714285714284, 'X[1] <= -0.422\\ngini = 0.611\\nsamples = 6\\nvalue = [2, 1, 3]'),\n",
       " Text(9.819858369745367, 71.44457142857144, 'gini = 0.0\\nsamples = 2\\nvalue = [0, 0, 2]'),\n",
       " Text(10.35793280096429, 71.44457142857144, 'X[1] <= -0.422\\ngini = 0.625\\nsamples = 4\\nvalue = [2, 1, 1]'),\n",
       " Text(10.088895585354829, 65.232, 'gini = 0.0\\nsamples = 2\\nvalue = [2, 0, 0]'),\n",
       " Text(10.626970016573752, 65.232, 'gini = 0.5\\nsamples = 2\\nvalue = [0, 1, 1]'),\n",
       " Text(10.35793280096429, 83.86971428571428, 'gini = 0.0\\nsamples = 7\\nvalue = [7, 0, 0]'),\n",
       " Text(11.165044447792676, 90.08228571428572, 'X[1] <= -0.389\\ngini = 0.58\\nsamples = 99\\nvalue = [50, 10, 39]'),\n",
       " Text(10.896007232183214, 83.86971428571428, 'X[1] <= -0.413\\ngini = 0.571\\nsamples = 94\\nvalue = [47, 8, 39]'),\n",
       " Text(10.626970016573752, 77.65714285714284, 'gini = 0.0\\nsamples = 2\\nvalue = [0, 0, 2]'),\n",
       " Text(11.165044447792676, 77.65714285714284, 'X[1] <= -0.41\\ngini = 0.57\\nsamples = 92\\nvalue = [47, 8, 37]'),\n",
       " Text(10.896007232183214, 71.44457142857144, 'gini = 0.48\\nsamples = 5\\nvalue = [3, 2, 0]'),\n",
       " Text(11.43408166340214, 71.44457142857144, 'gini = 0.559\\nsamples = 87\\nvalue = [44, 6, 37]'),\n",
       " Text(11.43408166340214, 83.86971428571428, 'gini = 0.48\\nsamples = 5\\nvalue = [3, 2, 0]'),\n",
       " Text(8.878228115112249, 114.93257142857142, 'gini = 0.499\\nsamples = 19\\nvalue = [6, 1, 12]'),\n",
       " Text(8.609190899502787, 133.57028571428572, 'gini = 0.0\\nsamples = 9\\nvalue = [9, 0, 0]'),\n",
       " Text(12.241193310230525, 139.78285714285715, 'X[1] <= -0.375\\ngini = 0.567\\nsamples = 198\\nvalue = [82, 16, 100]'),\n",
       " Text(10.088895585354829, 133.57028571428572, 'X[1] <= -0.384\\ngini = 0.492\\nsamples = 56\\nvalue = [17, 3, 36]'),\n",
       " Text(9.550821154135905, 127.35771428571428, 'X[1] <= -0.385\\ngini = 0.444\\nsamples = 3\\nvalue = [0, 2, 1]'),\n",
       " Text(9.281783938526441, 121.14514285714286, 'gini = 0.0\\nsamples = 1\\nvalue = [0, 0, 1]'),\n",
       " Text(9.819858369745367, 121.14514285714286, 'gini = 0.0\\nsamples = 2\\nvalue = [0, 2, 0]'),\n",
       " Text(10.626970016573752, 127.35771428571428, 'X[1] <= -0.384\\ngini = 0.461\\nsamples = 53\\nvalue = [17, 1, 35]'),\n",
       " Text(10.35793280096429, 121.14514285714286, 'gini = 0.0\\nsamples = 1\\nvalue = [1, 0, 0]'),\n",
       " Text(10.896007232183214, 121.14514285714286, 'X[1] <= -0.382\\ngini = 0.452\\nsamples = 52\\nvalue = [16, 1, 35]'),\n",
       " Text(10.626970016573752, 114.93257142857142, 'gini = 0.381\\nsamples = 17\\nvalue = [3, 1, 13]'),\n",
       " Text(11.165044447792676, 114.93257142857142, 'X[1] <= -0.381\\ngini = 0.467\\nsamples = 35\\nvalue = [13, 0, 22]'),\n",
       " Text(10.896007232183214, 108.72, 'gini = 0.0\\nsamples = 3\\nvalue = [3, 0, 0]'),\n",
       " Text(11.43408166340214, 108.72, 'X[1] <= -0.38\\ngini = 0.43\\nsamples = 32\\nvalue = [10, 0, 22]'),\n",
       " Text(11.165044447792676, 102.50742857142856, 'gini = 0.0\\nsamples = 4\\nvalue = [0, 0, 4]'),\n",
       " Text(11.703118879011601, 102.50742857142856, 'X[1] <= -0.38\\ngini = 0.459\\nsamples = 28\\nvalue = [10, 0, 18]'),\n",
       " Text(11.43408166340214, 96.29485714285714, 'gini = 0.444\\nsamples = 6\\nvalue = [4, 0, 2]'),\n",
       " Text(11.972156094621063, 96.29485714285714, 'X[1] <= -0.379\\ngini = 0.397\\nsamples = 22\\nvalue = [6, 0, 16]'),\n",
       " Text(11.703118879011601, 90.08228571428572, 'gini = 0.0\\nsamples = 5\\nvalue = [0, 0, 5]'),\n",
       " Text(12.241193310230525, 90.08228571428572, 'X[1] <= -0.378\\ngini = 0.457\\nsamples = 17\\nvalue = [6, 0, 11]'),\n",
       " Text(11.972156094621063, 83.86971428571428, 'gini = 0.375\\nsamples = 4\\nvalue = [3, 0, 1]'),\n",
       " Text(12.510230525839987, 83.86971428571428, 'X[1] <= -0.377\\ngini = 0.355\\nsamples = 13\\nvalue = [3, 0, 10]'),\n",
       " Text(12.241193310230525, 77.65714285714284, 'gini = 0.0\\nsamples = 4\\nvalue = [0, 0, 4]'),\n",
       " Text(12.779267741449448, 77.65714285714284, 'X[1] <= -0.377\\ngini = 0.444\\nsamples = 9\\nvalue = [3, 0, 6]'),\n",
       " Text(12.510230525839987, 71.44457142857144, 'gini = 0.0\\nsamples = 2\\nvalue = [2, 0, 0]'),\n",
       " Text(13.048304957058912, 71.44457142857144, 'gini = 0.245\\nsamples = 7\\nvalue = [1, 0, 6]'),\n",
       " Text(14.393491035106221, 133.57028571428572, 'X[1] <= -0.357\\ngini = 0.579\\nsamples = 142\\nvalue = [65, 13, 64]'),\n",
       " Text(13.586379388277836, 127.35771428571428, 'X[1] <= -0.358\\ngini = 0.546\\nsamples = 82\\nvalue = [44, 5, 33]'),\n",
       " Text(13.317342172668374, 121.14514285714286, 'X[1] <= -0.374\\ngini = 0.552\\nsamples = 79\\nvalue = [41, 5, 33]'),\n",
       " Text(13.048304957058912, 114.93257142857142, 'gini = 0.375\\nsamples = 4\\nvalue = [3, 1, 0]'),\n",
       " Text(13.586379388277836, 114.93257142857142, 'X[1] <= -0.371\\ngini = 0.547\\nsamples = 75\\nvalue = [38, 4, 33]'),\n",
       " Text(13.048304957058912, 108.72, 'X[1] <= -0.372\\ngini = 0.526\\nsamples = 17\\nvalue = [6, 1, 10]'),\n",
       " Text(12.779267741449448, 102.50742857142856, 'X[1] <= -0.373\\ngini = 0.496\\nsamples = 11\\nvalue = [6, 0, 5]'),\n",
       " Text(12.510230525839987, 96.29485714285714, 'gini = 0.469\\nsamples = 8\\nvalue = [3, 0, 5]'),\n",
       " Text(13.048304957058912, 96.29485714285714, 'gini = 0.0\\nsamples = 3\\nvalue = [3, 0, 0]'),\n",
       " Text(13.317342172668374, 102.50742857142856, 'gini = 0.278\\nsamples = 6\\nvalue = [0, 1, 5]'),\n",
       " Text(14.12445381949676, 108.72, 'X[1] <= -0.37\\ngini = 0.536\\nsamples = 58\\nvalue = [32, 3, 23]'),\n",
       " Text(13.855416603887297, 102.50742857142856, 'gini = 0.18\\nsamples = 10\\nvalue = [9, 0, 1]'),\n",
       " Text(14.393491035106221, 102.50742857142856, 'gini = 0.556\\nsamples = 48\\nvalue = [23, 3, 22]'),\n",
       " Text(13.855416603887297, 121.14514285714286, 'gini = 0.0\\nsamples = 3\\nvalue = [3, 0, 0]'),\n",
       " Text(15.200602681934608, 127.35771428571428, 'X[1] <= -0.356\\ngini = 0.593\\nsamples = 60\\nvalue = [21, 8, 31]'),\n",
       " Text(14.931565466325146, 121.14514285714286, 'gini = 0.562\\nsamples = 11\\nvalue = [1, 4, 6]'),\n",
       " Text(15.46963989754407, 121.14514285714286, 'X[1] <= -0.356\\ngini = 0.566\\nsamples = 49\\nvalue = [20, 4, 25]'),\n",
       " Text(15.200602681934608, 114.93257142857142, 'gini = 0.0\\nsamples = 2\\nvalue = [2, 0, 0]'),\n",
       " Text(15.738677113153532, 114.93257142857142, 'X[1] <= -0.351\\ngini = 0.563\\nsamples = 47\\nvalue = [18, 4, 25]'),\n",
       " Text(15.200602681934608, 108.72, 'X[1] <= -0.354\\ngini = 0.544\\nsamples = 39\\nvalue = [17, 2, 20]'),\n",
       " Text(14.931565466325146, 102.50742857142856, 'gini = 0.537\\nsamples = 18\\nvalue = [5, 2, 11]'),\n",
       " Text(15.46963989754407, 102.50742857142856, 'X[1] <= -0.353\\ngini = 0.49\\nsamples = 21\\nvalue = [12, 0, 9]'),\n",
       " Text(15.200602681934608, 96.29485714285714, 'gini = 0.245\\nsamples = 7\\nvalue = [6, 0, 1]'),\n",
       " Text(15.738677113153532, 96.29485714285714, 'X[1] <= -0.353\\ngini = 0.49\\nsamples = 14\\nvalue = [6, 0, 8]'),\n",
       " Text(15.46963989754407, 90.08228571428572, 'gini = 0.278\\nsamples = 6\\nvalue = [1, 0, 5]'),\n",
       " Text(16.007714328762994, 90.08228571428572, 'gini = 0.469\\nsamples = 8\\nvalue = [5, 0, 3]'),\n",
       " Text(16.276751544372456, 108.72, 'X[1] <= -0.351\\ngini = 0.531\\nsamples = 8\\nvalue = [1, 2, 5]'),\n",
       " Text(16.007714328762994, 102.50742857142856, 'gini = 0.0\\nsamples = 3\\nvalue = [0, 0, 3]'),\n",
       " Text(16.545788759981917, 102.50742857142856, 'X[1] <= -0.351\\ngini = 0.64\\nsamples = 5\\nvalue = [1, 2, 2]'),\n",
       " Text(16.276751544372456, 96.29485714285714, 'gini = 0.444\\nsamples = 3\\nvalue = [1, 2, 0]'),\n",
       " Text(16.81482597559138, 96.29485714285714, 'gini = 0.0\\nsamples = 2\\nvalue = [0, 0, 2]'),\n",
       " Text(19.534624077143285, 145.99542857142856, 'X[1] <= -0.282\\ngini = 0.542\\nsamples = 202\\nvalue = [117, 16, 69]'),\n",
       " Text(18.000271206870572, 139.78285714285715, 'X[1] <= -0.35\\ngini = 0.527\\nsamples = 175\\nvalue = [107, 15, 53]'),\n",
       " Text(17.73123399126111, 133.57028571428572, 'gini = 0.0\\nsamples = 7\\nvalue = [7, 0, 0]'),\n",
       " Text(18.269308422480034, 133.57028571428572, 'X[1] <= -0.348\\ngini = 0.538\\nsamples = 168\\nvalue = [100, 15, 53]'),\n",
       " Text(18.000271206870572, 127.35771428571428, 'gini = 0.0\\nsamples = 5\\nvalue = [0, 0, 5]'),\n",
       " Text(18.538345638089496, 127.35771428571428, 'X[1] <= -0.341\\ngini = 0.528\\nsamples = 163\\nvalue = [100, 15, 48]'),\n",
       " Text(17.89097483802923, 121.14514285714286, 'X[1] <= -0.343\\ngini = 0.531\\nsamples = 25\\nvalue = [15, 8, 2]'),\n",
       " Text(17.621937622419768, 114.93257142857142, 'X[1] <= -0.344\\ngini = 0.475\\nsamples = 22\\nvalue = [15, 5, 2]'),\n",
       " Text(17.352900406810306, 108.72, 'X[1] <= -0.346\\ngini = 0.554\\nsamples = 17\\nvalue = [10, 5, 2]'),\n",
       " Text(17.08386319120084, 102.50742857142856, 'gini = 0.459\\nsamples = 14\\nvalue = [9, 5, 0]'),\n",
       " Text(17.621937622419768, 102.50742857142856, 'gini = 0.444\\nsamples = 3\\nvalue = [1, 0, 2]'),\n",
       " Text(17.89097483802923, 108.72, 'gini = 0.0\\nsamples = 5\\nvalue = [5, 0, 0]'),\n",
       " Text(18.16001205363869, 114.93257142857142, 'gini = 0.0\\nsamples = 3\\nvalue = [0, 3, 0]'),\n",
       " Text(19.185716438149765, 121.14514285714286, 'X[1] <= -0.341\\ngini = 0.507\\nsamples = 138\\nvalue = [85, 7, 46]'),\n",
       " Text(18.916679222540303, 114.93257142857142, 'gini = 0.0\\nsamples = 2\\nvalue = [0, 0, 2]'),\n",
       " Text(19.454753653759226, 114.93257142857142, 'X[1] <= -0.33\\ngini = 0.502\\nsamples = 136\\nvalue = [85, 7, 44]'),\n",
       " Text(18.429049269248154, 108.72, 'X[1] <= -0.34\\ngini = 0.322\\nsamples = 21\\nvalue = [17, 1, 3]'),\n",
       " Text(18.16001205363869, 102.50742857142856, 'X[1] <= -0.34\\ngini = 0.5\\nsamples = 4\\nvalue = [2, 0, 2]'),\n",
       " Text(17.89097483802923, 96.29485714285714, 'gini = 0.0\\nsamples = 2\\nvalue = [2, 0, 0]'),\n",
       " Text(18.429049269248154, 96.29485714285714, 'gini = 0.0\\nsamples = 2\\nvalue = [0, 0, 2]'),\n",
       " Text(18.698086484857615, 102.50742857142856, 'gini = 0.215\\nsamples = 17\\nvalue = [15, 1, 1]'),\n",
       " Text(20.480458038270303, 108.72, 'X[1] <= -0.313\\ngini = 0.521\\nsamples = 115\\nvalue = [68, 6, 41]'),\n",
       " Text(19.23616091607654, 102.50742857142856, 'X[1] <= -0.317\\ngini = 0.53\\nsamples = 29\\nvalue = [13, 1, 15]'),\n",
       " Text(18.967123700467077, 96.29485714285714, 'gini = 0.54\\nsamples = 21\\nvalue = [11, 1, 9]'),\n",
       " Text(19.505198131686, 96.29485714285714, 'X[1] <= -0.315\\ngini = 0.375\\nsamples = 8\\nvalue = [2, 0, 6]'),\n",
       " Text(19.23616091607654, 90.08228571428572, 'gini = 0.0\\nsamples = 4\\nvalue = [0, 0, 4]'),\n",
       " Text(19.774235347295463, 90.08228571428572, 'X[1] <= -0.314\\ngini = 0.5\\nsamples = 4\\nvalue = [2, 0, 2]'),\n",
       " Text(19.505198131686, 83.86971428571428, 'gini = 0.0\\nsamples = 2\\nvalue = [2, 0, 0]'),\n",
       " Text(20.043272562904924, 83.86971428571428, 'gini = 0.0\\nsamples = 2\\nvalue = [0, 0, 2]'),\n",
       " Text(21.724755160464063, 102.50742857142856, 'X[1] <= -0.307\\ngini = 0.496\\nsamples = 86\\nvalue = [55, 5, 26]'),\n",
       " Text(21.4557179448546, 96.29485714285714, 'gini = 0.219\\nsamples = 16\\nvalue = [14, 0, 2]'),\n",
       " Text(21.993792376073525, 96.29485714285714, 'X[1] <= -0.293\\ngini = 0.534\\nsamples = 70\\nvalue = [41, 5, 24]'),\n",
       " Text(21.253940033147504, 90.08228571428572, 'X[1] <= -0.299\\ngini = 0.584\\nsamples = 39\\nvalue = [19, 4, 16]'),\n",
       " Text(20.581346994123848, 83.86971428571428, 'X[1] <= -0.3\\ngini = 0.605\\nsamples = 23\\nvalue = [12, 4, 7]'),\n",
       " Text(20.043272562904924, 77.65714285714284, 'X[1] <= -0.304\\ngini = 0.565\\nsamples = 20\\nvalue = [11, 2, 7]'),\n",
       " Text(19.774235347295463, 71.44457142857144, 'X[1] <= -0.305\\ngini = 0.628\\nsamples = 11\\nvalue = [4, 2, 5]'),\n",
       " Text(19.505198131686, 65.232, 'X[1] <= -0.306\\ngini = 0.571\\nsamples = 7\\nvalue = [4, 2, 1]'),\n",
       " Text(19.23616091607654, 59.01942857142856, 'gini = 0.0\\nsamples = 1\\nvalue = [0, 0, 1]'),\n",
       " Text(19.774235347295463, 59.01942857142856, 'gini = 0.444\\nsamples = 6\\nvalue = [4, 2, 0]'),\n",
       " Text(20.043272562904924, 65.232, 'gini = 0.0\\nsamples = 4\\nvalue = [0, 0, 4]'),\n",
       " Text(20.312309778514386, 71.44457142857144, 'gini = 0.346\\nsamples = 9\\nvalue = [7, 0, 2]'),\n",
       " Text(21.119421425342775, 77.65714285714284, 'X[1] <= -0.299\\ngini = 0.444\\nsamples = 3\\nvalue = [1, 2, 0]'),\n",
       " Text(20.850384209733313, 71.44457142857144, 'gini = 0.0\\nsamples = 2\\nvalue = [0, 2, 0]'),\n",
       " Text(21.388458640952237, 71.44457142857144, 'gini = 0.0\\nsamples = 1\\nvalue = [1, 0, 0]'),\n",
       " Text(21.92653307217116, 83.86971428571428, 'X[1] <= -0.298\\ngini = 0.492\\nsamples = 16\\nvalue = [7, 0, 9]'),\n",
       " Text(21.6574958565617, 77.65714285714284, 'gini = 0.0\\nsamples = 3\\nvalue = [0, 0, 3]'),\n",
       " Text(22.195570287780622, 77.65714285714284, 'gini = 0.497\\nsamples = 13\\nvalue = [7, 0, 6]'),\n",
       " Text(22.733644718999546, 90.08228571428572, 'X[1] <= -0.292\\ngini = 0.429\\nsamples = 31\\nvalue = [22, 1, 8]'),\n",
       " Text(22.464607503390084, 83.86971428571428, 'gini = 0.0\\nsamples = 7\\nvalue = [7, 0, 0]'),\n",
       " Text(23.002681934609008, 83.86971428571428, 'X[1] <= -0.29\\ngini = 0.497\\nsamples = 24\\nvalue = [15, 1, 8]'),\n",
       " Text(22.733644718999546, 77.65714285714284, 'X[1] <= -0.29\\ngini = 0.58\\nsamples = 10\\nvalue = [4, 1, 5]'),\n",
       " Text(22.464607503390084, 71.44457142857144, 'gini = 0.571\\nsamples = 7\\nvalue = [4, 1, 2]'),\n",
       " Text(23.002681934609008, 71.44457142857144, 'gini = 0.0\\nsamples = 3\\nvalue = [0, 0, 3]'),\n",
       " Text(23.27171915021847, 77.65714285714284, 'gini = 0.337\\nsamples = 14\\nvalue = [11, 0, 3]'),\n",
       " Text(21.068976947416, 139.78285714285715, 'X[1] <= -0.277\\ngini = 0.51\\nsamples = 27\\nvalue = [10, 1, 16]'),\n",
       " Text(20.79993973180654, 133.57028571428572, 'X[1] <= -0.278\\ngini = 0.531\\nsamples = 24\\nvalue = [10, 1, 13]'),\n",
       " Text(20.530902516197077, 127.35771428571428, 'X[1] <= -0.279\\ngini = 0.475\\nsamples = 18\\nvalue = [5, 1, 12]'),\n",
       " Text(20.261865300587612, 121.14514285714286, 'X[1] <= -0.28\\ngini = 0.541\\nsamples = 14\\nvalue = [5, 1, 8]'),\n",
       " Text(19.99282808497815, 114.93257142857142, 'gini = 0.346\\nsamples = 9\\nvalue = [2, 0, 7]'),\n",
       " Text(20.530902516197077, 114.93257142857142, 'gini = 0.56\\nsamples = 5\\nvalue = [3, 1, 1]'),\n",
       " Text(20.79993973180654, 121.14514285714286, 'gini = 0.0\\nsamples = 4\\nvalue = [0, 0, 4]'),\n",
       " Text(21.068976947416, 127.35771428571428, 'gini = 0.278\\nsamples = 6\\nvalue = [5, 0, 1]'),\n",
       " Text(21.338014163025463, 133.57028571428572, 'gini = 0.0\\nsamples = 3\\nvalue = [0, 0, 3]'),\n",
       " Text(14.912648787102606, 164.63314285714284, 'gini = 0.165\\nsamples = 11\\nvalue = [10, 1, 0]'),\n",
       " Text(24.196534578875998, 170.84571428571428, 'X[1] <= -0.248\\ngini = 0.529\\nsamples = 899\\nvalue = [423, 28, 448]'),\n",
       " Text(23.927497363266536, 164.63314285714284, 'gini = 0.46\\nsamples = 84\\nvalue = [28, 1, 55]'),\n",
       " Text(24.46557179448546, 164.63314285714284, 'X[1] <= -0.206\\ngini = 0.531\\nsamples = 815\\nvalue = [395, 27, 393]'),\n",
       " Text(22.548681633268043, 158.42057142857144, 'X[1] <= -0.227\\ngini = 0.478\\nsamples = 197\\nvalue = [119, 0, 78]'),\n",
       " Text(21.607051378634925, 152.208, 'X[1] <= -0.248\\ngini = 0.499\\nsamples = 90\\nvalue = [47, 0, 43]'),\n",
       " Text(21.338014163025463, 145.99542857142856, 'gini = 0.0\\nsamples = 5\\nvalue = [5, 0, 0]'),\n",
       " Text(21.876088594244386, 145.99542857142856, 'X[1] <= -0.247\\ngini = 0.5\\nsamples = 85\\nvalue = [42, 0, 43]'),\n",
       " Text(21.607051378634925, 139.78285714285715, 'gini = 0.0\\nsamples = 3\\nvalue = [0, 0, 3]'),\n",
       " Text(22.145125809853848, 139.78285714285715, 'X[1] <= -0.228\\ngini = 0.5\\nsamples = 82\\nvalue = [42, 0, 40]'),\n",
       " Text(21.876088594244386, 133.57028571428572, 'X[1] <= -0.246\\ngini = 0.498\\nsamples = 79\\nvalue = [42, 0, 37]'),\n",
       " Text(21.607051378634925, 127.35771428571428, 'gini = 0.0\\nsamples = 3\\nvalue = [3, 0, 0]'),\n",
       " Text(22.145125809853848, 127.35771428571428, 'X[1] <= -0.242\\ngini = 0.5\\nsamples = 76\\nvalue = [39, 0, 37]'),\n",
       " Text(21.607051378634925, 121.14514285714286, 'X[1] <= -0.243\\ngini = 0.465\\nsamples = 19\\nvalue = [7, 0, 12]'),\n",
       " Text(21.338014163025463, 114.93257142857142, 'gini = 0.498\\nsamples = 15\\nvalue = [7, 0, 8]'),\n",
       " Text(21.876088594244386, 114.93257142857142, 'gini = 0.0\\nsamples = 4\\nvalue = [0, 0, 4]'),\n",
       " Text(22.68320024107277, 121.14514285714286, 'X[1] <= -0.24\\ngini = 0.492\\nsamples = 57\\nvalue = [32, 0, 25]'),\n",
       " Text(22.41416302546331, 114.93257142857142, 'gini = 0.0\\nsamples = 8\\nvalue = [8, 0, 0]'),\n",
       " Text(22.952237456682234, 114.93257142857142, 'X[1] <= -0.237\\ngini = 0.5\\nsamples = 49\\nvalue = [24, 0, 25]'),\n",
       " Text(22.68320024107277, 108.72, 'X[1] <= -0.239\\ngini = 0.32\\nsamples = 10\\nvalue = [2, 0, 8]'),\n",
       " Text(22.41416302546331, 102.50742857142856, 'gini = 0.0\\nsamples = 4\\nvalue = [0, 0, 4]'),\n",
       " Text(22.952237456682234, 102.50742857142856, 'X[1] <= -0.238\\ngini = 0.444\\nsamples = 6\\nvalue = [2, 0, 4]'),\n",
       " Text(22.68320024107277, 96.29485714285714, 'gini = 0.0\\nsamples = 2\\nvalue = [2, 0, 0]'),\n",
       " Text(23.221274672291695, 96.29485714285714, 'gini = 0.0\\nsamples = 4\\nvalue = [0, 0, 4]'),\n",
       " Text(23.221274672291695, 108.72, 'gini = 0.492\\nsamples = 39\\nvalue = [22, 0, 17]'),\n",
       " Text(22.41416302546331, 133.57028571428572, 'gini = 0.0\\nsamples = 3\\nvalue = [0, 0, 3]'),\n",
       " Text(23.490311887901157, 152.208, 'X[1] <= -0.22\\ngini = 0.44\\nsamples = 107\\nvalue = [72, 0, 35]'),\n",
       " Text(22.952237456682234, 145.99542857142856, 'X[1] <= -0.221\\ngini = 0.37\\nsamples = 49\\nvalue = [37, 0, 12]'),\n",
       " Text(22.68320024107277, 139.78285714285715, 'gini = 0.42\\nsamples = 40\\nvalue = [28, 0, 12]'),\n",
       " Text(23.221274672291695, 139.78285714285715, 'gini = 0.0\\nsamples = 9\\nvalue = [9, 0, 0]'),\n",
       " Text(24.028386319120084, 145.99542857142856, 'X[1] <= -0.213\\ngini = 0.479\\nsamples = 58\\nvalue = [35, 0, 23]'),\n",
       " Text(23.75934910351062, 139.78285714285715, 'gini = 0.483\\nsamples = 27\\nvalue = [11, 0, 16]'),\n",
       " Text(24.297423534729546, 139.78285714285715, 'X[1] <= -0.21\\ngini = 0.35\\nsamples = 31\\nvalue = [24, 0, 7]'),\n",
       " Text(24.028386319120084, 133.57028571428572, 'gini = 0.0\\nsamples = 11\\nvalue = [11, 0, 0]'),\n",
       " Text(24.566460750339008, 133.57028571428572, 'X[1] <= -0.21\\ngini = 0.455\\nsamples = 20\\nvalue = [13, 0, 7]'),\n",
       " Text(24.297423534729546, 127.35771428571428, 'gini = 0.0\\nsamples = 3\\nvalue = [0, 0, 3]'),\n",
       " Text(24.83549796594847, 127.35771428571428, 'gini = 0.36\\nsamples = 17\\nvalue = [13, 0, 4]'),\n",
       " Text(26.382461955702876, 158.42057142857144, 'X[1] <= -0.202\\ngini = 0.539\\nsamples = 618\\nvalue = [276, 27, 315]'),\n",
       " Text(26.113424740093414, 152.208, 'gini = 0.225\\nsamples = 31\\nvalue = [4, 0, 27]'),\n",
       " Text(26.651499171312338, 152.208, 'X[1] <= -0.198\\ngini = 0.542\\nsamples = 587\\nvalue = [272, 27, 288]'),\n",
       " Text(25.642609612776855, 145.99542857142856, 'X[1] <= -0.199\\ngini = 0.452\\nsamples = 29\\nvalue = [10, 0, 19]'),\n",
       " Text(25.373572397167393, 139.78285714285715, 'X[1] <= -0.199\\ngini = 0.491\\nsamples = 23\\nvalue = [10, 0, 13]'),\n",
       " Text(25.10453518155793, 133.57028571428572, 'gini = 0.472\\nsamples = 21\\nvalue = [8, 0, 13]'),\n",
       " Text(25.642609612776855, 133.57028571428572, 'gini = 0.0\\nsamples = 2\\nvalue = [2, 0, 0]'),\n",
       " Text(25.911646828386317, 139.78285714285715, 'gini = 0.0\\nsamples = 6\\nvalue = [0, 0, 6]'),\n",
       " Text(27.66038872984782, 145.99542857142856, 'X[1] <= -0.195\\ngini = 0.545\\nsamples = 558\\nvalue = [262, 27, 269]'),\n",
       " Text(26.44972125960524, 139.78285714285715, 'X[1] <= -0.196\\ngini = 0.461\\nsamples = 29\\nvalue = [20, 2, 7]'),\n",
       " Text(26.18068404399578, 133.57028571428572, 'X[1] <= -0.196\\ngini = 0.541\\nsamples = 14\\nvalue = [8, 1, 5]'),\n",
       " Text(25.642609612776855, 127.35771428571428, 'X[1] <= -0.197\\ngini = 0.397\\nsamples = 11\\nvalue = [8, 0, 3]'),\n",
       " Text(25.373572397167393, 121.14514285714286, 'X[1] <= -0.197\\ngini = 0.469\\nsamples = 8\\nvalue = [5, 0, 3]'),\n",
       " Text(25.10453518155793, 114.93257142857142, 'gini = 0.278\\nsamples = 6\\nvalue = [5, 0, 1]'),\n",
       " Text(25.642609612776855, 114.93257142857142, 'gini = 0.0\\nsamples = 2\\nvalue = [0, 0, 2]'),\n",
       " Text(25.911646828386317, 121.14514285714286, 'gini = 0.0\\nsamples = 3\\nvalue = [3, 0, 0]'),\n",
       " Text(26.718758475214702, 127.35771428571428, 'X[1] <= -0.196\\ngini = 0.444\\nsamples = 3\\nvalue = [0, 1, 2]'),\n",
       " Text(26.44972125960524, 121.14514285714286, 'gini = 0.0\\nsamples = 1\\nvalue = [0, 1, 0]'),\n",
       " Text(26.987795690824164, 121.14514285714286, 'gini = 0.0\\nsamples = 2\\nvalue = [0, 0, 2]'),\n",
       " Text(26.718758475214702, 133.57028571428572, 'gini = 0.338\\nsamples = 15\\nvalue = [12, 1, 2]'),\n",
       " Text(28.8710562000904, 139.78285714285715, 'X[1] <= -0.142\\ngini = 0.543\\nsamples = 529\\nvalue = [242, 25, 262]'),\n",
       " Text(28.063944553262015, 133.57028571428572, 'X[1] <= -0.142\\ngini = 0.543\\nsamples = 455\\nvalue = [202, 22, 231]'),\n",
       " Text(27.794907337652553, 127.35771428571428, 'X[1] <= -0.143\\ngini = 0.542\\nsamples = 447\\nvalue = [201, 21, 225]'),\n",
       " Text(27.52587012204309, 121.14514285714286, 'X[1] <= -0.193\\ngini = 0.542\\nsamples = 445\\nvalue = [199, 21, 225]'),\n",
       " Text(27.256832906433626, 114.93257142857142, 'gini = 0.0\\nsamples = 2\\nvalue = [0, 0, 2]'),\n",
       " Text(27.794907337652553, 114.93257142857142, 'X[1] <= -0.19\\ngini = 0.543\\nsamples = 443\\nvalue = [199, 21, 223]'),\n",
       " Text(27.52587012204309, 108.72, 'gini = 0.583\\nsamples = 22\\nvalue = [12, 3, 7]'),\n",
       " Text(28.063944553262015, 108.72, 'X[1] <= -0.183\\ngini = 0.538\\nsamples = 421\\nvalue = [187, 18, 216]'),\n",
       " Text(27.256832906433626, 102.50742857142856, 'X[1] <= -0.186\\ngini = 0.519\\nsamples = 59\\nvalue = [19, 4, 36]'),\n",
       " Text(26.44972125960524, 96.29485714285714, 'X[1] <= -0.189\\ngini = 0.565\\nsamples = 27\\nvalue = [12, 2, 13]'),\n",
       " Text(26.18068404399578, 90.08228571428572, 'gini = 0.403\\nsamples = 12\\nvalue = [2, 1, 9]'),\n",
       " Text(26.718758475214702, 90.08228571428572, 'X[1] <= -0.188\\ngini = 0.48\\nsamples = 15\\nvalue = [10, 1, 4]'),\n",
       " Text(26.44972125960524, 83.86971428571428, 'gini = 0.0\\nsamples = 5\\nvalue = [5, 0, 0]'),\n",
       " Text(26.987795690824164, 83.86971428571428, 'X[1] <= -0.188\\ngini = 0.58\\nsamples = 10\\nvalue = [5, 1, 4]'),\n",
       " Text(26.718758475214702, 77.65714285714284, 'gini = 0.0\\nsamples = 2\\nvalue = [0, 0, 2]'),\n",
       " Text(27.256832906433626, 77.65714285714284, 'gini = 0.531\\nsamples = 8\\nvalue = [5, 1, 2]'),\n",
       " Text(28.063944553262015, 96.29485714285714, 'X[1] <= -0.183\\ngini = 0.432\\nsamples = 32\\nvalue = [7, 2, 23]'),\n",
       " Text(27.794907337652553, 90.08228571428572, 'X[1] <= -0.184\\ngini = 0.398\\nsamples = 31\\nvalue = [7, 1, 23]'),\n",
       " Text(27.52587012204309, 83.86971428571428, 'gini = 0.266\\nsamples = 19\\nvalue = [3, 0, 16]'),\n",
       " Text(28.063944553262015, 83.86971428571428, 'X[1] <= -0.184\\ngini = 0.542\\nsamples = 12\\nvalue = [4, 1, 7]'),\n",
       " Text(27.794907337652553, 77.65714285714284, 'X[1] <= -0.184\\ngini = 0.375\\nsamples = 4\\nvalue = [3, 1, 0]'),\n",
       " Text(27.52587012204309, 71.44457142857144, 'gini = 0.0\\nsamples = 3\\nvalue = [3, 0, 0]'),\n",
       " Text(28.063944553262015, 71.44457142857144, 'gini = 0.0\\nsamples = 1\\nvalue = [0, 1, 0]'),\n",
       " Text(28.332981768871477, 77.65714285714284, 'gini = 0.219\\nsamples = 8\\nvalue = [1, 0, 7]'),\n",
       " Text(28.332981768871477, 90.08228571428572, 'gini = 0.0\\nsamples = 1\\nvalue = [0, 1, 0]'),\n",
       " Text(28.8710562000904, 102.50742857142856, 'X[1] <= -0.166\\ngini = 0.536\\nsamples = 362\\nvalue = [168, 14, 180]'),\n",
       " Text(28.60201898448094, 96.29485714285714, 'gini = 0.516\\nsamples = 153\\nvalue = [81, 3, 69]'),\n",
       " Text(29.140093415699862, 96.29485714285714, 'X[1] <= -0.163\\ngini = 0.542\\nsamples = 209\\nvalue = [87, 11, 111]'),\n",
       " Text(28.8710562000904, 90.08228571428572, 'gini = 0.434\\nsamples = 35\\nvalue = [8, 2, 25]'),\n",
       " Text(29.409130631309324, 90.08228571428572, 'X[1] <= -0.162\\ngini = 0.547\\nsamples = 174\\nvalue = [79, 9, 86]'),\n",
       " Text(29.140093415699862, 83.86971428571428, 'gini = 0.0\\nsamples = 4\\nvalue = [4, 0, 0]'),\n",
       " Text(29.678167846918786, 83.86971428571428, 'X[1] <= -0.162\\ngini = 0.547\\nsamples = 170\\nvalue = [75, 9, 86]'),\n",
       " Text(29.409130631309324, 77.65714285714284, 'gini = 0.0\\nsamples = 5\\nvalue = [0, 0, 5]'),\n",
       " Text(29.947205062528248, 77.65714285714284, 'X[1] <= -0.161\\ngini = 0.549\\nsamples = 165\\nvalue = [75, 9, 81]'),\n",
       " Text(29.678167846918786, 71.44457142857144, 'gini = 0.278\\nsamples = 6\\nvalue = [5, 0, 1]'),\n",
       " Text(30.21624227813771, 71.44457142857144, 'X[1] <= -0.158\\ngini = 0.55\\nsamples = 159\\nvalue = [70, 9, 80]'),\n",
       " Text(29.274612023504595, 65.232, 'X[1] <= -0.158\\ngini = 0.447\\nsamples = 26\\nvalue = [7, 1, 18]'),\n",
       " Text(29.00557480789513, 59.01942857142856, 'X[1] <= -0.159\\ngini = 0.515\\nsamples = 20\\nvalue = [7, 1, 12]'),\n",
       " Text(28.736537592285668, 52.806857142857126, 'gini = 0.375\\nsamples = 16\\nvalue = [4, 0, 12]'),\n",
       " Text(29.274612023504595, 52.806857142857126, 'X[1] <= -0.159\\ngini = 0.375\\nsamples = 4\\nvalue = [3, 1, 0]'),\n",
       " Text(29.00557480789513, 46.59428571428572, 'gini = 0.0\\nsamples = 1\\nvalue = [0, 1, 0]'),\n",
       " Text(29.543649239114057, 46.59428571428572, 'gini = 0.0\\nsamples = 3\\nvalue = [3, 0, 0]'),\n",
       " Text(29.543649239114057, 59.01942857142856, 'gini = 0.0\\nsamples = 6\\nvalue = [0, 0, 6]'),\n",
       " Text(31.157872532770828, 65.232, 'X[1] <= -0.153\\ngini = 0.555\\nsamples = 133\\nvalue = [63, 8, 62]'),\n",
       " Text(30.619798101551904, 59.01942857142856, 'X[1] <= -0.153\\ngini = 0.535\\nsamples = 45\\nvalue = [27, 4, 14]'),\n",
       " Text(30.350760885942442, 52.806857142857126, 'X[1] <= -0.154\\ngini = 0.576\\nsamples = 38\\nvalue = [20, 4, 14]'),\n",
       " Text(30.08172367033298, 46.59428571428572, 'X[1] <= -0.155\\ngini = 0.554\\nsamples = 34\\nvalue = [20, 4, 10]'),\n",
       " Text(29.81268645472352, 40.38171428571428, 'X[1] <= -0.155\\ngini = 0.598\\nsamples = 27\\nvalue = [14, 4, 9]'),\n",
       " Text(29.543649239114057, 34.169142857142845, 'X[1] <= -0.156\\ngini = 0.552\\nsamples = 23\\nvalue = [14, 4, 5]'),\n",
       " Text(29.274612023504595, 27.956571428571436, 'X[1] <= -0.156\\ngini = 0.508\\nsamples = 16\\nvalue = [10, 1, 5]'),\n",
       " Text(29.00557480789513, 21.744, 'X[1] <= -0.157\\ngini = 0.439\\nsamples = 14\\nvalue = [10, 1, 3]'),\n",
       " Text(28.736537592285668, 15.531428571428563, 'X[1] <= -0.157\\ngini = 0.49\\nsamples = 7\\nvalue = [4, 0, 3]'),\n",
       " Text(28.467500376676206, 9.318857142857127, 'gini = 0.32\\nsamples = 5\\nvalue = [4, 0, 1]'),\n",
       " Text(29.00557480789513, 9.318857142857127, 'gini = 0.0\\nsamples = 2\\nvalue = [0, 0, 2]'),\n",
       " Text(29.274612023504595, 15.531428571428563, 'gini = 0.245\\nsamples = 7\\nvalue = [6, 1, 0]'),\n",
       " Text(29.543649239114057, 21.744, 'gini = 0.0\\nsamples = 2\\nvalue = [0, 0, 2]'),\n",
       " Text(29.81268645472352, 27.956571428571436, 'gini = 0.49\\nsamples = 7\\nvalue = [4, 3, 0]'),\n",
       " Text(30.08172367033298, 34.169142857142845, 'gini = 0.0\\nsamples = 4\\nvalue = [0, 0, 4]'),\n",
       " Text(30.350760885942442, 40.38171428571428, 'gini = 0.245\\nsamples = 7\\nvalue = [6, 0, 1]'),\n",
       " Text(30.619798101551904, 46.59428571428572, 'gini = 0.0\\nsamples = 4\\nvalue = [0, 0, 4]'),\n",
       " Text(30.888835317161366, 52.806857142857126, 'gini = 0.0\\nsamples = 7\\nvalue = [7, 0, 0]'),\n",
       " Text(31.69594696398975, 59.01942857142856, 'X[1] <= -0.152\\ngini = 0.533\\nsamples = 88\\nvalue = [36, 4, 48]'),\n",
       " Text(31.42690974838029, 52.806857142857126, 'gini = 0.219\\nsamples = 8\\nvalue = [1, 0, 7]'),\n",
       " Text(31.964984179599213, 52.806857142857126, 'X[1] <= -0.152\\ngini = 0.543\\nsamples = 80\\nvalue = [35, 4, 41]'),\n",
       " Text(31.69594696398975, 46.59428571428572, 'gini = 0.32\\nsamples = 5\\nvalue = [4, 0, 1]'),\n",
       " Text(32.23402139520868, 46.59428571428572, 'X[1] <= -0.151\\ngini = 0.542\\nsamples = 75\\nvalue = [31, 4, 40]'),\n",
       " Text(31.964984179599213, 40.38171428571428, 'gini = 0.0\\nsamples = 3\\nvalue = [0, 0, 3]'),\n",
       " Text(32.50305861081814, 40.38171428571428, 'X[1] <= -0.146\\ngini = 0.547\\nsamples = 72\\nvalue = [31, 4, 37]'),\n",
       " Text(31.964984179599213, 34.169142857142845, 'X[1] <= -0.148\\ngini = 0.58\\nsamples = 42\\nvalue = [20, 4, 18]'),\n",
       " Text(31.69594696398975, 27.956571428571436, 'X[1] <= -0.148\\ngini = 0.607\\nsamples = 26\\nvalue = [9, 4, 13]'),\n",
       " Text(31.42690974838029, 21.744, 'X[1] <= -0.149\\ngini = 0.559\\nsamples = 24\\nvalue = [9, 2, 13]'),\n",
       " Text(31.157872532770828, 15.531428571428563, 'X[1] <= -0.149\\ngini = 0.587\\nsamples = 19\\nvalue = [9, 2, 8]'),\n",
       " Text(30.619798101551904, 9.318857142857127, 'X[1] <= -0.15\\ngini = 0.521\\nsamples = 13\\nvalue = [4, 1, 8]'),\n",
       " Text(30.350760885942442, 3.1062857142857183, 'gini = 0.594\\nsamples = 8\\nvalue = [4, 1, 3]'),\n",
       " Text(30.888835317161366, 3.1062857142857183, 'gini = 0.0\\nsamples = 5\\nvalue = [0, 0, 5]'),\n",
       " Text(31.69594696398975, 9.318857142857127, 'X[1] <= -0.149\\ngini = 0.278\\nsamples = 6\\nvalue = [5, 1, 0]'),\n",
       " Text(31.42690974838029, 3.1062857142857183, 'gini = 0.0\\nsamples = 5\\nvalue = [5, 0, 0]'),\n",
       " Text(31.964984179599213, 3.1062857142857183, 'gini = 0.0\\nsamples = 1\\nvalue = [0, 1, 0]'),\n",
       " Text(31.69594696398975, 15.531428571428563, 'gini = 0.0\\nsamples = 5\\nvalue = [0, 0, 5]'),\n",
       " Text(31.964984179599213, 21.744, 'gini = 0.0\\nsamples = 2\\nvalue = [0, 2, 0]'),\n",
       " Text(32.23402139520868, 27.956571428571436, 'gini = 0.43\\nsamples = 16\\nvalue = [11, 0, 5]'),\n",
       " Text(33.04113304203706, 34.169142857142845, 'X[1] <= -0.145\\ngini = 0.464\\nsamples = 30\\nvalue = [11, 0, 19]'),\n",
       " Text(32.7720958264276, 27.956571428571436, 'gini = 0.0\\nsamples = 6\\nvalue = [0, 0, 6]'),\n",
       " Text(33.310170257646526, 27.956571428571436, 'gini = 0.497\\nsamples = 24\\nvalue = [11, 0, 13]'),\n",
       " Text(28.063944553262015, 121.14514285714286, 'gini = 0.0\\nsamples = 2\\nvalue = [2, 0, 0]'),\n",
       " Text(28.332981768871477, 127.35771428571428, 'gini = 0.406\\nsamples = 8\\nvalue = [1, 1, 6]'),\n",
       " Text(29.678167846918786, 133.57028571428572, 'X[1] <= -0.138\\ngini = 0.531\\nsamples = 74\\nvalue = [40, 3, 31]'),\n",
       " Text(29.409130631309324, 127.35771428571428, 'X[1] <= -0.139\\ngini = 0.512\\nsamples = 45\\nvalue = [28, 3, 14]'),\n",
       " Text(29.140093415699862, 121.14514285714286, 'X[1] <= -0.141\\ngini = 0.562\\nsamples = 33\\nvalue = [18, 3, 12]'),\n",
       " Text(28.8710562000904, 114.93257142857142, 'gini = 0.34\\nsamples = 10\\nvalue = [8, 1, 1]'),\n",
       " Text(29.409130631309324, 114.93257142857142, 'X[1] <= -0.141\\ngini = 0.575\\nsamples = 23\\nvalue = [10, 2, 11]'),\n",
       " Text(29.140093415699862, 108.72, 'gini = 0.0\\nsamples = 4\\nvalue = [0, 0, 4]'),\n",
       " Text(29.678167846918786, 108.72, 'X[1] <= -0.14\\ngini = 0.576\\nsamples = 19\\nvalue = [10, 2, 7]'),\n",
       " Text(29.409130631309324, 102.50742857142856, 'gini = 0.5\\nsamples = 12\\nvalue = [8, 2, 2]'),\n",
       " Text(29.947205062528248, 102.50742857142856, 'gini = 0.408\\nsamples = 7\\nvalue = [2, 0, 5]'),\n",
       " Text(29.678167846918786, 121.14514285714286, 'gini = 0.278\\nsamples = 12\\nvalue = [10, 0, 2]'),\n",
       " Text(29.947205062528248, 127.35771428571428, 'gini = 0.485\\nsamples = 29\\nvalue = [12, 0, 17]'),\n",
       " Text(42.75274596956456, 177.05828571428572, 'X[1] <= -0.041\\ngini = 0.56\\nsamples = 1199\\nvalue = [658, 107, 434]'),\n",
       " Text(35.985829441012505, 170.84571428571428, 'X[1] <= -0.083\\ngini = 0.546\\nsamples = 862\\nvalue = [502, 79, 281]'),\n",
       " Text(31.746391441916526, 164.63314285714284, 'X[1] <= -0.129\\ngini = 0.499\\nsamples = 463\\nvalue = [285, 17, 161]'),\n",
       " Text(31.477354226307064, 158.42057142857144, 'gini = 0.349\\nsamples = 37\\nvalue = [29, 1, 7]'),\n",
       " Text(32.01542865752599, 158.42057142857144, 'X[1] <= -0.107\\ngini = 0.507\\nsamples = 426\\nvalue = [256, 16, 154]'),\n",
       " Text(30.48527949374717, 152.208, 'X[1] <= -0.107\\ngini = 0.518\\nsamples = 199\\nvalue = [108, 5, 86]'),\n",
       " Text(30.21624227813771, 145.99542857142856, 'X[1] <= -0.129\\ngini = 0.516\\nsamples = 195\\nvalue = [108, 5, 82]'),\n",
       " Text(29.947205062528248, 139.78285714285715, 'gini = 0.0\\nsamples = 2\\nvalue = [0, 0, 2]'),\n",
       " Text(30.48527949374717, 139.78285714285715, 'X[1] <= -0.128\\ngini = 0.514\\nsamples = 193\\nvalue = [108, 5, 80]'),\n",
       " Text(30.21624227813771, 133.57028571428572, 'gini = 0.219\\nsamples = 8\\nvalue = [7, 0, 1]'),\n",
       " Text(30.754316709356633, 133.57028571428572, 'X[1] <= -0.121\\ngini = 0.519\\nsamples = 185\\nvalue = [101, 5, 79]'),\n",
       " Text(30.48527949374717, 127.35771428571428, 'gini = 0.499\\nsamples = 63\\nvalue = [30, 0, 33]'),\n",
       " Text(31.0233539249661, 127.35771428571428, 'X[1] <= -0.117\\ngini = 0.517\\nsamples = 122\\nvalue = [71, 5, 46]'),\n",
       " Text(30.754316709356633, 121.14514285714286, 'gini = 0.44\\nsamples = 47\\nvalue = [33, 2, 12]'),\n",
       " Text(31.29239114057556, 121.14514285714286, 'X[1] <= -0.116\\ngini = 0.536\\nsamples = 75\\nvalue = [38, 3, 34]'),\n",
       " Text(31.0233539249661, 114.93257142857142, 'gini = 0.0\\nsamples = 6\\nvalue = [0, 0, 6]'),\n",
       " Text(31.561428356185022, 114.93257142857142, 'X[1] <= -0.112\\ngini = 0.53\\nsamples = 69\\nvalue = [38, 3, 28]'),\n",
       " Text(31.29239114057556, 108.72, 'gini = 0.413\\nsamples = 24\\nvalue = [17, 0, 7]'),\n",
       " Text(31.830465571794484, 108.72, 'X[1] <= -0.111\\ngini = 0.56\\nsamples = 45\\nvalue = [21, 3, 21]'),\n",
       " Text(31.561428356185022, 102.50742857142856, 'gini = 0.443\\nsamples = 17\\nvalue = [4, 1, 12]'),\n",
       " Text(32.09950278740394, 102.50742857142856, 'X[1] <= -0.111\\ngini = 0.523\\nsamples = 28\\nvalue = [17, 2, 9]'),\n",
       " Text(31.830465571794484, 96.29485714285714, 'gini = 0.0\\nsamples = 2\\nvalue = [2, 0, 0]'),\n",
       " Text(32.36854000301341, 96.29485714285714, 'X[1] <= -0.11\\ngini = 0.541\\nsamples = 26\\nvalue = [15, 2, 9]'),\n",
       " Text(32.09950278740394, 90.08228571428572, 'gini = 0.0\\nsamples = 2\\nvalue = [0, 0, 2]'),\n",
       " Text(32.63757721862287, 90.08228571428572, 'X[1] <= -0.11\\ngini = 0.517\\nsamples = 24\\nvalue = [15, 2, 7]'),\n",
       " Text(32.36854000301341, 83.86971428571428, 'gini = 0.0\\nsamples = 4\\nvalue = [4, 0, 0]'),\n",
       " Text(32.90661443423233, 83.86971428571428, 'X[1] <= -0.11\\ngini = 0.565\\nsamples = 20\\nvalue = [11, 2, 7]'),\n",
       " Text(32.63757721862287, 77.65714285714284, 'X[1] <= -0.11\\ngini = 0.375\\nsamples = 4\\nvalue = [0, 1, 3]'),\n",
       " Text(32.36854000301341, 71.44457142857144, 'gini = 0.0\\nsamples = 1\\nvalue = [0, 1, 0]'),\n",
       " Text(32.90661443423233, 71.44457142857144, 'gini = 0.0\\nsamples = 3\\nvalue = [0, 0, 3]'),\n",
       " Text(33.1756516498418, 77.65714285714284, 'gini = 0.461\\nsamples = 16\\nvalue = [11, 1, 4]'),\n",
       " Text(30.754316709356633, 145.99542857142856, 'gini = 0.0\\nsamples = 4\\nvalue = [0, 0, 4]'),\n",
       " Text(33.5455778213048, 152.208, 'X[1] <= -0.105\\ngini = 0.483\\nsamples = 227\\nvalue = [148, 11, 68]'),\n",
       " Text(33.276540605695345, 145.99542857142856, 'gini = 0.24\\nsamples = 15\\nvalue = [13, 1, 1]'),\n",
       " Text(33.81461503691427, 145.99542857142856, 'X[1] <= -0.105\\ngini = 0.492\\nsamples = 212\\nvalue = [135, 10, 67]'),\n",
       " Text(33.5455778213048, 139.78285714285715, 'gini = 0.32\\nsamples = 5\\nvalue = [1, 0, 4]'),\n",
       " Text(34.08365225252373, 139.78285714285715, 'X[1] <= -0.103\\ngini = 0.486\\nsamples = 207\\nvalue = [134, 10, 63]'),\n",
       " Text(33.81461503691427, 133.57028571428572, 'gini = 0.0\\nsamples = 6\\nvalue = [6, 0, 0]'),\n",
       " Text(34.35268946813319, 133.57028571428572, 'X[1] <= -0.103\\ngini = 0.494\\nsamples = 201\\nvalue = [128, 10, 63]'),\n",
       " Text(34.08365225252373, 127.35771428571428, 'gini = 0.0\\nsamples = 3\\nvalue = [0, 0, 3]'),\n",
       " Text(34.62172668374265, 127.35771428571428, 'X[1] <= -0.103\\ngini = 0.488\\nsamples = 198\\nvalue = [128, 10, 60]'),\n",
       " Text(34.35268946813319, 121.14514285714286, 'gini = 0.0\\nsamples = 4\\nvalue = [4, 0, 0]'),\n",
       " Text(34.890763899352116, 121.14514285714286, 'X[1] <= -0.097\\ngini = 0.493\\nsamples = 194\\nvalue = [124, 10, 60]'),\n",
       " Text(33.71372608106072, 114.93257142857142, 'X[1] <= -0.097\\ngini = 0.497\\nsamples = 61\\nvalue = [36, 1, 24]'),\n",
       " Text(33.444688865451255, 108.72, 'X[1] <= -0.099\\ngini = 0.442\\nsamples = 51\\nvalue = [35, 1, 15]'),\n",
       " Text(33.1756516498418, 102.50742857142856, 'X[1] <= -0.1\\ngini = 0.485\\nsamples = 29\\nvalue = [17, 0, 12]'),\n",
       " Text(32.90661443423233, 96.29485714285714, 'gini = 0.444\\nsamples = 24\\nvalue = [16, 0, 8]'),\n",
       " Text(33.444688865451255, 96.29485714285714, 'gini = 0.32\\nsamples = 5\\nvalue = [1, 0, 4]'),\n",
       " Text(33.71372608106072, 102.50742857142856, 'gini = 0.31\\nsamples = 22\\nvalue = [18, 1, 3]'),\n",
       " Text(33.98276329667018, 108.72, 'gini = 0.18\\nsamples = 10\\nvalue = [1, 0, 9]'),\n",
       " Text(36.06780171764351, 114.93257142857142, 'X[1] <= -0.088\\ngini = 0.484\\nsamples = 133\\nvalue = [88, 9, 36]'),\n",
       " Text(34.9243935513033, 108.72, 'X[1] <= -0.095\\ngini = 0.428\\nsamples = 69\\nvalue = [50, 5, 14]'),\n",
       " Text(34.251800512279644, 102.50742857142856, 'X[1] <= -0.096\\ngini = 0.594\\nsamples = 8\\nvalue = [4, 3, 1]'),\n",
       " Text(33.98276329667018, 96.29485714285714, 'gini = 0.5\\nsamples = 6\\nvalue = [4, 1, 1]'),\n",
       " Text(34.5208377278891, 96.29485714285714, 'gini = 0.0\\nsamples = 2\\nvalue = [0, 2, 0]'),\n",
       " Text(35.59698659032695, 102.50742857142856, 'X[1] <= -0.093\\ngini = 0.385\\nsamples = 61\\nvalue = [46, 2, 13]'),\n",
       " Text(35.058912159108026, 96.29485714285714, 'X[1] <= -0.093\\ngini = 0.473\\nsamples = 13\\nvalue = [8, 0, 5]'),\n",
       " Text(34.78987494349857, 90.08228571428572, 'X[1] <= -0.094\\ngini = 0.32\\nsamples = 10\\nvalue = [8, 0, 2]'),\n",
       " Text(34.5208377278891, 83.86971428571428, 'gini = 0.0\\nsamples = 5\\nvalue = [5, 0, 0]'),\n",
       " Text(35.058912159108026, 83.86971428571428, 'X[1] <= -0.094\\ngini = 0.48\\nsamples = 5\\nvalue = [3, 0, 2]'),\n",
       " Text(34.78987494349857, 77.65714285714284, 'gini = 0.0\\nsamples = 2\\nvalue = [0, 0, 2]'),\n",
       " Text(35.32794937471749, 77.65714285714284, 'gini = 0.0\\nsamples = 3\\nvalue = [3, 0, 0]'),\n",
       " Text(35.32794937471749, 90.08228571428572, 'gini = 0.0\\nsamples = 3\\nvalue = [0, 0, 3]'),\n",
       " Text(36.13506102154588, 96.29485714285714, 'X[1] <= -0.091\\ngini = 0.344\\nsamples = 48\\nvalue = [38, 2, 8]'),\n",
       " Text(35.866023805936415, 90.08228571428572, 'gini = 0.105\\nsamples = 18\\nvalue = [17, 1, 0]'),\n",
       " Text(36.40409823715534, 90.08228571428572, 'X[1] <= -0.09\\ngini = 0.438\\nsamples = 30\\nvalue = [21, 1, 8]'),\n",
       " Text(36.13506102154588, 83.86971428571428, 'gini = 0.496\\nsamples = 11\\nvalue = [5, 0, 6]'),\n",
       " Text(36.673135452764804, 83.86971428571428, 'X[1] <= -0.089\\ngini = 0.277\\nsamples = 19\\nvalue = [16, 1, 2]'),\n",
       " Text(36.40409823715534, 77.65714285714284, 'gini = 0.0\\nsamples = 9\\nvalue = [9, 0, 0]'),\n",
       " Text(36.94217266837426, 77.65714285714284, 'X[1] <= -0.089\\ngini = 0.46\\nsamples = 10\\nvalue = [7, 1, 2]'),\n",
       " Text(36.673135452764804, 71.44457142857144, 'gini = 0.625\\nsamples = 4\\nvalue = [1, 1, 2]'),\n",
       " Text(37.21120988398373, 71.44457142857144, 'gini = 0.0\\nsamples = 6\\nvalue = [6, 0, 0]'),\n",
       " Text(37.21120988398373, 108.72, 'X[1] <= -0.086\\ngini = 0.525\\nsamples = 64\\nvalue = [38, 4, 22]'),\n",
       " Text(36.94217266837426, 102.50742857142856, 'X[1] <= -0.086\\ngini = 0.524\\nsamples = 15\\nvalue = [5, 1, 9]'),\n",
       " Text(36.673135452764804, 96.29485714285714, 'gini = 0.58\\nsamples = 10\\nvalue = [5, 1, 4]'),\n",
       " Text(37.21120988398373, 96.29485714285714, 'gini = 0.0\\nsamples = 5\\nvalue = [0, 0, 5]'),\n",
       " Text(37.480247099593186, 102.50742857142856, 'gini = 0.472\\nsamples = 49\\nvalue = [33, 3, 13]'),\n",
       " Text(40.22526744010848, 164.63314285714284, 'X[1] <= -0.041\\ngini = 0.59\\nsamples = 399\\nvalue = [217, 62, 120]'),\n",
       " Text(39.956230224499016, 158.42057142857144, 'X[1] <= -0.078\\ngini = 0.594\\nsamples = 393\\nvalue = [211, 62, 120]'),\n",
       " Text(38.6236552659334, 152.208, 'X[1] <= -0.079\\ngini = 0.656\\nsamples = 40\\nvalue = [15, 10, 15]'),\n",
       " Text(38.08558083471448, 145.99542857142856, 'X[1] <= -0.079\\ngini = 0.624\\nsamples = 30\\nvalue = [12, 5, 13]'),\n",
       " Text(37.81654361910501, 139.78285714285715, 'gini = 0.631\\nsamples = 27\\nvalue = [12, 5, 10]'),\n",
       " Text(38.354618050323936, 139.78285714285715, 'gini = 0.0\\nsamples = 3\\nvalue = [0, 0, 3]'),\n",
       " Text(39.161729697152325, 145.99542857142856, 'X[1] <= -0.079\\ngini = 0.62\\nsamples = 10\\nvalue = [3, 5, 2]'),\n",
       " Text(38.892692481542866, 139.78285714285715, 'gini = 0.49\\nsamples = 7\\nvalue = [3, 4, 0]'),\n",
       " Text(39.43076691276179, 139.78285714285715, 'gini = 0.444\\nsamples = 3\\nvalue = [0, 1, 2]'),\n",
       " Text(41.28880518306463, 152.208, 'X[1] <= -0.075\\ngini = 0.582\\nsamples = 353\\nvalue = [196, 52, 105]'),\n",
       " Text(40.23787855959017, 145.99542857142856, 'X[1] <= -0.078\\ngini = 0.292\\nsamples = 24\\nvalue = [20, 2, 2]'),\n",
       " Text(39.96884134398071, 139.78285714285715, 'X[1] <= -0.078\\ngini = 0.48\\nsamples = 5\\nvalue = [3, 0, 2]'),\n",
       " Text(39.69980412837125, 133.57028571428572, 'gini = 0.0\\nsamples = 3\\nvalue = [3, 0, 0]'),\n",
       " Text(40.23787855959017, 133.57028571428572, 'gini = 0.0\\nsamples = 2\\nvalue = [0, 0, 2]'),\n",
       " Text(40.50691577519964, 139.78285714285715, 'gini = 0.188\\nsamples = 19\\nvalue = [17, 2, 0]'),\n",
       " Text(42.3397318065391, 145.99542857142856, 'X[1] <= -0.066\\ngini = 0.593\\nsamples = 329\\nvalue = [176, 50, 103]'),\n",
       " Text(41.549434985686304, 139.78285714285715, 'X[1] <= -0.067\\ngini = 0.622\\nsamples = 101\\nvalue = [51, 24, 26]'),\n",
       " Text(40.775952990809095, 133.57028571428572, 'X[1] <= -0.067\\ngini = 0.613\\nsamples = 89\\nvalue = [46, 18, 25]'),\n",
       " Text(40.036100647883075, 127.35771428571428, 'X[1] <= -0.07\\ngini = 0.608\\nsamples = 83\\nvalue = [44, 18, 21]'),\n",
       " Text(39.36350760885942, 121.14514285714286, 'X[1] <= -0.071\\ngini = 0.652\\nsamples = 49\\nvalue = [21, 13, 15]'),\n",
       " Text(38.8254331776405, 114.93257142857142, 'X[1] <= -0.072\\ngini = 0.624\\nsamples = 40\\nvalue = [20, 9, 11]'),\n",
       " Text(38.55639596203103, 108.72, 'X[1] <= -0.074\\ngini = 0.637\\nsamples = 33\\nvalue = [15, 7, 11]'),\n",
       " Text(38.01832153081211, 102.50742857142856, 'X[1] <= -0.074\\ngini = 0.592\\nsamples = 13\\nvalue = [7, 4, 2]'),\n",
       " Text(37.74928431520265, 96.29485714285714, 'X[1] <= -0.075\\ngini = 0.642\\nsamples = 9\\nvalue = [3, 4, 2]'),\n",
       " Text(37.480247099593186, 90.08228571428572, 'gini = 0.5\\nsamples = 4\\nvalue = [2, 0, 2]'),\n",
       " Text(38.01832153081211, 90.08228571428572, 'gini = 0.32\\nsamples = 5\\nvalue = [1, 4, 0]'),\n",
       " Text(38.287358746421575, 96.29485714285714, 'gini = 0.0\\nsamples = 4\\nvalue = [4, 0, 0]'),\n",
       " Text(39.094470393249956, 102.50742857142856, 'X[1] <= -0.073\\ngini = 0.615\\nsamples = 20\\nvalue = [8, 3, 9]'),\n",
       " Text(38.8254331776405, 96.29485714285714, 'gini = 0.494\\nsamples = 9\\nvalue = [2, 1, 6]'),\n",
       " Text(39.36350760885942, 96.29485714285714, 'X[1] <= -0.073\\ngini = 0.595\\nsamples = 11\\nvalue = [6, 2, 3]'),\n",
       " Text(39.094470393249956, 90.08228571428572, 'gini = 0.0\\nsamples = 4\\nvalue = [4, 0, 0]'),\n",
       " Text(39.63254482446889, 90.08228571428572, 'gini = 0.653\\nsamples = 7\\nvalue = [2, 2, 3]'),\n",
       " Text(39.094470393249956, 108.72, 'gini = 0.408\\nsamples = 7\\nvalue = [5, 2, 0]'),\n",
       " Text(39.901582040078345, 114.93257142857142, 'X[1] <= -0.071\\ngini = 0.593\\nsamples = 9\\nvalue = [1, 4, 4]'),\n",
       " Text(39.63254482446889, 108.72, 'gini = 0.0\\nsamples = 2\\nvalue = [0, 0, 2]'),\n",
       " Text(40.17061925568781, 108.72, 'gini = 0.571\\nsamples = 7\\nvalue = [1, 4, 2]'),\n",
       " Text(40.708693686906734, 121.14514285714286, 'X[1] <= -0.068\\ngini = 0.49\\nsamples = 34\\nvalue = [23, 5, 6]'),\n",
       " Text(40.43965647129727, 114.93257142857142, 'gini = 0.133\\nsamples = 14\\nvalue = [13, 0, 1]'),\n",
       " Text(40.97773090251619, 114.93257142857142, 'X[1] <= -0.068\\ngini = 0.625\\nsamples = 20\\nvalue = [10, 5, 5]'),\n",
       " Text(40.708693686906734, 108.72, 'X[1] <= -0.068\\ngini = 0.625\\nsamples = 8\\nvalue = [2, 2, 4]'),\n",
       " Text(40.43965647129727, 102.50742857142856, 'gini = 0.5\\nsamples = 4\\nvalue = [2, 2, 0]'),\n",
       " Text(40.97773090251619, 102.50742857142856, 'gini = 0.0\\nsamples = 4\\nvalue = [0, 0, 4]'),\n",
       " Text(41.24676811812566, 108.72, 'gini = 0.486\\nsamples = 12\\nvalue = [8, 3, 1]'),\n",
       " Text(41.515805333735116, 127.35771428571428, 'X[1] <= -0.067\\ngini = 0.444\\nsamples = 6\\nvalue = [2, 0, 4]'),\n",
       " Text(41.24676811812566, 121.14514285714286, 'gini = 0.0\\nsamples = 4\\nvalue = [0, 0, 4]'),\n",
       " Text(41.78484254934458, 121.14514285714286, 'gini = 0.0\\nsamples = 2\\nvalue = [2, 0, 0]'),\n",
       " Text(42.322916980563505, 133.57028571428572, 'X[1] <= -0.066\\ngini = 0.569\\nsamples = 12\\nvalue = [5, 6, 1]'),\n",
       " Text(42.05387976495404, 127.35771428571428, 'gini = 0.0\\nsamples = 3\\nvalue = [0, 3, 0]'),\n",
       " Text(42.59195419617296, 127.35771428571428, 'gini = 0.568\\nsamples = 9\\nvalue = [5, 3, 1]'),\n",
       " Text(43.130028627391894, 139.78285714285715, 'X[1] <= -0.065\\ngini = 0.572\\nsamples = 228\\nvalue = [125, 26, 77]'),\n",
       " Text(42.86099141178243, 133.57028571428572, 'gini = 0.0\\nsamples = 2\\nvalue = [0, 0, 2]'),\n",
       " Text(43.39906584300135, 133.57028571428572, 'X[1] <= -0.065\\ngini = 0.571\\nsamples = 226\\nvalue = [125, 26, 75]'),\n",
       " Text(43.130028627391894, 127.35771428571428, 'gini = 0.32\\nsamples = 10\\nvalue = [8, 0, 2]'),\n",
       " Text(43.66810305861082, 127.35771428571428, 'X[1] <= -0.063\\ngini = 0.578\\nsamples = 216\\nvalue = [117, 26, 73]'),\n",
       " Text(42.89462106373361, 121.14514285714286, 'X[1] <= -0.064\\ngini = 0.643\\nsamples = 28\\nvalue = [10, 6, 12]'),\n",
       " Text(42.62558384812415, 114.93257142857142, 'gini = 0.605\\nsamples = 23\\nvalue = [10, 3, 10]'),\n",
       " Text(43.163658279343075, 114.93257142857142, 'gini = 0.48\\nsamples = 5\\nvalue = [0, 3, 2]'),\n",
       " Text(44.44158505348802, 121.14514285714286, 'X[1] <= -0.06\\ngini = 0.559\\nsamples = 188\\nvalue = [107, 20, 61]'),\n",
       " Text(43.701732710562, 114.93257142857142, 'X[1] <= -0.062\\ngini = 0.433\\nsamples = 33\\nvalue = [24, 4, 5]'),\n",
       " Text(43.43269549495253, 108.72, 'X[1] <= -0.062\\ngini = 0.514\\nsamples = 23\\nvalue = [15, 4, 4]'),\n",
       " Text(43.163658279343075, 102.50742857142856, 'gini = 0.444\\nsamples = 21\\nvalue = [15, 2, 4]'),\n",
       " Text(43.701732710562, 102.50742857142856, 'gini = 0.0\\nsamples = 2\\nvalue = [0, 2, 0]'),\n",
       " Text(43.97076992617146, 108.72, 'gini = 0.18\\nsamples = 10\\nvalue = [9, 0, 1]'),\n",
       " Text(45.18143739641404, 114.93257142857142, 'X[1] <= -0.057\\ngini = 0.572\\nsamples = 155\\nvalue = [83, 16, 56]'),\n",
       " Text(44.50884435739039, 108.72, 'X[1] <= -0.059\\ngini = 0.549\\nsamples = 27\\nvalue = [10, 2, 15]'),\n",
       " Text(44.23980714178092, 102.50742857142856, 'X[1] <= -0.059\\ngini = 0.551\\nsamples = 15\\nvalue = [8, 1, 6]'),\n",
       " Text(43.97076992617146, 96.29485714285714, 'gini = 0.568\\nsamples = 9\\nvalue = [3, 1, 5]'),\n",
       " Text(44.50884435739039, 96.29485714285714, 'gini = 0.278\\nsamples = 6\\nvalue = [5, 0, 1]'),\n",
       " Text(44.777881572999846, 102.50742857142856, 'gini = 0.403\\nsamples = 12\\nvalue = [2, 1, 9]'),\n",
       " Text(45.85403043543769, 108.72, 'X[1] <= -0.053\\ngini = 0.56\\nsamples = 128\\nvalue = [73, 14, 41]'),\n",
       " Text(45.31595600421877, 102.50742857142856, 'X[1] <= -0.056\\ngini = 0.432\\nsamples = 32\\nvalue = [23, 2, 7]'),\n",
       " Text(45.04691878860931, 96.29485714285714, 'X[1] <= -0.057\\ngini = 0.556\\nsamples = 13\\nvalue = [7, 1, 5]'),\n",
       " Text(44.777881572999846, 90.08228571428572, 'gini = 0.0\\nsamples = 4\\nvalue = [4, 0, 0]'),\n",
       " Text(45.31595600421877, 90.08228571428572, 'X[1] <= -0.057\\ngini = 0.568\\nsamples = 9\\nvalue = [3, 1, 5]'),\n",
       " Text(45.04691878860931, 83.86971428571428, 'gini = 0.375\\nsamples = 4\\nvalue = [0, 1, 3]'),\n",
       " Text(45.584993219828235, 83.86971428571428, 'X[1] <= -0.056\\ngini = 0.48\\nsamples = 5\\nvalue = [3, 0, 2]'),\n",
       " Text(45.31595600421877, 77.65714285714284, 'gini = 0.0\\nsamples = 3\\nvalue = [3, 0, 0]'),\n",
       " Text(45.85403043543769, 77.65714285714284, 'gini = 0.0\\nsamples = 2\\nvalue = [0, 0, 2]'),\n",
       " Text(45.584993219828235, 96.29485714285714, 'gini = 0.277\\nsamples = 19\\nvalue = [16, 1, 2]'),\n",
       " Text(46.39210486665662, 102.50742857142856, 'X[1] <= -0.053\\ngini = 0.588\\nsamples = 96\\nvalue = [50, 12, 34]'),\n",
       " Text(46.12306765104716, 96.29485714285714, 'gini = 0.0\\nsamples = 2\\nvalue = [0, 0, 2]'),\n",
       " Text(46.66114208226608, 96.29485714285714, 'X[1] <= -0.051\\ngini = 0.585\\nsamples = 94\\nvalue = [50, 12, 32]'),\n",
       " Text(46.39210486665662, 90.08228571428572, 'gini = 0.278\\nsamples = 6\\nvalue = [5, 0, 1]'),\n",
       " Text(46.93017929787554, 90.08228571428572, 'X[1] <= -0.051\\ngini = 0.596\\nsamples = 88\\nvalue = [45, 12, 31]'),\n",
       " Text(46.66114208226608, 83.86971428571428, 'gini = 0.0\\nsamples = 3\\nvalue = [0, 0, 3]'),\n",
       " Text(47.199216513485005, 83.86971428571428, 'X[1] <= -0.044\\ngini = 0.591\\nsamples = 85\\nvalue = [45, 12, 28]'),\n",
       " Text(46.52662347446135, 77.65714285714284, 'X[1] <= -0.045\\ngini = 0.592\\nsamples = 45\\nvalue = [25, 9, 11]'),\n",
       " Text(45.98854904324243, 71.44457142857144, 'X[1] <= -0.045\\ngini = 0.639\\nsamples = 32\\nvalue = [15, 8, 9]'),\n",
       " Text(45.719511827632964, 65.232, 'X[1] <= -0.046\\ngini = 0.615\\nsamples = 28\\nvalue = [14, 5, 9]'),\n",
       " Text(45.4504746120235, 59.01942857142856, 'X[1] <= -0.049\\ngini = 0.586\\nsamples = 23\\nvalue = [13, 5, 5]'),\n",
       " Text(45.18143739641404, 52.806857142857126, 'X[1] <= -0.049\\ngini = 0.611\\nsamples = 6\\nvalue = [2, 1, 3]'),\n",
       " Text(44.912400180804575, 46.59428571428572, 'X[1] <= -0.05\\ngini = 0.444\\nsamples = 3\\nvalue = [2, 1, 0]'),\n",
       " Text(44.64336296519512, 40.38171428571428, 'gini = 0.0\\nsamples = 2\\nvalue = [2, 0, 0]'),\n",
       " Text(45.18143739641404, 40.38171428571428, 'gini = 0.0\\nsamples = 1\\nvalue = [0, 1, 0]'),\n",
       " Text(45.4504746120235, 46.59428571428572, 'gini = 0.0\\nsamples = 3\\nvalue = [0, 0, 3]'),\n",
       " Text(45.719511827632964, 52.806857142857126, 'gini = 0.512\\nsamples = 17\\nvalue = [11, 4, 2]'),\n",
       " Text(45.98854904324243, 59.01942857142856, 'gini = 0.32\\nsamples = 5\\nvalue = [1, 0, 4]'),\n",
       " Text(46.25758625885189, 65.232, 'gini = 0.375\\nsamples = 4\\nvalue = [1, 3, 0]'),\n",
       " Text(47.064697905680276, 71.44457142857144, 'X[1] <= -0.045\\ngini = 0.379\\nsamples = 13\\nvalue = [10, 1, 2]'),\n",
       " Text(46.79566069007081, 65.232, 'gini = 0.0\\nsamples = 6\\nvalue = [6, 0, 0]'),\n",
       " Text(47.333735121289735, 65.232, 'X[1] <= -0.045\\ngini = 0.571\\nsamples = 7\\nvalue = [4, 1, 2]'),\n",
       " Text(47.064697905680276, 59.01942857142856, 'gini = 0.0\\nsamples = 2\\nvalue = [0, 0, 2]'),\n",
       " Text(47.6027723368992, 59.01942857142856, 'gini = 0.32\\nsamples = 5\\nvalue = [4, 1, 0]'),\n",
       " Text(47.87180955250866, 77.65714285714284, 'X[1] <= -0.044\\ngini = 0.564\\nsamples = 40\\nvalue = [20, 3, 17]'),\n",
       " Text(47.6027723368992, 71.44457142857144, 'gini = 0.0\\nsamples = 3\\nvalue = [0, 0, 3]'),\n",
       " Text(48.140846768118124, 71.44457142857144, 'X[1] <= -0.044\\ngini = 0.558\\nsamples = 37\\nvalue = [20, 3, 14]'),\n",
       " Text(47.87180955250866, 65.232, 'gini = 0.0\\nsamples = 1\\nvalue = [0, 1, 0]'),\n",
       " Text(48.40988398372758, 65.232, 'gini = 0.537\\nsamples = 36\\nvalue = [20, 2, 14]'),\n",
       " Text(40.49430465571794, 158.42057142857144, 'gini = 0.0\\nsamples = 6\\nvalue = [6, 0, 0]'),\n",
       " Text(49.51966249811662, 170.84571428571428, 'X[1] <= -0.021\\ngini = 0.573\\nsamples = 337\\nvalue = [156, 28, 153]'),\n",
       " Text(47.53551303299683, 164.63314285714284, 'X[1] <= -0.028\\ngini = 0.554\\nsamples = 230\\nvalue = [96, 15, 119]'),\n",
       " Text(46.39210486665662, 158.42057142857144, 'X[1] <= -0.028\\ngini = 0.559\\nsamples = 168\\nvalue = [77, 11, 80]'),\n",
       " Text(46.12306765104716, 152.208, 'X[1] <= -0.039\\ngini = 0.559\\nsamples = 164\\nvalue = [73, 11, 80]'),\n",
       " Text(45.584993219828235, 145.99542857142856, 'X[1] <= -0.04\\ngini = 0.494\\nsamples = 26\\nvalue = [7, 2, 17]'),\n",
       " Text(45.31595600421877, 139.78285714285715, 'X[1] <= -0.04\\ngini = 0.565\\nsamples = 20\\nvalue = [7, 2, 11]'),\n",
       " Text(45.04691878860931, 133.57028571428572, 'gini = 0.537\\nsamples = 18\\nvalue = [5, 2, 11]'),\n",
       " Text(45.584993219828235, 133.57028571428572, 'gini = 0.0\\nsamples = 2\\nvalue = [2, 0, 0]'),\n",
       " Text(45.85403043543769, 139.78285714285715, 'gini = 0.0\\nsamples = 6\\nvalue = [0, 0, 6]'),\n",
       " Text(46.66114208226608, 145.99542857142856, 'X[1] <= -0.031\\ngini = 0.559\\nsamples = 138\\nvalue = [66, 9, 63]'),\n",
       " Text(46.39210486665662, 139.78285714285715, 'X[1] <= -0.039\\ngini = 0.545\\nsamples = 112\\nvalue = [58, 6, 48]'),\n",
       " Text(46.12306765104716, 133.57028571428572, 'gini = 0.529\\nsamples = 11\\nvalue = [7, 2, 2]'),\n",
       " Text(46.66114208226608, 133.57028571428572, 'X[1] <= -0.036\\ngini = 0.536\\nsamples = 101\\nvalue = [51, 4, 46]'),\n",
       " Text(46.39210486665662, 127.35771428571428, 'gini = 0.495\\nsamples = 29\\nvalue = [10, 1, 18]'),\n",
       " Text(46.93017929787554, 127.35771428571428, 'X[1] <= -0.036\\ngini = 0.523\\nsamples = 72\\nvalue = [41, 3, 28]'),\n",
       " Text(46.66114208226608, 121.14514285714286, 'gini = 0.0\\nsamples = 5\\nvalue = [5, 0, 0]'),\n",
       " Text(47.199216513485005, 121.14514285714286, 'X[1] <= -0.035\\ngini = 0.535\\nsamples = 67\\nvalue = [36, 3, 28]'),\n",
       " Text(46.93017929787554, 114.93257142857142, 'gini = 0.0\\nsamples = 2\\nvalue = [0, 0, 2]'),\n",
       " Text(47.468253729094464, 114.93257142857142, 'X[1] <= -0.035\\ngini = 0.531\\nsamples = 65\\nvalue = [36, 3, 26]'),\n",
       " Text(47.199216513485005, 108.72, 'X[1] <= -0.035\\ngini = 0.5\\nsamples = 12\\nvalue = [8, 2, 2]'),\n",
       " Text(46.93017929787554, 102.50742857142856, 'gini = 0.653\\nsamples = 7\\nvalue = [3, 2, 2]'),\n",
       " Text(47.468253729094464, 102.50742857142856, 'gini = 0.0\\nsamples = 5\\nvalue = [5, 0, 0]'),\n",
       " Text(47.73729094470393, 108.72, 'gini = 0.515\\nsamples = 53\\nvalue = [28, 1, 24]'),\n",
       " Text(46.93017929787554, 139.78285714285715, 'gini = 0.559\\nsamples = 26\\nvalue = [8, 3, 15]'),\n",
       " Text(46.66114208226608, 152.208, 'gini = 0.0\\nsamples = 4\\nvalue = [4, 0, 0]'),\n",
       " Text(48.67892119933705, 158.42057142857144, 'X[1] <= -0.026\\ngini = 0.506\\nsamples = 62\\nvalue = [19, 4, 39]'),\n",
       " Text(48.006328160313394, 152.208, 'X[1] <= -0.027\\ngini = 0.304\\nsamples = 17\\nvalue = [2, 1, 14]'),\n",
       " Text(47.73729094470393, 145.99542857142856, 'X[1] <= -0.027\\ngini = 0.494\\nsamples = 9\\nvalue = [2, 1, 6]'),\n",
       " Text(47.468253729094464, 139.78285714285715, 'gini = 0.0\\nsamples = 5\\nvalue = [0, 0, 5]'),\n",
       " Text(48.006328160313394, 139.78285714285715, 'gini = 0.625\\nsamples = 4\\nvalue = [2, 1, 1]'),\n",
       " Text(48.27536537592285, 145.99542857142856, 'gini = 0.0\\nsamples = 8\\nvalue = [0, 0, 8]'),\n",
       " Text(49.3515142383607, 152.208, 'X[1] <= -0.024\\ngini = 0.544\\nsamples = 45\\nvalue = [17, 3, 25]'),\n",
       " Text(48.813439807141776, 145.99542857142856, 'X[1] <= -0.025\\ngini = 0.495\\nsamples = 20\\nvalue = [11, 0, 9]'),\n",
       " Text(48.54440259153232, 139.78285714285715, 'X[1] <= -0.026\\ngini = 0.473\\nsamples = 13\\nvalue = [5, 0, 8]'),\n",
       " Text(48.27536537592285, 133.57028571428572, 'gini = 0.0\\nsamples = 2\\nvalue = [2, 0, 0]'),\n",
       " Text(48.813439807141776, 133.57028571428572, 'gini = 0.397\\nsamples = 11\\nvalue = [3, 0, 8]'),\n",
       " Text(49.08247702275124, 139.78285714285715, 'gini = 0.245\\nsamples = 7\\nvalue = [6, 0, 1]'),\n",
       " Text(49.889588669579624, 145.99542857142856, 'X[1] <= -0.024\\ngini = 0.518\\nsamples = 25\\nvalue = [6, 3, 16]'),\n",
       " Text(49.620551453970165, 139.78285714285715, 'gini = 0.0\\nsamples = 6\\nvalue = [0, 0, 6]'),\n",
       " Text(50.15862588518909, 139.78285714285715, 'gini = 0.598\\nsamples = 19\\nvalue = [6, 3, 10]'),\n",
       " Text(51.5038119632364, 164.63314285714284, 'X[1] <= 0.005\\ngini = 0.57\\nsamples = 107\\nvalue = [60, 13, 34]'),\n",
       " Text(51.234774747626936, 158.42057142857144, 'X[1] <= -0.021\\ngini = 0.56\\nsamples = 103\\nvalue = [60, 13, 30]'),\n",
       " Text(50.96573753201747, 152.208, 'gini = 0.0\\nsamples = 4\\nvalue = [4, 0, 0]'),\n",
       " Text(51.5038119632364, 152.208, 'X[1] <= -0.013\\ngini = 0.571\\nsamples = 99\\nvalue = [56, 13, 30]'),\n",
       " Text(50.96573753201747, 145.99542857142856, 'X[1] <= -0.014\\ngini = 0.577\\nsamples = 33\\nvalue = [16, 3, 14]'),\n",
       " Text(50.69670031640801, 139.78285714285715, 'X[1] <= -0.018\\ngini = 0.577\\nsamples = 26\\nvalue = [14, 3, 9]'),\n",
       " Text(50.42766310079855, 133.57028571428572, 'X[1] <= -0.019\\ngini = 0.595\\nsamples = 17\\nvalue = [7, 2, 8]'),\n",
       " Text(50.15862588518909, 127.35771428571428, 'gini = 0.569\\nsamples = 12\\nvalue = [7, 2, 3]'),\n",
       " Text(50.69670031640801, 127.35771428571428, 'gini = 0.0\\nsamples = 5\\nvalue = [0, 0, 5]'),\n",
       " Text(50.96573753201747, 133.57028571428572, 'gini = 0.37\\nsamples = 9\\nvalue = [7, 1, 1]'),\n",
       " Text(51.234774747626936, 139.78285714285715, 'gini = 0.408\\nsamples = 7\\nvalue = [2, 0, 5]'),\n",
       " Text(52.041886394455325, 145.99542857142856, 'X[1] <= -0.006\\ngini = 0.551\\nsamples = 66\\nvalue = [40, 10, 16]'),\n",
       " Text(51.77284917884586, 139.78285714285715, 'gini = 0.46\\nsamples = 30\\nvalue = [21, 6, 3]'),\n",
       " Text(52.31092361006478, 139.78285714285715, 'gini = 0.579\\nsamples = 36\\nvalue = [19, 4, 13]'),\n",
       " Text(51.77284917884586, 158.42057142857144, 'gini = 0.0\\nsamples = 4\\nvalue = [0, 0, 4]'),\n",
       " Text(61.70358030736778, 183.27085714285715, 'X[1] <= -0.164\\ngini = 0.594\\nsamples = 658\\nvalue = [277, 75, 306]'),\n",
       " Text(54.684966852493595, 177.05828571428572, 'X[0] <= 0.146\\ngini = 0.594\\nsamples = 442\\nvalue = [218, 54, 170]'),\n",
       " Text(52.41181256591833, 170.84571428571428, 'X[2] <= 0.206\\ngini = 0.245\\nsamples = 21\\nvalue = [3, 0, 18]'),\n",
       " Text(52.142775350308874, 164.63314285714284, 'gini = 0.1\\nsamples = 19\\nvalue = [1, 0, 18]'),\n",
       " Text(52.6808497815278, 164.63314285714284, 'gini = 0.0\\nsamples = 2\\nvalue = [2, 0, 0]'),\n",
       " Text(56.95812113906885, 170.84571428571428, 'X[1] <= -0.612\\ngini = 0.592\\nsamples = 421\\nvalue = [215, 54, 152]'),\n",
       " Text(53.21892421274672, 164.63314285714284, 'X[1] <= -0.617\\ngini = 0.309\\nsamples = 28\\nvalue = [23, 3, 2]'),\n",
       " Text(52.949886997137256, 158.42057142857144, 'gini = 0.0\\nsamples = 10\\nvalue = [10, 0, 0]'),\n",
       " Text(53.48796142835618, 158.42057142857144, 'X[1] <= -0.617\\ngini = 0.438\\nsamples = 18\\nvalue = [13, 3, 2]'),\n",
       " Text(53.21892421274672, 152.208, 'gini = 0.0\\nsamples = 1\\nvalue = [0, 0, 1]'),\n",
       " Text(53.756998643965645, 152.208, 'X[0] <= 0.897\\ngini = 0.381\\nsamples = 17\\nvalue = [13, 3, 1]'),\n",
       " Text(53.48796142835618, 145.99542857142856, 'X[1] <= -0.616\\ngini = 0.512\\nsamples = 11\\nvalue = [7, 3, 1]'),\n",
       " Text(53.21892421274672, 139.78285714285715, 'gini = 0.0\\nsamples = 2\\nvalue = [0, 2, 0]'),\n",
       " Text(53.756998643965645, 139.78285714285715, 'gini = 0.37\\nsamples = 9\\nvalue = [7, 1, 1]'),\n",
       " Text(54.0260358595751, 145.99542857142856, 'gini = 0.0\\nsamples = 6\\nvalue = [6, 0, 0]'),\n",
       " Text(60.69731806539099, 164.63314285714284, 'X[0] <= 0.889\\ngini = 0.599\\nsamples = 393\\nvalue = [192, 51, 150]'),\n",
       " Text(57.11155642609612, 158.42057142857144, 'X[0] <= 0.821\\ngini = 0.597\\nsamples = 285\\nvalue = [147, 41, 97]'),\n",
       " Text(55.18625885189091, 152.208, 'X[1] <= -0.597\\ngini = 0.619\\nsamples = 224\\nvalue = [105, 37, 82]'),\n",
       " Text(54.91722163628145, 145.99542857142856, 'gini = 0.245\\nsamples = 7\\nvalue = [1, 0, 6]'),\n",
       " Text(55.45529606750037, 145.99542857142856, 'X[2] <= 2.894\\ngini = 0.619\\nsamples = 217\\nvalue = [104, 37, 76]'),\n",
       " Text(54.29507307518457, 139.78285714285715, 'X[2] <= 2.659\\ngini = 0.625\\nsamples = 207\\nvalue = [96, 37, 74]'),\n",
       " Text(52.781738737381346, 133.57028571428572, 'X[1] <= -0.336\\ngini = 0.626\\nsamples = 197\\nvalue = [93, 37, 67]'),\n",
       " Text(51.234774747626936, 127.35771428571428, 'X[0] <= 0.819\\ngini = 0.632\\nsamples = 156\\nvalue = [68, 29, 59]'),\n",
       " Text(50.96573753201747, 121.14514285714286, 'X[0] <= 0.815\\ngini = 0.628\\nsamples = 154\\nvalue = [68, 27, 59]'),\n",
       " Text(50.69670031640801, 114.93257142857142, 'X[1] <= -0.575\\ngini = 0.63\\nsamples = 151\\nvalue = [65, 27, 59]'),\n",
       " Text(49.3515142383607, 108.72, 'X[0] <= 0.778\\ngini = 0.569\\nsamples = 24\\nvalue = [14, 4, 6]'),\n",
       " Text(48.813439807141776, 102.50742857142856, 'X[1] <= -0.587\\ngini = 0.357\\nsamples = 14\\nvalue = [11, 2, 1]'),\n",
       " Text(48.54440259153232, 96.29485714285714, 'gini = 0.0\\nsamples = 2\\nvalue = [0, 2, 0]'),\n",
       " Text(49.08247702275124, 96.29485714285714, 'gini = 0.153\\nsamples = 12\\nvalue = [11, 0, 1]'),\n",
       " Text(49.889588669579624, 102.50742857142856, 'X[1] <= -0.593\\ngini = 0.62\\nsamples = 10\\nvalue = [3, 2, 5]'),\n",
       " Text(49.620551453970165, 96.29485714285714, 'gini = 0.0\\nsamples = 3\\nvalue = [3, 0, 0]'),\n",
       " Text(50.15862588518909, 96.29485714285714, 'X[0] <= 0.81\\ngini = 0.408\\nsamples = 7\\nvalue = [0, 2, 5]'),\n",
       " Text(49.889588669579624, 90.08228571428572, 'gini = 0.0\\nsamples = 5\\nvalue = [0, 0, 5]'),\n",
       " Text(50.42766310079855, 90.08228571428572, 'gini = 0.0\\nsamples = 2\\nvalue = [0, 2, 0]'),\n",
       " Text(52.041886394455325, 108.72, 'X[0] <= 0.796\\ngini = 0.632\\nsamples = 127\\nvalue = [51, 23, 53]'),\n",
       " Text(51.77284917884586, 102.50742857142856, 'X[1] <= -0.568\\ngini = 0.635\\nsamples = 121\\nvalue = [46, 23, 52]'),\n",
       " Text(51.234774747626936, 96.29485714285714, 'X[0] <= 0.638\\ngini = 0.406\\nsamples = 8\\nvalue = [1, 1, 6]'),\n",
       " Text(50.96573753201747, 90.08228571428572, 'gini = 0.0\\nsamples = 1\\nvalue = [0, 1, 0]'),\n",
       " Text(51.5038119632364, 90.08228571428572, 'gini = 0.245\\nsamples = 7\\nvalue = [1, 0, 6]'),\n",
       " Text(52.31092361006478, 96.29485714285714, 'X[0] <= 0.15\\ngini = 0.638\\nsamples = 113\\nvalue = [45, 22, 46]'),\n",
       " Text(52.041886394455325, 90.08228571428572, 'gini = 0.0\\nsamples = 2\\nvalue = [2, 0, 0]'),\n",
       " Text(52.57996082567425, 90.08228571428572, 'X[0] <= 0.162\\ngini = 0.639\\nsamples = 111\\nvalue = [43, 22, 46]'),\n",
       " Text(51.77284917884586, 83.86971428571428, 'X[2] <= -0.171\\ngini = 0.444\\nsamples = 6\\nvalue = [0, 2, 4]'),\n",
       " Text(51.5038119632364, 77.65714285714284, 'gini = 0.0\\nsamples = 3\\nvalue = [0, 0, 3]'),\n",
       " Text(52.041886394455325, 77.65714285714284, 'X[1] <= -0.558\\ngini = 0.444\\nsamples = 3\\nvalue = [0, 2, 1]'),\n",
       " Text(51.77284917884586, 71.44457142857144, 'gini = 0.0\\nsamples = 1\\nvalue = [0, 0, 1]'),\n",
       " Text(52.31092361006478, 71.44457142857144, 'gini = 0.0\\nsamples = 2\\nvalue = [0, 2, 0]'),\n",
       " Text(53.38707247250263, 83.86971428571428, 'X[1] <= -0.351\\ngini = 0.636\\nsamples = 105\\nvalue = [43, 20, 42]'),\n",
       " Text(53.11803525689317, 77.65714285714284, 'X[1] <= -0.353\\ngini = 0.637\\nsamples = 103\\nvalue = [43, 20, 40]'),\n",
       " Text(52.84899804128371, 71.44457142857144, 'X[0] <= 0.312\\ngini = 0.63\\nsamples = 101\\nvalue = [43, 18, 40]'),\n",
       " Text(51.52062678921199, 65.232, 'X[1] <= -0.401\\ngini = 0.397\\nsamples = 11\\nvalue = [8, 0, 3]'),\n",
       " Text(51.25158957360253, 59.01942857142856, 'gini = 0.0\\nsamples = 6\\nvalue = [6, 0, 0]'),\n",
       " Text(51.789664004821454, 59.01942857142856, 'X[1] <= -0.361\\ngini = 0.48\\nsamples = 5\\nvalue = [2, 0, 3]'),\n",
       " Text(51.52062678921199, 52.806857142857126, 'gini = 0.0\\nsamples = 3\\nvalue = [0, 0, 3]'),\n",
       " Text(52.05870122043091, 52.806857142857126, 'gini = 0.0\\nsamples = 2\\nvalue = [2, 0, 0]'),\n",
       " Text(54.177369293355426, 65.232, 'X[1] <= -0.411\\ngini = 0.64\\nsamples = 90\\nvalue = [35, 18, 37]'),\n",
       " Text(53.90833207774597, 59.01942857142856, 'X[0] <= 0.666\\ngini = 0.636\\nsamples = 89\\nvalue = [35, 17, 37]'),\n",
       " Text(52.596775651649835, 52.806857142857126, 'X[1] <= -0.449\\ngini = 0.598\\nsamples = 48\\nvalue = [19, 6, 23]'),\n",
       " Text(51.722404700919085, 46.59428571428572, 'X[0] <= 0.492\\ngini = 0.618\\nsamples = 26\\nvalue = [13, 5, 8]'),\n",
       " Text(50.78077444628597, 40.38171428571428, 'X[2] <= -0.17\\ngini = 0.56\\nsamples = 5\\nvalue = [1, 3, 1]'),\n",
       " Text(50.51173723067651, 34.169142857142845, 'gini = 0.0\\nsamples = 1\\nvalue = [0, 0, 1]'),\n",
       " Text(51.04981166189543, 34.169142857142845, 'X[0] <= 0.434\\ngini = 0.375\\nsamples = 4\\nvalue = [1, 3, 0]'),\n",
       " Text(50.78077444628597, 27.956571428571436, 'gini = 0.0\\nsamples = 1\\nvalue = [1, 0, 0]'),\n",
       " Text(51.31884887750489, 27.956571428571436, 'gini = 0.0\\nsamples = 3\\nvalue = [0, 3, 0]'),\n",
       " Text(52.664034955552204, 40.38171428571428, 'X[1] <= -0.46\\ngini = 0.553\\nsamples = 21\\nvalue = [12, 2, 7]'),\n",
       " Text(52.12596052433328, 34.169142857142845, 'X[1] <= -0.465\\ngini = 0.484\\nsamples = 17\\nvalue = [10, 0, 7]'),\n",
       " Text(51.856923308723815, 27.956571428571436, 'gini = 0.278\\nsamples = 6\\nvalue = [5, 0, 1]'),\n",
       " Text(52.39499773994274, 27.956571428571436, 'X[1] <= -0.461\\ngini = 0.496\\nsamples = 11\\nvalue = [5, 0, 6]'),\n",
       " Text(52.12596052433328, 21.744, 'gini = 0.278\\nsamples = 6\\nvalue = [1, 0, 5]'),\n",
       " Text(52.664034955552204, 21.744, 'X[1] <= -0.46\\ngini = 0.32\\nsamples = 5\\nvalue = [4, 0, 1]'),\n",
       " Text(52.39499773994274, 15.531428571428563, 'gini = 0.0\\nsamples = 4\\nvalue = [4, 0, 0]'),\n",
       " Text(52.93307217116167, 15.531428571428563, 'gini = 0.0\\nsamples = 1\\nvalue = [0, 0, 1]'),\n",
       " Text(53.20210938677113, 34.169142857142845, 'X[1] <= -0.458\\ngini = 0.5\\nsamples = 4\\nvalue = [2, 2, 0]'),\n",
       " Text(52.93307217116167, 27.956571428571436, 'gini = 0.0\\nsamples = 2\\nvalue = [0, 2, 0]'),\n",
       " Text(53.47114660238059, 27.956571428571436, 'gini = 0.0\\nsamples = 2\\nvalue = [2, 0, 0]'),\n",
       " Text(53.47114660238059, 46.59428571428572, 'X[2] <= 1.89\\ngini = 0.459\\nsamples = 22\\nvalue = [6, 1, 15]'),\n",
       " Text(53.20210938677113, 40.38171428571428, 'gini = 0.408\\nsamples = 21\\nvalue = [6, 0, 15]'),\n",
       " Text(53.74018381799005, 40.38171428571428, 'gini = 0.0\\nsamples = 1\\nvalue = [0, 1, 0]'),\n",
       " Text(55.21988850384209, 52.806857142857126, 'X[0] <= 0.692\\ngini = 0.659\\nsamples = 41\\nvalue = [16, 11, 14]'),\n",
       " Text(54.54729546481844, 46.59428571428572, 'X[1] <= -0.464\\ngini = 0.449\\nsamples = 7\\nvalue = [1, 5, 1]'),\n",
       " Text(54.278258249208974, 40.38171428571428, 'gini = 0.0\\nsamples = 1\\nvalue = [1, 0, 0]'),\n",
       " Text(54.8163326804279, 40.38171428571428, 'gini = 0.278\\nsamples = 6\\nvalue = [0, 5, 1]'),\n",
       " Text(55.892481542865745, 46.59428571428572, 'X[0] <= 0.714\\ngini = 0.628\\nsamples = 34\\nvalue = [15, 6, 13]'),\n",
       " Text(55.35440711164682, 40.38171428571428, 'X[1] <= -0.559\\ngini = 0.5\\nsamples = 14\\nvalue = [7, 0, 7]'),\n",
       " Text(55.08536989603736, 34.169142857142845, 'gini = 0.0\\nsamples = 3\\nvalue = [3, 0, 0]'),\n",
       " Text(55.62344432725629, 34.169142857142845, 'gini = 0.463\\nsamples = 11\\nvalue = [4, 0, 7]'),\n",
       " Text(56.430555974084676, 40.38171428571428, 'X[1] <= -0.559\\ngini = 0.66\\nsamples = 20\\nvalue = [8, 6, 6]'),\n",
       " Text(56.16151875847521, 34.169142857142845, 'gini = 0.0\\nsamples = 2\\nvalue = [0, 0, 2]'),\n",
       " Text(56.699593189694134, 34.169142857142845, 'X[1] <= -0.553\\ngini = 0.642\\nsamples = 18\\nvalue = [8, 6, 4]'),\n",
       " Text(56.430555974084676, 27.956571428571436, 'gini = 0.0\\nsamples = 2\\nvalue = [2, 0, 0]'),\n",
       " Text(56.9686304053036, 27.956571428571436, 'X[1] <= -0.426\\ngini = 0.656\\nsamples = 16\\nvalue = [6, 6, 4]'),\n",
       " Text(56.699593189694134, 21.744, 'X[2] <= 0.637\\ngini = 0.653\\nsamples = 14\\nvalue = [4, 6, 4]'),\n",
       " Text(56.430555974084676, 15.531428571428563, 'gini = 0.531\\nsamples = 8\\nvalue = [1, 5, 2]'),\n",
       " Text(56.9686304053036, 15.531428571428563, 'X[1] <= -0.457\\ngini = 0.611\\nsamples = 6\\nvalue = [3, 1, 2]'),\n",
       " Text(56.699593189694134, 9.318857142857127, 'gini = 0.0\\nsamples = 2\\nvalue = [0, 0, 2]'),\n",
       " Text(57.23766762091306, 9.318857142857127, 'X[2] <= 1.447\\ngini = 0.375\\nsamples = 4\\nvalue = [3, 1, 0]'),\n",
       " Text(56.9686304053036, 3.1062857142857183, 'gini = 0.0\\nsamples = 3\\nvalue = [3, 0, 0]'),\n",
       " Text(57.50670483652252, 3.1062857142857183, 'gini = 0.0\\nsamples = 1\\nvalue = [0, 1, 0]'),\n",
       " Text(57.23766762091306, 21.744, 'gini = 0.0\\nsamples = 2\\nvalue = [2, 0, 0]'),\n",
       " Text(54.44640650896489, 59.01942857142856, 'gini = 0.0\\nsamples = 1\\nvalue = [0, 1, 0]'),\n",
       " Text(53.38707247250263, 71.44457142857144, 'gini = 0.0\\nsamples = 2\\nvalue = [0, 2, 0]'),\n",
       " Text(53.656109688112096, 77.65714285714284, 'gini = 0.0\\nsamples = 2\\nvalue = [0, 0, 2]'),\n",
       " Text(52.31092361006478, 102.50742857142856, 'gini = 0.278\\nsamples = 6\\nvalue = [5, 0, 1]'),\n",
       " Text(51.234774747626936, 114.93257142857142, 'gini = 0.0\\nsamples = 3\\nvalue = [3, 0, 0]'),\n",
       " Text(51.5038119632364, 121.14514285714286, 'gini = 0.0\\nsamples = 2\\nvalue = [0, 2, 0]'),\n",
       " Text(54.32870272713575, 127.35771428571428, 'X[1] <= -0.179\\ngini = 0.552\\nsamples = 41\\nvalue = [25, 8, 8]'),\n",
       " Text(53.38707247250263, 121.14514285714286, 'X[1] <= -0.188\\ngini = 0.45\\nsamples = 31\\nvalue = [22, 3, 6]'),\n",
       " Text(52.84899804128371, 114.93257142857142, 'X[0] <= 0.697\\ngini = 0.335\\nsamples = 20\\nvalue = [16, 3, 1]'),\n",
       " Text(52.57996082567425, 108.72, 'gini = 0.568\\nsamples = 9\\nvalue = [5, 3, 1]'),\n",
       " Text(53.11803525689317, 108.72, 'gini = 0.0\\nsamples = 11\\nvalue = [11, 0, 0]'),\n",
       " Text(53.925146903721554, 114.93257142857142, 'X[1] <= -0.184\\ngini = 0.496\\nsamples = 11\\nvalue = [6, 0, 5]'),\n",
       " Text(53.656109688112096, 108.72, 'gini = 0.0\\nsamples = 3\\nvalue = [0, 0, 3]'),\n",
       " Text(54.19418411933102, 108.72, 'gini = 0.375\\nsamples = 8\\nvalue = [6, 0, 2]'),\n",
       " Text(55.27033298176887, 121.14514285714286, 'X[1] <= -0.174\\ngini = 0.62\\nsamples = 10\\nvalue = [3, 5, 2]'),\n",
       " Text(55.00129576615941, 114.93257142857142, 'X[0] <= 0.715\\ngini = 0.408\\nsamples = 7\\nvalue = [0, 5, 2]'),\n",
       " Text(54.73225855054994, 108.72, 'gini = 0.0\\nsamples = 3\\nvalue = [0, 3, 0]'),\n",
       " Text(55.27033298176887, 108.72, 'X[0] <= 0.734\\ngini = 0.5\\nsamples = 4\\nvalue = [0, 2, 2]'),\n",
       " Text(55.00129576615941, 102.50742857142856, 'gini = 0.0\\nsamples = 2\\nvalue = [0, 0, 2]'),\n",
       " Text(55.53937019737833, 102.50742857142856, 'gini = 0.0\\nsamples = 2\\nvalue = [0, 2, 0]'),\n",
       " Text(55.53937019737833, 114.93257142857142, 'gini = 0.0\\nsamples = 3\\nvalue = [3, 0, 0]'),\n",
       " Text(55.80840741298779, 133.57028571428572, 'X[0] <= 0.541\\ngini = 0.42\\nsamples = 10\\nvalue = [3, 0, 7]'),\n",
       " Text(55.53937019737833, 127.35771428571428, 'gini = 0.0\\nsamples = 2\\nvalue = [2, 0, 0]'),\n",
       " Text(56.077444628597256, 127.35771428571428, 'X[1] <= -0.582\\ngini = 0.219\\nsamples = 8\\nvalue = [1, 0, 7]'),\n",
       " Text(55.80840741298779, 121.14514285714286, 'gini = 0.0\\nsamples = 1\\nvalue = [1, 0, 0]'),\n",
       " Text(56.346481844206714, 121.14514285714286, 'gini = 0.0\\nsamples = 7\\nvalue = [0, 0, 7]'),\n",
       " Text(56.61551905981618, 139.78285714285715, 'X[1] <= -0.298\\ngini = 0.32\\nsamples = 10\\nvalue = [8, 0, 2]'),\n",
       " Text(56.346481844206714, 133.57028571428572, 'gini = 0.0\\nsamples = 8\\nvalue = [8, 0, 0]'),\n",
       " Text(56.88455627542564, 133.57028571428572, 'gini = 0.0\\nsamples = 2\\nvalue = [0, 0, 2]'),\n",
       " Text(59.03685400030134, 152.208, 'X[1] <= -0.48\\ngini = 0.461\\nsamples = 61\\nvalue = [42, 4, 15]'),\n",
       " Text(58.498779569082416, 145.99542857142856, 'X[1] <= -0.536\\ngini = 0.409\\nsamples = 56\\nvalue = [41, 2, 13]'),\n",
       " Text(58.22974235347295, 139.78285714285715, 'X[1] <= -0.584\\ngini = 0.47\\nsamples = 45\\nvalue = [30, 2, 13]'),\n",
       " Text(57.42263070664456, 133.57028571428572, 'X[1] <= -0.598\\ngini = 0.388\\nsamples = 17\\nvalue = [13, 2, 2]'),\n",
       " Text(57.1535934910351, 127.35771428571428, 'gini = 0.26\\nsamples = 13\\nvalue = [11, 0, 2]'),\n",
       " Text(57.69166792225403, 127.35771428571428, 'X[2] <= 0.573\\ngini = 0.5\\nsamples = 4\\nvalue = [2, 2, 0]'),\n",
       " Text(57.42263070664456, 121.14514285714286, 'gini = 0.0\\nsamples = 2\\nvalue = [0, 2, 0]'),\n",
       " Text(57.96070513786349, 121.14514285714286, 'gini = 0.0\\nsamples = 2\\nvalue = [2, 0, 0]'),\n",
       " Text(59.03685400030134, 133.57028571428572, 'X[0] <= 0.871\\ngini = 0.477\\nsamples = 28\\nvalue = [17, 0, 11]'),\n",
       " Text(58.767816784691874, 127.35771428571428, 'X[1] <= -0.545\\ngini = 0.453\\nsamples = 26\\nvalue = [17, 0, 9]'),\n",
       " Text(58.498779569082416, 121.14514285714286, 'X[2] <= 0.4\\ngini = 0.495\\nsamples = 20\\nvalue = [11, 0, 9]'),\n",
       " Text(57.826186530058756, 114.93257142857142, 'X[2] <= -0.021\\ngini = 0.408\\nsamples = 7\\nvalue = [2, 0, 5]'),\n",
       " Text(57.5571493144493, 108.72, 'X[2] <= -0.258\\ngini = 0.444\\nsamples = 3\\nvalue = [2, 0, 1]'),\n",
       " Text(57.28811209883983, 102.50742857142856, 'gini = 0.0\\nsamples = 1\\nvalue = [0, 0, 1]'),\n",
       " Text(57.826186530058756, 102.50742857142856, 'gini = 0.0\\nsamples = 2\\nvalue = [2, 0, 0]'),\n",
       " Text(58.09522374566822, 108.72, 'gini = 0.0\\nsamples = 4\\nvalue = [0, 0, 4]'),\n",
       " Text(59.17137260810607, 114.93257142857142, 'X[2] <= 2.527\\ngini = 0.426\\nsamples = 13\\nvalue = [9, 0, 4]'),\n",
       " Text(58.9023353924966, 108.72, 'X[1] <= -0.556\\ngini = 0.375\\nsamples = 12\\nvalue = [9, 0, 3]'),\n",
       " Text(58.36426096127768, 102.50742857142856, 'X[1] <= -0.583\\ngini = 0.198\\nsamples = 9\\nvalue = [8, 0, 1]'),\n",
       " Text(58.09522374566822, 96.29485714285714, 'gini = 0.0\\nsamples = 1\\nvalue = [0, 0, 1]'),\n",
       " Text(58.633298176887145, 96.29485714285714, 'gini = 0.0\\nsamples = 8\\nvalue = [8, 0, 0]'),\n",
       " Text(59.44040982371553, 102.50742857142856, 'X[0] <= 0.864\\ngini = 0.444\\nsamples = 3\\nvalue = [1, 0, 2]'),\n",
       " Text(59.17137260810607, 96.29485714285714, 'gini = 0.0\\nsamples = 2\\nvalue = [0, 0, 2]'),\n",
       " Text(59.70944703932499, 96.29485714285714, 'gini = 0.0\\nsamples = 1\\nvalue = [1, 0, 0]'),\n",
       " Text(59.44040982371553, 108.72, 'gini = 0.0\\nsamples = 1\\nvalue = [0, 0, 1]'),\n",
       " Text(59.03685400030134, 121.14514285714286, 'gini = 0.0\\nsamples = 6\\nvalue = [6, 0, 0]'),\n",
       " Text(59.3058912159108, 127.35771428571428, 'gini = 0.0\\nsamples = 2\\nvalue = [0, 0, 2]'),\n",
       " Text(58.767816784691874, 139.78285714285715, 'gini = 0.0\\nsamples = 11\\nvalue = [11, 0, 0]'),\n",
       " Text(59.57492843152026, 145.99542857142856, 'X[0] <= 0.84\\ngini = 0.64\\nsamples = 5\\nvalue = [1, 2, 2]'),\n",
       " Text(59.3058912159108, 139.78285714285715, 'gini = 0.0\\nsamples = 2\\nvalue = [0, 0, 2]'),\n",
       " Text(59.84396564712972, 139.78285714285715, 'X[0] <= 0.848\\ngini = 0.444\\nsamples = 3\\nvalue = [1, 2, 0]'),\n",
       " Text(59.57492843152026, 133.57028571428572, 'gini = 0.0\\nsamples = 1\\nvalue = [1, 0, 0]'),\n",
       " Text(60.11300286273919, 133.57028571428572, 'gini = 0.0\\nsamples = 2\\nvalue = [0, 2, 0]'),\n",
       " Text(64.28307970468585, 158.42057142857144, 'X[0] <= 0.936\\ngini = 0.577\\nsamples = 108\\nvalue = [45, 10, 53]'),\n",
       " Text(62.26530058761488, 152.208, 'X[2] <= 0.087\\ngini = 0.506\\nsamples = 66\\nvalue = [19, 5, 42]'),\n",
       " Text(61.054633117372305, 145.99542857142856, 'X[1] <= -0.577\\ngini = 0.564\\nsamples = 28\\nvalue = [13, 2, 13]'),\n",
       " Text(60.78559590176284, 139.78285714285715, 'gini = 0.0\\nsamples = 3\\nvalue = [3, 0, 0]'),\n",
       " Text(61.32367033298176, 139.78285714285715, 'X[1] <= -0.551\\ngini = 0.563\\nsamples = 25\\nvalue = [10, 2, 13]'),\n",
       " Text(61.054633117372305, 133.57028571428572, 'gini = 0.0\\nsamples = 6\\nvalue = [0, 0, 6]'),\n",
       " Text(61.59270754859123, 133.57028571428572, 'X[1] <= -0.443\\ngini = 0.576\\nsamples = 19\\nvalue = [10, 2, 7]'),\n",
       " Text(61.32367033298176, 127.35771428571428, 'X[1] <= -0.481\\ngini = 0.537\\nsamples = 18\\nvalue = [10, 1, 7]'),\n",
       " Text(61.054633117372305, 121.14514285714286, 'X[0] <= 0.918\\ngini = 0.56\\nsamples = 15\\nvalue = [7, 1, 7]'),\n",
       " Text(60.78559590176284, 114.93257142857142, 'X[2] <= -0.248\\ngini = 0.542\\nsamples = 12\\nvalue = [7, 1, 4]'),\n",
       " Text(60.247521470543916, 108.72, 'X[0] <= 0.908\\ngini = 0.375\\nsamples = 4\\nvalue = [3, 1, 0]'),\n",
       " Text(59.97848425493446, 102.50742857142856, 'gini = 0.0\\nsamples = 3\\nvalue = [3, 0, 0]'),\n",
       " Text(60.51655868615338, 102.50742857142856, 'gini = 0.0\\nsamples = 1\\nvalue = [0, 1, 0]'),\n",
       " Text(61.32367033298176, 108.72, 'X[0] <= 0.901\\ngini = 0.5\\nsamples = 8\\nvalue = [4, 0, 4]'),\n",
       " Text(61.054633117372305, 102.50742857142856, 'gini = 0.0\\nsamples = 3\\nvalue = [0, 0, 3]'),\n",
       " Text(61.59270754859123, 102.50742857142856, 'X[2] <= -0.151\\ngini = 0.32\\nsamples = 5\\nvalue = [4, 0, 1]'),\n",
       " Text(61.32367033298176, 96.29485714285714, 'gini = 0.0\\nsamples = 1\\nvalue = [0, 0, 1]'),\n",
       " Text(61.86174476420069, 96.29485714285714, 'gini = 0.0\\nsamples = 4\\nvalue = [4, 0, 0]'),\n",
       " Text(61.32367033298176, 114.93257142857142, 'gini = 0.0\\nsamples = 3\\nvalue = [0, 0, 3]'),\n",
       " Text(61.59270754859123, 121.14514285714286, 'gini = 0.0\\nsamples = 3\\nvalue = [3, 0, 0]'),\n",
       " Text(61.86174476420069, 127.35771428571428, 'gini = 0.0\\nsamples = 1\\nvalue = [0, 1, 0]'),\n",
       " Text(63.475968057857465, 145.99542857142856, 'X[1] <= -0.495\\ngini = 0.386\\nsamples = 38\\nvalue = [6, 3, 29]'),\n",
       " Text(62.937893626638534, 139.78285714285715, 'X[2] <= 0.357\\ngini = 0.318\\nsamples = 27\\nvalue = [2, 3, 22]'),\n",
       " Text(62.668856411029076, 133.57028571428572, 'X[2] <= 0.187\\ngini = 0.52\\nsamples = 14\\nvalue = [2, 3, 9]'),\n",
       " Text(62.39981919541961, 127.35771428571428, 'gini = 0.219\\nsamples = 8\\nvalue = [0, 1, 7]'),\n",
       " Text(62.937893626638534, 127.35771428571428, 'X[1] <= -0.602\\ngini = 0.667\\nsamples = 6\\nvalue = [2, 2, 2]'),\n",
       " Text(62.668856411029076, 121.14514285714286, 'gini = 0.0\\nsamples = 2\\nvalue = [0, 0, 2]'),\n",
       " Text(63.206930842248, 121.14514285714286, 'X[0] <= 0.914\\ngini = 0.5\\nsamples = 4\\nvalue = [2, 2, 0]'),\n",
       " Text(62.937893626638534, 114.93257142857142, 'gini = 0.0\\nsamples = 2\\nvalue = [0, 2, 0]'),\n",
       " Text(63.475968057857465, 114.93257142857142, 'gini = 0.0\\nsamples = 2\\nvalue = [2, 0, 0]'),\n",
       " Text(63.206930842248, 133.57028571428572, 'gini = 0.0\\nsamples = 13\\nvalue = [0, 0, 13]'),\n",
       " Text(64.01404248907639, 139.78285714285715, 'X[0] <= 0.903\\ngini = 0.463\\nsamples = 11\\nvalue = [4, 0, 7]'),\n",
       " Text(63.74500527346692, 133.57028571428572, 'gini = 0.0\\nsamples = 3\\nvalue = [3, 0, 0]'),\n",
       " Text(64.28307970468585, 133.57028571428572, 'gini = 0.219\\nsamples = 8\\nvalue = [1, 0, 7]'),\n",
       " Text(66.30085882175682, 152.208, 'X[2] <= 0.713\\ngini = 0.534\\nsamples = 42\\nvalue = [26, 5, 11]'),\n",
       " Text(66.03182160614735, 145.99542857142856, 'X[1] <= -0.523\\ngini = 0.593\\nsamples = 34\\nvalue = [18, 5, 11]'),\n",
       " Text(65.3592285671237, 139.78285714285715, 'X[0] <= 0.978\\ngini = 0.608\\nsamples = 21\\nvalue = [8, 3, 10]'),\n",
       " Text(64.82115413590478, 133.57028571428572, 'X[0] <= 0.968\\ngini = 0.568\\nsamples = 18\\nvalue = [6, 2, 10]'),\n",
       " Text(64.5521169202953, 127.35771428571428, 'X[2] <= 0.152\\ngini = 0.615\\nsamples = 13\\nvalue = [6, 2, 5]'),\n",
       " Text(64.28307970468585, 121.14514285714286, 'gini = 0.278\\nsamples = 6\\nvalue = [5, 0, 1]'),\n",
       " Text(64.82115413590478, 121.14514285714286, 'X[0] <= 0.96\\ngini = 0.571\\nsamples = 7\\nvalue = [1, 2, 4]'),\n",
       " Text(64.5521169202953, 114.93257142857142, 'X[1] <= -0.54\\ngini = 0.444\\nsamples = 6\\nvalue = [0, 2, 4]'),\n",
       " Text(64.28307970468585, 108.72, 'gini = 0.0\\nsamples = 3\\nvalue = [0, 0, 3]'),\n",
       " Text(64.82115413590478, 108.72, 'X[0] <= 0.954\\ngini = 0.444\\nsamples = 3\\nvalue = [0, 2, 1]'),\n",
       " Text(64.5521169202953, 102.50742857142856, 'gini = 0.0\\nsamples = 2\\nvalue = [0, 2, 0]'),\n",
       " Text(65.09019135151424, 102.50742857142856, 'gini = 0.0\\nsamples = 1\\nvalue = [0, 0, 1]'),\n",
       " Text(65.09019135151424, 114.93257142857142, 'gini = 0.0\\nsamples = 1\\nvalue = [1, 0, 0]'),\n",
       " Text(65.09019135151424, 127.35771428571428, 'gini = 0.0\\nsamples = 5\\nvalue = [0, 0, 5]'),\n",
       " Text(65.89730299834262, 133.57028571428572, 'X[1] <= -0.539\\ngini = 0.444\\nsamples = 3\\nvalue = [2, 1, 0]'),\n",
       " Text(65.62826578273315, 127.35771428571428, 'gini = 0.0\\nsamples = 2\\nvalue = [2, 0, 0]'),\n",
       " Text(66.16634021395208, 127.35771428571428, 'gini = 0.0\\nsamples = 1\\nvalue = [0, 1, 0]'),\n",
       " Text(66.70441464517101, 139.78285714285715, 'X[0] <= 0.939\\ngini = 0.379\\nsamples = 13\\nvalue = [10, 2, 1]'),\n",
       " Text(66.43537742956154, 133.57028571428572, 'gini = 0.0\\nsamples = 1\\nvalue = [0, 1, 0]'),\n",
       " Text(66.97345186078047, 133.57028571428572, 'X[1] <= -0.477\\ngini = 0.292\\nsamples = 12\\nvalue = [10, 1, 1]'),\n",
       " Text(66.70441464517101, 127.35771428571428, 'gini = 0.165\\nsamples = 11\\nvalue = [10, 0, 1]'),\n",
       " Text(67.24248907638993, 127.35771428571428, 'gini = 0.0\\nsamples = 1\\nvalue = [0, 1, 0]'),\n",
       " Text(66.56989603736628, 145.99542857142856, 'gini = 0.0\\nsamples = 8\\nvalue = [8, 0, 0]'),\n",
       " Text(68.72219376224197, 177.05828571428572, 'X[2] <= 0.281\\ngini = 0.52\\nsamples = 216\\nvalue = [59, 21, 136]'),\n",
       " Text(67.24248907638993, 170.84571428571428, 'X[0] <= 0.695\\ngini = 0.39\\nsamples = 98\\nvalue = [19, 5, 74]'),\n",
       " Text(66.70441464517101, 164.63314285714284, 'X[0] <= 0.685\\ngini = 0.5\\nsamples = 12\\nvalue = [6, 0, 6]'),\n",
       " Text(66.43537742956154, 158.42057142857144, 'gini = 0.0\\nsamples = 5\\nvalue = [0, 0, 5]'),\n",
       " Text(66.97345186078047, 158.42057142857144, 'gini = 0.245\\nsamples = 7\\nvalue = [6, 0, 1]'),\n",
       " Text(67.78056350760886, 164.63314285714284, 'X[0] <= 0.892\\ngini = 0.349\\nsamples = 86\\nvalue = [13, 5, 68]'),\n",
       " Text(67.51152629199939, 158.42057142857144, 'gini = 0.282\\nsamples = 67\\nvalue = [9, 2, 56]'),\n",
       " Text(68.04960072321832, 158.42057142857144, 'X[2] <= 0.206\\ngini = 0.532\\nsamples = 19\\nvalue = [4, 3, 12]'),\n",
       " Text(67.78056350760886, 152.208, 'X[0] <= 0.905\\ngini = 0.457\\nsamples = 17\\nvalue = [3, 2, 12]'),\n",
       " Text(67.51152629199939, 145.99542857142856, 'X[0] <= 0.9\\ngini = 0.625\\nsamples = 4\\nvalue = [2, 1, 1]'),\n",
       " Text(67.24248907638993, 139.78285714285715, 'gini = 0.5\\nsamples = 2\\nvalue = [0, 1, 1]'),\n",
       " Text(67.78056350760886, 139.78285714285715, 'gini = 0.0\\nsamples = 2\\nvalue = [2, 0, 0]'),\n",
       " Text(68.04960072321832, 145.99542857142856, 'gini = 0.272\\nsamples = 13\\nvalue = [1, 1, 11]'),\n",
       " Text(68.31863793882778, 152.208, 'gini = 0.5\\nsamples = 2\\nvalue = [1, 1, 0]'),\n",
       " Text(70.20189844809401, 170.84571428571428, 'X[0] <= 0.908\\ngini = 0.591\\nsamples = 118\\nvalue = [40, 16, 62]'),\n",
       " Text(69.12574958565617, 164.63314285714284, 'X[1] <= -0.157\\ngini = 0.55\\nsamples = 104\\nvalue = [38, 8, 58]'),\n",
       " Text(68.85671237004671, 158.42057142857144, 'gini = 0.165\\nsamples = 11\\nvalue = [1, 0, 10]'),\n",
       " Text(69.39478680126562, 158.42057142857144, 'X[1] <= -0.149\\ngini = 0.568\\nsamples = 93\\nvalue = [37, 8, 48]'),\n",
       " Text(68.85671237004671, 152.208, 'X[2] <= 1.292\\ngini = 0.5\\nsamples = 8\\nvalue = [4, 4, 0]'),\n",
       " Text(68.58767515443724, 145.99542857142856, 'gini = 0.32\\nsamples = 5\\nvalue = [4, 1, 0]'),\n",
       " Text(69.12574958565617, 145.99542857142856, 'gini = 0.0\\nsamples = 3\\nvalue = [0, 3, 0]'),\n",
       " Text(69.93286123248456, 152.208, 'X[2] <= 2.527\\ngini = 0.528\\nsamples = 85\\nvalue = [33, 4, 48]'),\n",
       " Text(69.66382401687508, 145.99542857142856, 'X[2] <= 0.374\\ngini = 0.518\\nsamples = 81\\nvalue = [29, 4, 48]'),\n",
       " Text(68.99123097785143, 139.78285714285715, 'X[1] <= -0.054\\ngini = 0.595\\nsamples = 25\\nvalue = [12, 3, 10]'),\n",
       " Text(68.45315654663251, 133.57028571428572, 'X[2] <= 0.335\\ngini = 0.462\\nsamples = 13\\nvalue = [9, 3, 1]'),\n",
       " Text(68.18411933102304, 127.35771428571428, 'gini = 0.0\\nsamples = 2\\nvalue = [0, 2, 0]'),\n",
       " Text(68.72219376224197, 127.35771428571428, 'X[0] <= 0.819\\ngini = 0.314\\nsamples = 11\\nvalue = [9, 1, 1]'),\n",
       " Text(68.45315654663251, 121.14514285714286, 'gini = 0.18\\nsamples = 10\\nvalue = [9, 1, 0]'),\n",
       " Text(68.99123097785143, 121.14514285714286, 'gini = 0.0\\nsamples = 1\\nvalue = [0, 0, 1]'),\n",
       " Text(69.52930540907036, 133.57028571428572, 'X[1] <= -0.006\\ngini = 0.375\\nsamples = 12\\nvalue = [3, 0, 9]'),\n",
       " Text(69.2602681934609, 127.35771428571428, 'gini = 0.0\\nsamples = 9\\nvalue = [0, 0, 9]'),\n",
       " Text(69.79834262467982, 127.35771428571428, 'gini = 0.0\\nsamples = 3\\nvalue = [3, 0, 0]'),\n",
       " Text(70.33641705589875, 139.78285714285715, 'X[1] <= -0.098\\ngini = 0.447\\nsamples = 56\\nvalue = [17, 1, 38]'),\n",
       " Text(70.06737984028928, 133.57028571428572, 'gini = 0.0\\nsamples = 9\\nvalue = [0, 0, 9]'),\n",
       " Text(70.60545427150821, 133.57028571428572, 'X[2] <= 0.454\\ngini = 0.488\\nsamples = 47\\nvalue = [17, 1, 29]'),\n",
       " Text(70.33641705589875, 127.35771428571428, 'gini = 0.0\\nsamples = 7\\nvalue = [0, 0, 7]'),\n",
       " Text(70.87449148711767, 127.35771428571428, 'X[1] <= -0.093\\ngini = 0.516\\nsamples = 40\\nvalue = [17, 1, 22]'),\n",
       " Text(70.60545427150821, 121.14514285714286, 'gini = 0.0\\nsamples = 3\\nvalue = [3, 0, 0]'),\n",
       " Text(71.14352870272712, 121.14514285714286, 'X[1] <= -0.034\\ngini = 0.503\\nsamples = 37\\nvalue = [14, 1, 22]'),\n",
       " Text(70.87449148711767, 114.93257142857142, 'gini = 0.403\\nsamples = 12\\nvalue = [2, 1, 9]'),\n",
       " Text(71.4125659183366, 114.93257142857142, 'X[1] <= -0.03\\ngini = 0.499\\nsamples = 25\\nvalue = [12, 0, 13]'),\n",
       " Text(71.14352870272712, 108.72, 'gini = 0.0\\nsamples = 3\\nvalue = [3, 0, 0]'),\n",
       " Text(71.68160313394606, 108.72, 'X[2] <= 0.551\\ngini = 0.483\\nsamples = 22\\nvalue = [9, 0, 13]'),\n",
       " Text(71.14352870272712, 102.50742857142856, 'X[1] <= 0.004\\ngini = 0.32\\nsamples = 5\\nvalue = [4, 0, 1]'),\n",
       " Text(70.87449148711767, 96.29485714285714, 'gini = 0.0\\nsamples = 4\\nvalue = [4, 0, 0]'),\n",
       " Text(71.4125659183366, 96.29485714285714, 'gini = 0.0\\nsamples = 1\\nvalue = [0, 0, 1]'),\n",
       " Text(72.21967756516499, 102.50742857142856, 'X[0] <= 0.771\\ngini = 0.415\\nsamples = 17\\nvalue = [5, 0, 12]'),\n",
       " Text(71.95064034955551, 96.29485714285714, 'gini = 0.48\\nsamples = 5\\nvalue = [3, 0, 2]'),\n",
       " Text(72.48871478077444, 96.29485714285714, 'X[0] <= 0.88\\ngini = 0.278\\nsamples = 12\\nvalue = [2, 0, 10]'),\n",
       " Text(72.21967756516499, 90.08228571428572, 'gini = 0.165\\nsamples = 11\\nvalue = [1, 0, 10]'),\n",
       " Text(72.7577519963839, 90.08228571428572, 'gini = 0.0\\nsamples = 1\\nvalue = [1, 0, 0]'),\n",
       " Text(70.20189844809401, 145.99542857142856, 'gini = 0.0\\nsamples = 4\\nvalue = [4, 0, 0]'),\n",
       " Text(71.27804731053186, 164.63314285714284, 'X[1] <= -0.011\\ngini = 0.571\\nsamples = 14\\nvalue = [2, 8, 4]'),\n",
       " Text(70.73997287931294, 158.42057142857144, 'X[1] <= -0.02\\ngini = 0.375\\nsamples = 4\\nvalue = [1, 0, 3]'),\n",
       " Text(70.47093566370347, 152.208, 'gini = 0.0\\nsamples = 1\\nvalue = [1, 0, 0]'),\n",
       " Text(71.0090100949224, 152.208, 'gini = 0.0\\nsamples = 3\\nvalue = [0, 0, 3]'),\n",
       " Text(71.81612174175079, 158.42057142857144, 'X[0] <= 0.975\\ngini = 0.34\\nsamples = 10\\nvalue = [1, 8, 1]'),\n",
       " Text(71.54708452614132, 152.208, 'gini = 0.198\\nsamples = 9\\nvalue = [1, 8, 0]'),\n",
       " Text(72.08515895736025, 152.208, 'gini = 0.0\\nsamples = 1\\nvalue = [0, 0, 1]'),\n",
       " Text(126.5802365055748, 189.48342857142856, 'X[0] <= 0.276\\ngini = 0.528\\nsamples = 2699\\nvalue = [1599, 176, 924]'),\n",
       " Text(107.02229499397318, 183.27085714285715, 'X[0] <= 0.244\\ngini = 0.549\\nsamples = 1508\\nvalue = [829, 107, 572]'),\n",
       " Text(87.47939486967003, 177.05828571428572, 'X[1] <= 0.207\\ngini = 0.548\\nsamples = 1472\\nvalue = [818, 107, 547]'),\n",
       " Text(75.51538345638089, 170.84571428571428, 'X[1] <= 0.121\\ngini = 0.508\\nsamples = 265\\nvalue = [171, 26, 68]'),\n",
       " Text(74.97730902516197, 164.63314285714284, 'X[1] <= 0.017\\ngini = 0.536\\nsamples = 229\\nvalue = [140, 25, 64]'),\n",
       " Text(74.7082718095525, 158.42057142857144, 'gini = 0.304\\nsamples = 34\\nvalue = [28, 2, 4]'),\n",
       " Text(75.24634624077143, 158.42057142857144, 'X[1] <= 0.019\\ngini = 0.562\\nsamples = 195\\nvalue = [112, 23, 60]'),\n",
       " Text(74.7082718095525, 152.208, 'X[1] <= 0.018\\ngini = 0.444\\nsamples = 3\\nvalue = [0, 2, 1]'),\n",
       " Text(74.43923459394304, 145.99542857142856, 'gini = 0.0\\nsamples = 1\\nvalue = [0, 0, 1]'),\n",
       " Text(74.97730902516197, 145.99542857142856, 'gini = 0.0\\nsamples = 2\\nvalue = [0, 2, 0]'),\n",
       " Text(75.78442067199035, 152.208, 'X[1] <= 0.02\\ngini = 0.553\\nsamples = 192\\nvalue = [112, 21, 59]'),\n",
       " Text(75.51538345638089, 145.99542857142856, 'gini = 0.0\\nsamples = 5\\nvalue = [5, 0, 0]'),\n",
       " Text(76.05345788759982, 145.99542857142856, 'X[1] <= 0.044\\ngini = 0.56\\nsamples = 187\\nvalue = [107, 21, 59]'),\n",
       " Text(74.9100497212596, 139.78285714285715, 'X[1] <= 0.044\\ngini = 0.619\\nsamples = 81\\nvalue = [40, 15, 26]'),\n",
       " Text(74.64101250565014, 133.57028571428572, 'X[1] <= 0.042\\ngini = 0.6\\nsamples = 77\\nvalue = [40, 12, 25]'),\n",
       " Text(74.10293807443121, 127.35771428571428, 'X[1] <= 0.04\\ngini = 0.594\\nsamples = 72\\nvalue = [39, 12, 21]'),\n",
       " Text(73.83390085882175, 121.14514285714286, 'X[1] <= 0.035\\ngini = 0.609\\nsamples = 68\\nvalue = [35, 12, 21]'),\n",
       " Text(73.29582642760283, 114.93257142857142, 'X[1] <= 0.021\\ngini = 0.59\\nsamples = 56\\nvalue = [31, 10, 15]'),\n",
       " Text(73.02678921199336, 108.72, 'gini = 0.56\\nsamples = 5\\nvalue = [1, 1, 3]'),\n",
       " Text(73.56486364321229, 108.72, 'X[1] <= 0.025\\ngini = 0.567\\nsamples = 51\\nvalue = [30, 9, 12]'),\n",
       " Text(73.29582642760283, 102.50742857142856, 'gini = 0.278\\nsamples = 12\\nvalue = [10, 0, 2]'),\n",
       " Text(73.83390085882175, 102.50742857142856, 'X[1] <= 0.028\\ngini = 0.618\\nsamples = 39\\nvalue = [20, 9, 10]'),\n",
       " Text(73.56486364321229, 96.29485714285714, 'X[1] <= 0.026\\ngini = 0.58\\nsamples = 10\\nvalue = [4, 1, 5]'),\n",
       " Text(73.29582642760283, 90.08228571428572, 'X[1] <= 0.025\\ngini = 0.571\\nsamples = 7\\nvalue = [4, 1, 2]'),\n",
       " Text(73.02678921199336, 83.86971428571428, 'gini = 0.0\\nsamples = 1\\nvalue = [0, 1, 0]'),\n",
       " Text(73.56486364321229, 83.86971428571428, 'gini = 0.444\\nsamples = 6\\nvalue = [4, 0, 2]'),\n",
       " Text(73.83390085882175, 90.08228571428572, 'gini = 0.0\\nsamples = 3\\nvalue = [0, 0, 3]'),\n",
       " Text(74.10293807443121, 96.29485714285714, 'gini = 0.59\\nsamples = 29\\nvalue = [16, 8, 5]'),\n",
       " Text(74.37197529004068, 114.93257142857142, 'X[1] <= 0.038\\ngini = 0.611\\nsamples = 12\\nvalue = [4, 2, 6]'),\n",
       " Text(74.10293807443121, 108.72, 'gini = 0.278\\nsamples = 6\\nvalue = [0, 1, 5]'),\n",
       " Text(74.64101250565014, 108.72, 'X[1] <= 0.04\\ngini = 0.5\\nsamples = 6\\nvalue = [4, 1, 1]'),\n",
       " Text(74.37197529004068, 102.50742857142856, 'gini = 0.32\\nsamples = 5\\nvalue = [4, 1, 0]'),\n",
       " Text(74.9100497212596, 102.50742857142856, 'gini = 0.0\\nsamples = 1\\nvalue = [0, 0, 1]'),\n",
       " Text(74.37197529004068, 121.14514285714286, 'gini = 0.0\\nsamples = 4\\nvalue = [4, 0, 0]'),\n",
       " Text(75.17908693686907, 127.35771428571428, 'X[1] <= 0.044\\ngini = 0.32\\nsamples = 5\\nvalue = [1, 0, 4]'),\n",
       " Text(74.9100497212596, 121.14514285714286, 'gini = 0.0\\nsamples = 4\\nvalue = [0, 0, 4]'),\n",
       " Text(75.44812415247853, 121.14514285714286, 'gini = 0.0\\nsamples = 1\\nvalue = [1, 0, 0]'),\n",
       " Text(75.17908693686907, 133.57028571428572, 'gini = 0.375\\nsamples = 4\\nvalue = [0, 3, 1]'),\n",
       " ...]"
      ]
     },
     "execution_count": 107,
     "metadata": {},
     "output_type": "execute_result"
    },
    {
     "data": {
      "image/png": "[encoded data removed]",
      "text/plain": [
       "<Figure size 432x288 with 1 Axes>"
      ]
     },
     "metadata": {
      "needs_background": "light"
     },
     "output_type": "display_data"
    }
   ],
   "source": [
    "fig, axes = plt.subplots()\n",
    "plot_tree(clf_pruned)\n"
   ]
  },
  {
   "cell_type": "code",
   "execution_count": 121,
   "metadata": {},
   "outputs": [
    {
     "name": "stdout",
     "output_type": "stream",
     "text": [
      "              precision    recall  f1-score   support\n",
      "\n",
      "           0       0.64      0.77      0.70      6452\n",
      "           1       0.54      0.05      0.09       863\n",
      "           2       0.58      0.51      0.54      4565\n",
      "\n",
      "    accuracy                           0.62     11880\n",
      "   macro avg       0.58      0.44      0.44     11880\n",
      "weighted avg       0.61      0.62      0.59     11880\n",
      "\n"
     ]
    },
    {
     "data": {
      "image/png": "[encoded data removed]",
      "text/plain": [
       "<Figure size 432x288 with 2 Axes>"
      ]
     },
     "metadata": {
      "needs_background": "light"
     },
     "output_type": "display_data"
    }
   ],
   "source": [
    "evaluate_model(clf_pruned,reduce_featrue_test, y_test)"
   ]
  },
  {
   "cell_type": "code",
   "execution_count": 122,
   "metadata": {},
   "outputs": [
    {
     "name": "stdout",
     "output_type": "stream",
     "text": [
      "              precision    recall  f1-score   support\n",
      "\n",
      "           0       0.66      0.79      0.72     25807\n",
      "           1       0.68      0.07      0.12      3454\n",
      "           2       0.61      0.55      0.58     18259\n",
      "\n",
      "    accuracy                           0.64     47520\n",
      "   macro avg       0.65      0.47      0.47     47520\n",
      "weighted avg       0.64      0.64      0.62     47520\n",
      "\n"
     ]
    },
    {
     "data": {
      "image/png": "[encoded data removed]",
      "text/plain": [
       "<Figure size 432x288 with 2 Axes>"
      ]
     },
     "metadata": {
      "needs_background": "light"
     },
     "output_type": "display_data"
    }
   ],
   "source": [
    "evaluate_model(clf_pruned,reduce_featrue_train, y_train)"
   ]
  },
  {
   "cell_type": "markdown",
   "metadata": {},
   "source": [
    "> fix the overfitting issue but the scores are bad"
   ]
  },
  {
   "cell_type": "markdown",
   "metadata": {},
   "source": [
    "## Final Model"
   ]
  },
  {
   "cell_type": "code",
   "execution_count": 116,
   "metadata": {},
   "outputs": [],
   "source": [
    "gradient_pipe = imbpipeline(steps=[\n",
    "    ('col', coltran),\n",
    "    ('smote', SMOTE()),\n",
    "    ('gb', GradientBoostingClassifier(learning_rate= 0.2, max_depth= 6, subsample= 0.7))\n",
    "])\n"
   ]
  },
  {
   "cell_type": "code",
   "execution_count": 123,
   "metadata": {},
   "outputs": [
    {
     "data": {
      "text/plain": [
       "Pipeline(steps=[('col',\n",
       "                 ColumnTransformer(remainder='passthrough',\n",
       "                                   transformers=[('zero',\n",
       "                                                  Pipeline(steps=[('ss',\n",
       "                                                                   StandardScaler())]),\n",
       "                                                  ['amount_tsh', 'gps_height',\n",
       "                                                   'longitude', 'latitude',\n",
       "                                                   'district_code',\n",
       "                                                   'population',\n",
       "                                                   'construction_year',\n",
       "                                                   'missing']),\n",
       "                                                 ('cat_pipe',\n",
       "                                                  Pipeline(steps=[('ohe',\n",
       "                                                                   OneHotEncoder(handle_unknown='ignore',\n",
       "                                                                                 sparse=False))]),\n",
       "                                                  ['basin', 'region', 'lga',\n",
       "                                                   'ward', 'extraction_type',\n",
       "                                                   'management', 'payment',\n",
       "                                                   'water_quality', 'quantity',\n",
       "                                                   'source_type',\n",
       "                                                   'waterpoint_type'])])),\n",
       "                ('smote', SMOTE()),\n",
       "                ('gb',\n",
       "                 GradientBoostingClassifier(learning_rate=0.2, max_depth=6,\n",
       "                                            subsample=0.7))])"
      ]
     },
     "execution_count": 123,
     "metadata": {},
     "output_type": "execute_result"
    }
   ],
   "source": [
    "gradient_pipe.fit(X_train, y_train)"
   ]
  },
  {
   "cell_type": "code",
   "execution_count": 125,
   "metadata": {},
   "outputs": [
    {
     "name": "stdout",
     "output_type": "stream",
     "text": [
      "              precision    recall  f1-score   support\n",
      "\n",
      "           0       0.81      0.80      0.81      6452\n",
      "           1       0.33      0.57      0.42       863\n",
      "           2       0.84      0.73      0.78      4565\n",
      "\n",
      "    accuracy                           0.76     11880\n",
      "   macro avg       0.66      0.70      0.67     11880\n",
      "weighted avg       0.78      0.76      0.77     11880\n",
      "\n"
     ]
    },
    {
     "data": {
      "image/png": "[encoded data removed]",
      "text/plain": [
       "<Figure size 432x288 with 2 Axes>"
      ]
     },
     "metadata": {
      "needs_background": "light"
     },
     "output_type": "display_data"
    }
   ],
   "source": [
    "evaluate_model(gradient_pipe, X_test, y_test)"
   ]
  },
  {
   "cell_type": "code",
   "execution_count": 126,
   "metadata": {},
   "outputs": [
    {
     "name": "stdout",
     "output_type": "stream",
     "text": [
      "              precision    recall  f1-score   support\n",
      "\n",
      "           0       0.84      0.84      0.84     25807\n",
      "           1       0.41      0.70      0.52      3454\n",
      "           2       0.87      0.76      0.81     18259\n",
      "\n",
      "    accuracy                           0.80     47520\n",
      "   macro avg       0.71      0.77      0.72     47520\n",
      "weighted avg       0.82      0.80      0.81     47520\n",
      "\n"
     ]
    },
    {
     "data": {
      "image/png": "[encoded data removed]",
      "text/plain": [
       "<Figure size 432x288 with 2 Axes>"
      ]
     },
     "metadata": {
      "needs_background": "light"
     },
     "output_type": "display_data"
    }
   ],
   "source": [
    "evaluate_model(gradient_pipe, X_train, y_train)"
   ]
  },
  {
   "cell_type": "code",
   "execution_count": null,
   "metadata": {},
   "outputs": [],
   "source": []
  }
 ],
 "metadata": {
  "kernelspec": {
   "display_name": "learn-env",
   "language": "python",
   "name": "learn-env"
  },
  "language_info": {
   "codemirror_mode": {
    "name": "ipython",
    "version": 3
   },
   "file_extension": ".py",
   "mimetype": "text/x-python",
   "name": "python",
   "nbconvert_exporter": "python",
   "pygments_lexer": "ipython3",
   "version": "3.8.8"
  }
 },
 "nbformat": 4,
 "nbformat_minor": 4
}
