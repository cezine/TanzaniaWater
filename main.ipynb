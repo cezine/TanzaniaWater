{
 "cells": [
  {
   "cell_type": "code",
   "execution_count": 3,
   "metadata": {},
   "outputs": [],
   "source": [
    "import pandas as pd\n",
    "import numpy as np\n",
    "import matplotlib.pyplot as plt\n",
    "%matplotlib inline\n",
    "import seaborn as sns\n",
    "import pickle\n",
    "from sklearn.metrics import plot_confusion_matrix, classification_report\n",
    "from sklearn.model_selection import train_test_split, cross_val_score, GridSearchCV\n",
    "from sklearn.pipeline import Pipeline\n",
    "from sklearn.impute import SimpleImputer\n",
    "from sklearn.compose import ColumnTransformer\n",
    "from sklearn.preprocessing import OneHotEncoder, LabelEncoder, StandardScaler\n",
    "from sklearn.tree import DecisionTreeClassifier, plot_tree\n",
    "from imblearn.over_sampling import SMOTE\n",
    "from sklearn.feature_selection import RFECV, VarianceThreshold\n",
    "from sklearn.ensemble import GradientBoostingClassifier\n",
    "from sklearn.dummy import DummyClassifier\n",
    "from imblearn.pipeline import Pipeline as imbpipeline"
   ]
  },
  {
   "cell_type": "code",
   "execution_count": 4,
   "metadata": {},
   "outputs": [],
   "source": [
    "df = pd.read_pickle('dropped_na_data.pickle')"
   ]
  },
  {
   "cell_type": "markdown",
   "metadata": {},
   "source": [
    "# Preprocessing"
   ]
  },
  {
   "cell_type": "markdown",
   "metadata": {},
   "source": [
    "> condition to indicate ambiguous data set"
   ]
  },
  {
   "cell_type": "code",
   "execution_count": 5,
   "metadata": {},
   "outputs": [],
   "source": [
    "unknown= df.loc[(df['population']==0)&(df['construction_year']==0)&(df['amount_tsh']==0)&(df['gps_height']==0)]"
   ]
  },
  {
   "cell_type": "code",
   "execution_count": 6,
   "metadata": {},
   "outputs": [],
   "source": [
    "def missing(row): \n",
    "    if (row['population']==0)&(row['construction_year']==0)&(row['amount_tsh']==0)&(row['gps_height']==0):\n",
    "        return 1\n",
    "    else:\n",
    "        return 0 \n"
   ]
  },
  {
   "cell_type": "code",
   "execution_count": 7,
   "metadata": {},
   "outputs": [],
   "source": [
    "df['missing']= df.apply(lambda row : missing(row), axis=1)"
   ]
  },
  {
   "cell_type": "markdown",
   "metadata": {},
   "source": [
    "> splitting data set"
   ]
  },
  {
   "cell_type": "code",
   "execution_count": 8,
   "metadata": {
    "scrolled": true
   },
   "outputs": [
    {
     "data": {
      "text/plain": [
       "(59400, 19)"
      ]
     },
     "execution_count": 8,
     "metadata": {},
     "output_type": "execute_result"
    }
   ],
   "source": [
    "X = df.drop('status_group', axis=1)\n",
    "X.shape"
   ]
  },
  {
   "cell_type": "code",
   "execution_count": 9,
   "metadata": {},
   "outputs": [],
   "source": [
    "y= df['status_group']"
   ]
  },
  {
   "cell_type": "code",
   "execution_count": 10,
   "metadata": {},
   "outputs": [],
   "source": [
    "le = LabelEncoder()"
   ]
  },
  {
   "cell_type": "code",
   "execution_count": 11,
   "metadata": {},
   "outputs": [],
   "source": [
    "y=le.fit_transform(df['status_group'])\n",
    "\n",
    "#0 = functional, 1= need repair, 2= non functional "
   ]
  },
  {
   "cell_type": "code",
   "execution_count": 12,
   "metadata": {},
   "outputs": [],
   "source": [
    "X_train,X_test,y_train,y_test = train_test_split(X,y, test_size=0.2,random_state=42, stratify=y)"
   ]
  },
  {
   "cell_type": "markdown",
   "metadata": {},
   "source": [
    "> data cleaning"
   ]
  },
  {
   "cell_type": "code",
   "execution_count": 13,
   "metadata": {
    "scrolled": true
   },
   "outputs": [],
   "source": [
    "cat_columns= [col for col in X.columns if X[col].dtype in ['object']]"
   ]
  },
  {
   "cell_type": "code",
   "execution_count": 14,
   "metadata": {},
   "outputs": [
    {
     "data": {
      "text/plain": [
       "['amount_tsh',\n",
       " 'gps_height',\n",
       " 'longitude',\n",
       " 'latitude',\n",
       " 'district_code',\n",
       " 'population',\n",
       " 'construction_year',\n",
       " 'missing']"
      ]
     },
     "execution_count": 14,
     "metadata": {},
     "output_type": "execute_result"
    }
   ],
   "source": [
    "num_columns = [col for col in X.columns if X[col].dtypes in ['float64', 'int64']]\n",
    "\n",
    "num_columns"
   ]
  },
  {
   "cell_type": "code",
   "execution_count": 15,
   "metadata": {},
   "outputs": [],
   "source": [
    "zero_pipe=Pipeline(steps= [\n",
    "    ('ss', StandardScaler())\n",
    "])"
   ]
  },
  {
   "cell_type": "code",
   "execution_count": 16,
   "metadata": {},
   "outputs": [],
   "source": [
    "cat_pipe=Pipeline(steps= [\n",
    "    ('ohe', OneHotEncoder(sparse=False, handle_unknown='ignore'))\n",
    "])"
   ]
  },
  {
   "cell_type": "code",
   "execution_count": 17,
   "metadata": {},
   "outputs": [],
   "source": [
    "coltran= ColumnTransformer(transformers=[\n",
    "    ('zero', zero_pipe , num_columns), \n",
    "    ('cat_pipe', cat_pipe, cat_columns)\n",
    "],remainder= 'passthrough')\n"
   ]
  },
  {
   "cell_type": "markdown",
   "metadata": {},
   "source": [
    "> preparing the cleaned dataset for all post modeling without cross validation "
   ]
  },
  {
   "cell_type": "code",
   "execution_count": 18,
   "metadata": {},
   "outputs": [
    {
     "data": {
      "text/plain": [
       "ColumnTransformer(remainder='passthrough',\n",
       "                  transformers=[('zero',\n",
       "                                 Pipeline(steps=[('ss', StandardScaler())]),\n",
       "                                 ['amount_tsh', 'gps_height', 'longitude',\n",
       "                                  'latitude', 'district_code', 'population',\n",
       "                                  'construction_year', 'missing']),\n",
       "                                ('cat_pipe',\n",
       "                                 Pipeline(steps=[('ohe',\n",
       "                                                  OneHotEncoder(handle_unknown='ignore',\n",
       "                                                                sparse=False))]),\n",
       "                                 ['basin', 'region', 'lga', 'ward',\n",
       "                                  'extraction_type', 'management', 'payment',\n",
       "                                  'water_quality', 'quantity', 'source_type',\n",
       "                                  'waterpoint_type'])])"
      ]
     },
     "execution_count": 18,
     "metadata": {},
     "output_type": "execute_result"
    }
   ],
   "source": [
    "coltran.fit(X_train)"
   ]
  },
  {
   "cell_type": "code",
   "execution_count": 19,
   "metadata": {},
   "outputs": [],
   "source": [
    "X_cleaned_train= coltran.transform(X_train)"
   ]
  },
  {
   "cell_type": "code",
   "execution_count": 20,
   "metadata": {},
   "outputs": [],
   "source": [
    "X_cleaned_test = coltran.transform(X_test)"
   ]
  },
  {
   "cell_type": "code",
   "execution_count": 21,
   "metadata": {},
   "outputs": [],
   "source": [
    "#the order of the column name has to match the order of the column transformer \n",
    "cat_columns = coltran.named_transformers_['cat_pipe']['ohe'].get_feature_names(cat_columns).tolist()\n",
    "all_columns = num_columns + cat_columns \n",
    "\n",
    "cleaned_df_train = pd.DataFrame(X_cleaned_train, columns=all_columns)\n",
    "cleaned_df_test = pd.DataFrame(X_cleaned_test, columns=all_columns)"
   ]
  },
  {
   "cell_type": "code",
   "execution_count": 22,
   "metadata": {},
   "outputs": [
    {
     "data": {
      "text/html": [
       "<div>\n",
       "<style scoped>\n",
       "    .dataframe tbody tr th:only-of-type {\n",
       "        vertical-align: middle;\n",
       "    }\n",
       "\n",
       "    .dataframe tbody tr th {\n",
       "        vertical-align: top;\n",
       "    }\n",
       "\n",
       "    .dataframe thead th {\n",
       "        text-align: right;\n",
       "    }\n",
       "</style>\n",
       "<table border=\"1\" class=\"dataframe\">\n",
       "  <thead>\n",
       "    <tr style=\"text-align: right;\">\n",
       "      <th></th>\n",
       "      <th>amount_tsh</th>\n",
       "      <th>gps_height</th>\n",
       "      <th>longitude</th>\n",
       "      <th>latitude</th>\n",
       "      <th>district_code</th>\n",
       "      <th>population</th>\n",
       "      <th>construction_year</th>\n",
       "      <th>missing</th>\n",
       "    </tr>\n",
       "  </thead>\n",
       "  <tbody>\n",
       "    <tr>\n",
       "      <th>count</th>\n",
       "      <td>4.752000e+04</td>\n",
       "      <td>4.752000e+04</td>\n",
       "      <td>4.752000e+04</td>\n",
       "      <td>4.752000e+04</td>\n",
       "      <td>4.752000e+04</td>\n",
       "      <td>4.752000e+04</td>\n",
       "      <td>4.752000e+04</td>\n",
       "      <td>4.752000e+04</td>\n",
       "    </tr>\n",
       "    <tr>\n",
       "      <th>mean</th>\n",
       "      <td>8.272823e-16</td>\n",
       "      <td>-1.059440e-15</td>\n",
       "      <td>-3.949796e-16</td>\n",
       "      <td>1.809836e-17</td>\n",
       "      <td>-7.144505e-16</td>\n",
       "      <td>9.017466e-17</td>\n",
       "      <td>1.512819e-15</td>\n",
       "      <td>-1.572456e-15</td>\n",
       "    </tr>\n",
       "    <tr>\n",
       "      <th>std</th>\n",
       "      <td>1.000011e+00</td>\n",
       "      <td>1.000011e+00</td>\n",
       "      <td>1.000011e+00</td>\n",
       "      <td>1.000011e+00</td>\n",
       "      <td>1.000011e+00</td>\n",
       "      <td>1.000011e+00</td>\n",
       "      <td>1.000011e+00</td>\n",
       "      <td>1.000011e+00</td>\n",
       "    </tr>\n",
       "    <tr>\n",
       "      <th>min</th>\n",
       "      <td>-1.006895e-01</td>\n",
       "      <td>-1.057099e+00</td>\n",
       "      <td>-5.201849e+00</td>\n",
       "      <td>-2.020702e+00</td>\n",
       "      <td>-5.837933e-01</td>\n",
       "      <td>-3.882845e-01</td>\n",
       "      <td>-1.369972e+00</td>\n",
       "      <td>-7.020572e-01</td>\n",
       "    </tr>\n",
       "    <tr>\n",
       "      <th>25%</th>\n",
       "      <td>-1.006895e-01</td>\n",
       "      <td>-9.661892e-01</td>\n",
       "      <td>-1.511435e-01</td>\n",
       "      <td>-9.595306e-01</td>\n",
       "      <td>-3.759175e-01</td>\n",
       "      <td>-3.882845e-01</td>\n",
       "      <td>-1.369972e+00</td>\n",
       "      <td>-7.020572e-01</td>\n",
       "    </tr>\n",
       "    <tr>\n",
       "      <th>50%</th>\n",
       "      <td>-1.006895e-01</td>\n",
       "      <td>-4.286700e-01</td>\n",
       "      <td>1.264211e-01</td>\n",
       "      <td>2.327237e-01</td>\n",
       "      <td>-2.719796e-01</td>\n",
       "      <td>-3.342978e-01</td>\n",
       "      <td>7.184756e-01</td>\n",
       "      <td>-7.020572e-01</td>\n",
       "    </tr>\n",
       "    <tr>\n",
       "      <th>75%</th>\n",
       "      <td>-9.287021e-02</td>\n",
       "      <td>9.385769e-01</td>\n",
       "      <td>4.713299e-01</td>\n",
       "      <td>8.087446e-01</td>\n",
       "      <td>-6.410379e-02</td>\n",
       "      <td>7.600142e-02</td>\n",
       "      <td>7.374041e-01</td>\n",
       "      <td>1.424385e+00</td>\n",
       "    </tr>\n",
       "    <tr>\n",
       "      <th>max</th>\n",
       "      <td>1.093699e+02</td>\n",
       "      <td>3.030934e+00</td>\n",
       "      <td>9.557211e-01</td>\n",
       "      <td>1.939939e+00</td>\n",
       "      <td>7.731239e+00</td>\n",
       "      <td>3.265160e+01</td>\n",
       "      <td>7.468684e-01</td>\n",
       "      <td>1.424385e+00</td>\n",
       "    </tr>\n",
       "  </tbody>\n",
       "</table>\n",
       "</div>"
      ],
      "text/plain": [
       "         amount_tsh    gps_height     longitude      latitude  district_code  \\\n",
       "count  4.752000e+04  4.752000e+04  4.752000e+04  4.752000e+04   4.752000e+04   \n",
       "mean   8.272823e-16 -1.059440e-15 -3.949796e-16  1.809836e-17  -7.144505e-16   \n",
       "std    1.000011e+00  1.000011e+00  1.000011e+00  1.000011e+00   1.000011e+00   \n",
       "min   -1.006895e-01 -1.057099e+00 -5.201849e+00 -2.020702e+00  -5.837933e-01   \n",
       "25%   -1.006895e-01 -9.661892e-01 -1.511435e-01 -9.595306e-01  -3.759175e-01   \n",
       "50%   -1.006895e-01 -4.286700e-01  1.264211e-01  2.327237e-01  -2.719796e-01   \n",
       "75%   -9.287021e-02  9.385769e-01  4.713299e-01  8.087446e-01  -6.410379e-02   \n",
       "max    1.093699e+02  3.030934e+00  9.557211e-01  1.939939e+00   7.731239e+00   \n",
       "\n",
       "         population  construction_year       missing  \n",
       "count  4.752000e+04       4.752000e+04  4.752000e+04  \n",
       "mean   9.017466e-17       1.512819e-15 -1.572456e-15  \n",
       "std    1.000011e+00       1.000011e+00  1.000011e+00  \n",
       "min   -3.882845e-01      -1.369972e+00 -7.020572e-01  \n",
       "25%   -3.882845e-01      -1.369972e+00 -7.020572e-01  \n",
       "50%   -3.342978e-01       7.184756e-01 -7.020572e-01  \n",
       "75%    7.600142e-02       7.374041e-01  1.424385e+00  \n",
       "max    3.265160e+01       7.468684e-01  1.424385e+00  "
      ]
     },
     "execution_count": 22,
     "metadata": {},
     "output_type": "execute_result"
    }
   ],
   "source": [
    "cleaned_df_train[num_columns].describe()"
   ]
  },
  {
   "cell_type": "code",
   "execution_count": 23,
   "metadata": {},
   "outputs": [],
   "source": [
    "#with open('cleaned_df_test.pkl', \"wb\") as f:\n",
    "    #pickle.dump(cleaned_df_test , f)\n",
    "    \n",
    "#with open('cleaned_df_train.pkl', \"wb\") as f1:\n",
    "    #pickle.dump(cleaned_df_train, f1)\n",
    "\n",
    "#with open('y_train.pkl', \"wb\") as f3:\n",
    "    #pickle.dump(y_train, f3)\n",
    "\n",
    "#with open('y_test.pkl', \"wb\") as f4:\n",
    "    #pickle.dump(y_test, f4)\n"
   ]
  },
  {
   "cell_type": "markdown",
   "metadata": {},
   "source": [
    "# Modeling"
   ]
  },
  {
   "cell_type": "markdown",
   "metadata": {},
   "source": [
    "## Dummie model "
   ]
  },
  {
   "cell_type": "code",
   "execution_count": 24,
   "metadata": {},
   "outputs": [
    {
     "data": {
      "text/plain": [
       "0.5430765993265994"
      ]
     },
     "execution_count": 24,
     "metadata": {},
     "output_type": "execute_result"
    }
   ],
   "source": [
    "dummy_clf = DummyClassifier(strategy=\"most_frequent\")\n",
    "dummy_clf.fit(cleaned_df_train, y_train)\n",
    "dummy_clf.score(cleaned_df_train, y_train)"
   ]
  },
  {
   "cell_type": "markdown",
   "metadata": {},
   "source": [
    "## Model1-Decision Tree"
   ]
  },
  {
   "cell_type": "code",
   "execution_count": 25,
   "metadata": {},
   "outputs": [],
   "source": [
    "def evaluate_model(model, X, y):\n",
    "    y_pred = model.predict(X)\n",
    "    print(classification_report(y, y_pred))\n",
    "    plot_confusion_matrix(model, X, y,cmap=\"Blues\")"
   ]
  },
  {
   "cell_type": "code",
   "execution_count": 26,
   "metadata": {},
   "outputs": [],
   "source": [
    "dt_pipe= Pipeline(steps= [('col', coltran), ('dt',DecisionTreeClassifier())])\n"
   ]
  },
  {
   "cell_type": "code",
   "execution_count": 27,
   "metadata": {},
   "outputs": [
    {
     "data": {
      "text/plain": [
       "Pipeline(steps=[('col',\n",
       "                 ColumnTransformer(remainder='passthrough',\n",
       "                                   transformers=[('zero',\n",
       "                                                  Pipeline(steps=[('ss',\n",
       "                                                                   StandardScaler())]),\n",
       "                                                  ['amount_tsh', 'gps_height',\n",
       "                                                   'longitude', 'latitude',\n",
       "                                                   'district_code',\n",
       "                                                   'population',\n",
       "                                                   'construction_year',\n",
       "                                                   'missing']),\n",
       "                                                 ('cat_pipe',\n",
       "                                                  Pipeline(steps=[('ohe',\n",
       "                                                                   OneHotEncoder(handle_unknown='ignore',\n",
       "                                                                                 sparse=False))]),\n",
       "                                                  ['basin', 'region', 'lga',\n",
       "                                                   'ward', 'extraction_type',\n",
       "                                                   'management', 'payment',\n",
       "                                                   'water_quality', 'quantity',\n",
       "                                                   'source_type',\n",
       "                                                   'waterpoint_type'])])),\n",
       "                ('dt', DecisionTreeClassifier())])"
      ]
     },
     "execution_count": 27,
     "metadata": {},
     "output_type": "execute_result"
    }
   ],
   "source": [
    "dt_pipe.fit(X_train, y_train)"
   ]
  },
  {
   "cell_type": "code",
   "execution_count": 28,
   "metadata": {},
   "outputs": [],
   "source": [
    "score= cross_val_score(dt_pipe, X_train, y_train)"
   ]
  },
  {
   "cell_type": "code",
   "execution_count": 29,
   "metadata": {},
   "outputs": [
    {
     "data": {
      "text/plain": [
       "0.7523148148148149"
      ]
     },
     "execution_count": 29,
     "metadata": {},
     "output_type": "execute_result"
    }
   ],
   "source": [
    "score.mean()"
   ]
  },
  {
   "cell_type": "code",
   "execution_count": 30,
   "metadata": {},
   "outputs": [
    {
     "data": {
      "text/plain": [
       "0.7595959595959596"
      ]
     },
     "execution_count": 30,
     "metadata": {},
     "output_type": "execute_result"
    }
   ],
   "source": [
    "dt_pipe.score(X_test, y_test)"
   ]
  },
  {
   "cell_type": "code",
   "execution_count": 31,
   "metadata": {},
   "outputs": [
    {
     "name": "stdout",
     "output_type": "stream",
     "text": [
      "              precision    recall  f1-score   support\n",
      "\n",
      "           0       1.00      1.00      1.00     25807\n",
      "           1       0.99      0.98      0.99      3454\n",
      "           2       1.00      1.00      1.00     18259\n",
      "\n",
      "    accuracy                           1.00     47520\n",
      "   macro avg       1.00      0.99      0.99     47520\n",
      "weighted avg       1.00      1.00      1.00     47520\n",
      "\n"
     ]
    },
    {
     "data": {
      "image/png": "[encoded data removed]",
      "text/plain": [
       "<Figure size 432x288 with 2 Axes>"
      ]
     },
     "metadata": {
      "needs_background": "light"
     },
     "output_type": "display_data"
    }
   ],
   "source": [
    "evaluate_model(dt_pipe, X_train, y_train)"
   ]
  },
  {
   "cell_type": "code",
   "execution_count": 32,
   "metadata": {},
   "outputs": [
    {
     "name": "stdout",
     "output_type": "stream",
     "text": [
      "              precision    recall  f1-score   support\n",
      "\n",
      "           0       0.80      0.80      0.80      6452\n",
      "           1       0.35      0.36      0.36       863\n",
      "           2       0.78      0.77      0.77      4565\n",
      "\n",
      "    accuracy                           0.76     11880\n",
      "   macro avg       0.64      0.65      0.64     11880\n",
      "weighted avg       0.76      0.76      0.76     11880\n",
      "\n"
     ]
    },
    {
     "data": {
      "image/png": "[encoded data removed]",
      "text/plain": [
       "<Figure size 432x288 with 2 Axes>"
      ]
     },
     "metadata": {
      "needs_background": "light"
     },
     "output_type": "display_data"
    }
   ],
   "source": [
    "evaluate_model(dt_pipe, X_test, y_test)\n"
   ]
  },
  {
   "cell_type": "markdown",
   "metadata": {},
   "source": [
    "> overfitting "
   ]
  },
  {
   "cell_type": "markdown",
   "metadata": {},
   "source": [
    "## SMOTE + Decision Tree Model"
   ]
  },
  {
   "cell_type": "code",
   "execution_count": 33,
   "metadata": {},
   "outputs": [],
   "source": [
    "pipe_model = imbpipeline(steps=[\n",
    "    ('col', coltran),\n",
    "    ('smote', SMOTE()),\n",
    "    ('dt', DecisionTreeClassifier())\n",
    "])"
   ]
  },
  {
   "cell_type": "code",
   "execution_count": 34,
   "metadata": {},
   "outputs": [
    {
     "data": {
      "text/plain": [
       "Pipeline(steps=[('col',\n",
       "                 ColumnTransformer(remainder='passthrough',\n",
       "                                   transformers=[('zero',\n",
       "                                                  Pipeline(steps=[('ss',\n",
       "                                                                   StandardScaler())]),\n",
       "                                                  ['amount_tsh', 'gps_height',\n",
       "                                                   'longitude', 'latitude',\n",
       "                                                   'district_code',\n",
       "                                                   'population',\n",
       "                                                   'construction_year',\n",
       "                                                   'missing']),\n",
       "                                                 ('cat_pipe',\n",
       "                                                  Pipeline(steps=[('ohe',\n",
       "                                                                   OneHotEncoder(handle_unknown='ignore',\n",
       "                                                                                 sparse=False))]),\n",
       "                                                  ['basin', 'region', 'lga',\n",
       "                                                   'ward', 'extraction_type',\n",
       "                                                   'management', 'payment',\n",
       "                                                   'water_quality', 'quantity',\n",
       "                                                   'source_type',\n",
       "                                                   'waterpoint_type'])])),\n",
       "                ('smote', SMOTE()), ('dt', DecisionTreeClassifier())])"
      ]
     },
     "execution_count": 34,
     "metadata": {},
     "output_type": "execute_result"
    }
   ],
   "source": [
    "pipe_model.fit(X_train, y_train)"
   ]
  },
  {
   "cell_type": "code",
   "execution_count": 35,
   "metadata": {},
   "outputs": [
    {
     "data": {
      "text/plain": [
       "0.9963594276094276"
      ]
     },
     "execution_count": 35,
     "metadata": {},
     "output_type": "execute_result"
    }
   ],
   "source": [
    "pipe_model.score(X_train, y_train)"
   ]
  },
  {
   "cell_type": "code",
   "execution_count": 36,
   "metadata": {},
   "outputs": [
    {
     "name": "stdout",
     "output_type": "stream",
     "text": [
      "              precision    recall  f1-score   support\n",
      "\n",
      "           0       1.00      1.00      1.00     25807\n",
      "           1       0.97      0.99      0.98      3454\n",
      "           2       1.00      1.00      1.00     18259\n",
      "\n",
      "    accuracy                           1.00     47520\n",
      "   macro avg       0.99      0.99      0.99     47520\n",
      "weighted avg       1.00      1.00      1.00     47520\n",
      "\n"
     ]
    },
    {
     "data": {
      "image/png": "[encoded data removed]",
      "text/plain": [
       "<Figure size 432x288 with 2 Axes>"
      ]
     },
     "metadata": {
      "needs_background": "light"
     },
     "output_type": "display_data"
    }
   ],
   "source": [
    "evaluate_model(pipe_model, X_train, y_train)"
   ]
  },
  {
   "cell_type": "code",
   "execution_count": 37,
   "metadata": {
    "scrolled": false
   },
   "outputs": [
    {
     "name": "stdout",
     "output_type": "stream",
     "text": [
      "              precision    recall  f1-score   support\n",
      "\n",
      "           0       0.81      0.78      0.79      6452\n",
      "           1       0.33      0.40      0.36       863\n",
      "           2       0.77      0.77      0.77      4565\n",
      "\n",
      "    accuracy                           0.75     11880\n",
      "   macro avg       0.64      0.65      0.64     11880\n",
      "weighted avg       0.76      0.75      0.75     11880\n",
      "\n"
     ]
    },
    {
     "data": {
      "image/png": "[encoded data removed]",
      "text/plain": [
       "<Figure size 432x288 with 2 Axes>"
      ]
     },
     "metadata": {
      "needs_background": "light"
     },
     "output_type": "display_data"
    }
   ],
   "source": [
    "evaluate_model(pipe_model, X_test, y_test)"
   ]
  },
  {
   "cell_type": "markdown",
   "metadata": {},
   "source": [
    "### Gridsearch for SMOTE +Decision Tree Model "
   ]
  },
  {
   "cell_type": "code",
   "execution_count": 38,
   "metadata": {
    "scrolled": true
   },
   "outputs": [
    {
     "name": "stdout",
     "output_type": "stream",
     "text": [
      "Fitting 5 folds for each of 6 candidates, totalling 30 fits\n",
      "[CV] END .............dt__criterion=gini, dt__max_depth=None; total time=  31.6s\n",
      "[CV] END .............dt__criterion=gini, dt__max_depth=None; total time=  32.1s\n",
      "[CV] END .............dt__criterion=gini, dt__max_depth=None; total time=  30.5s\n",
      "[CV] END .............dt__criterion=gini, dt__max_depth=None; total time=  31.3s\n",
      "[CV] END .............dt__criterion=gini, dt__max_depth=None; total time=  32.6s\n",
      "[CV] END ................dt__criterion=gini, dt__max_depth=5; total time=  22.8s\n",
      "[CV] END ................dt__criterion=gini, dt__max_depth=5; total time=  22.8s\n",
      "[CV] END ................dt__criterion=gini, dt__max_depth=5; total time=  23.0s\n",
      "[CV] END ................dt__criterion=gini, dt__max_depth=5; total time=  23.3s\n",
      "[CV] END ................dt__criterion=gini, dt__max_depth=5; total time=  23.3s\n",
      "[CV] END ................dt__criterion=gini, dt__max_depth=9; total time=  24.3s\n",
      "[CV] END ................dt__criterion=gini, dt__max_depth=9; total time=  24.6s\n",
      "[CV] END ................dt__criterion=gini, dt__max_depth=9; total time=  23.8s\n",
      "[CV] END ................dt__criterion=gini, dt__max_depth=9; total time=  24.0s\n",
      "[CV] END ................dt__criterion=gini, dt__max_depth=9; total time=  24.0s\n",
      "[CV] END ..........dt__criterion=entropy, dt__max_depth=None; total time=  25.6s\n",
      "[CV] END ..........dt__criterion=entropy, dt__max_depth=None; total time=  26.1s\n",
      "[CV] END ..........dt__criterion=entropy, dt__max_depth=None; total time=  25.5s\n",
      "[CV] END ..........dt__criterion=entropy, dt__max_depth=None; total time=  26.3s\n",
      "[CV] END ..........dt__criterion=entropy, dt__max_depth=None; total time=  26.6s\n",
      "[CV] END .............dt__criterion=entropy, dt__max_depth=5; total time=  22.3s\n",
      "[CV] END .............dt__criterion=entropy, dt__max_depth=5; total time=  23.2s\n",
      "[CV] END .............dt__criterion=entropy, dt__max_depth=5; total time=  21.9s\n",
      "[CV] END .............dt__criterion=entropy, dt__max_depth=5; total time=  22.2s\n",
      "[CV] END .............dt__criterion=entropy, dt__max_depth=5; total time=  22.2s\n",
      "[CV] END .............dt__criterion=entropy, dt__max_depth=9; total time=  25.1s\n",
      "[CV] END .............dt__criterion=entropy, dt__max_depth=9; total time=  25.6s\n",
      "[CV] END .............dt__criterion=entropy, dt__max_depth=9; total time=  24.8s\n",
      "[CV] END .............dt__criterion=entropy, dt__max_depth=9; total time=  25.6s\n",
      "[CV] END .............dt__criterion=entropy, dt__max_depth=9; total time=  25.4s\n"
     ]
    },
    {
     "data": {
      "text/plain": [
       "{'dt__criterion': 'gini', 'dt__max_depth': None}"
      ]
     },
     "execution_count": 38,
     "metadata": {},
     "output_type": "execute_result"
    }
   ],
   "source": [
    "param_grid = {'dt__criterion' :['gini', 'entropy'],\n",
    "    'dt__max_depth': [None, 5, 9]\n",
    "}\n",
    "\n",
    "grid = GridSearchCV(pipe_model, param_grid, scoring='f1_macro', verbose=2)\n",
    "grid.fit(X_train, y_train)\n",
    "\n",
    "grid.best_params_"
   ]
  },
  {
   "cell_type": "code",
   "execution_count": 39,
   "metadata": {},
   "outputs": [
    {
     "data": {
      "text/html": [
       "<div>\n",
       "<style scoped>\n",
       "    .dataframe tbody tr th:only-of-type {\n",
       "        vertical-align: middle;\n",
       "    }\n",
       "\n",
       "    .dataframe tbody tr th {\n",
       "        vertical-align: top;\n",
       "    }\n",
       "\n",
       "    .dataframe thead th {\n",
       "        text-align: right;\n",
       "    }\n",
       "</style>\n",
       "<table border=\"1\" class=\"dataframe\">\n",
       "  <thead>\n",
       "    <tr style=\"text-align: right;\">\n",
       "      <th></th>\n",
       "      <th>mean_fit_time</th>\n",
       "      <th>std_fit_time</th>\n",
       "      <th>mean_score_time</th>\n",
       "      <th>std_score_time</th>\n",
       "      <th>param_dt__criterion</th>\n",
       "      <th>param_dt__max_depth</th>\n",
       "      <th>params</th>\n",
       "      <th>split0_test_score</th>\n",
       "      <th>split1_test_score</th>\n",
       "      <th>split2_test_score</th>\n",
       "      <th>split3_test_score</th>\n",
       "      <th>split4_test_score</th>\n",
       "      <th>mean_test_score</th>\n",
       "      <th>std_test_score</th>\n",
       "      <th>rank_test_score</th>\n",
       "    </tr>\n",
       "  </thead>\n",
       "  <tbody>\n",
       "    <tr>\n",
       "      <th>0</th>\n",
       "      <td>31.444462</td>\n",
       "      <td>0.715535</td>\n",
       "      <td>0.174358</td>\n",
       "      <td>0.003929</td>\n",
       "      <td>gini</td>\n",
       "      <td>None</td>\n",
       "      <td>{'dt__criterion': 'gini', 'dt__max_depth': None}</td>\n",
       "      <td>0.647986</td>\n",
       "      <td>0.648697</td>\n",
       "      <td>0.655477</td>\n",
       "      <td>0.650660</td>\n",
       "      <td>0.645874</td>\n",
       "      <td>0.649739</td>\n",
       "      <td>0.003252</td>\n",
       "      <td>1</td>\n",
       "    </tr>\n",
       "    <tr>\n",
       "      <th>1</th>\n",
       "      <td>22.860425</td>\n",
       "      <td>0.216858</td>\n",
       "      <td>0.171346</td>\n",
       "      <td>0.003315</td>\n",
       "      <td>gini</td>\n",
       "      <td>5</td>\n",
       "      <td>{'dt__criterion': 'gini', 'dt__max_depth': 5}</td>\n",
       "      <td>0.478324</td>\n",
       "      <td>0.471983</td>\n",
       "      <td>0.477655</td>\n",
       "      <td>0.465688</td>\n",
       "      <td>0.474364</td>\n",
       "      <td>0.473603</td>\n",
       "      <td>0.004573</td>\n",
       "      <td>5</td>\n",
       "    </tr>\n",
       "    <tr>\n",
       "      <th>2</th>\n",
       "      <td>23.984481</td>\n",
       "      <td>0.271151</td>\n",
       "      <td>0.170372</td>\n",
       "      <td>0.005151</td>\n",
       "      <td>gini</td>\n",
       "      <td>9</td>\n",
       "      <td>{'dt__criterion': 'gini', 'dt__max_depth': 9}</td>\n",
       "      <td>0.557990</td>\n",
       "      <td>0.556043</td>\n",
       "      <td>0.558617</td>\n",
       "      <td>0.548633</td>\n",
       "      <td>0.562894</td>\n",
       "      <td>0.556835</td>\n",
       "      <td>0.004672</td>\n",
       "      <td>3</td>\n",
       "    </tr>\n",
       "    <tr>\n",
       "      <th>3</th>\n",
       "      <td>25.827616</td>\n",
       "      <td>0.408025</td>\n",
       "      <td>0.168107</td>\n",
       "      <td>0.001704</td>\n",
       "      <td>entropy</td>\n",
       "      <td>None</td>\n",
       "      <td>{'dt__criterion': 'entropy', 'dt__max_depth': ...</td>\n",
       "      <td>0.643940</td>\n",
       "      <td>0.641485</td>\n",
       "      <td>0.648241</td>\n",
       "      <td>0.652713</td>\n",
       "      <td>0.655363</td>\n",
       "      <td>0.648348</td>\n",
       "      <td>0.005193</td>\n",
       "      <td>2</td>\n",
       "    </tr>\n",
       "    <tr>\n",
       "      <th>4</th>\n",
       "      <td>22.168371</td>\n",
       "      <td>0.451477</td>\n",
       "      <td>0.170880</td>\n",
       "      <td>0.002664</td>\n",
       "      <td>entropy</td>\n",
       "      <td>5</td>\n",
       "      <td>{'dt__criterion': 'entropy', 'dt__max_depth': 5}</td>\n",
       "      <td>0.474378</td>\n",
       "      <td>0.469484</td>\n",
       "      <td>0.449196</td>\n",
       "      <td>0.468363</td>\n",
       "      <td>0.468784</td>\n",
       "      <td>0.466041</td>\n",
       "      <td>0.008695</td>\n",
       "      <td>6</td>\n",
       "    </tr>\n",
       "    <tr>\n",
       "      <th>5</th>\n",
       "      <td>25.126286</td>\n",
       "      <td>0.289401</td>\n",
       "      <td>0.172901</td>\n",
       "      <td>0.002462</td>\n",
       "      <td>entropy</td>\n",
       "      <td>9</td>\n",
       "      <td>{'dt__criterion': 'entropy', 'dt__max_depth': 9}</td>\n",
       "      <td>0.556627</td>\n",
       "      <td>0.542585</td>\n",
       "      <td>0.565366</td>\n",
       "      <td>0.533558</td>\n",
       "      <td>0.555637</td>\n",
       "      <td>0.550755</td>\n",
       "      <td>0.011263</td>\n",
       "      <td>4</td>\n",
       "    </tr>\n",
       "  </tbody>\n",
       "</table>\n",
       "</div>"
      ],
      "text/plain": [
       "   mean_fit_time  std_fit_time  mean_score_time  std_score_time  \\\n",
       "0      31.444462      0.715535         0.174358        0.003929   \n",
       "1      22.860425      0.216858         0.171346        0.003315   \n",
       "2      23.984481      0.271151         0.170372        0.005151   \n",
       "3      25.827616      0.408025         0.168107        0.001704   \n",
       "4      22.168371      0.451477         0.170880        0.002664   \n",
       "5      25.126286      0.289401         0.172901        0.002462   \n",
       "\n",
       "  param_dt__criterion param_dt__max_depth  \\\n",
       "0                gini                None   \n",
       "1                gini                   5   \n",
       "2                gini                   9   \n",
       "3             entropy                None   \n",
       "4             entropy                   5   \n",
       "5             entropy                   9   \n",
       "\n",
       "                                              params  split0_test_score  \\\n",
       "0   {'dt__criterion': 'gini', 'dt__max_depth': None}           0.647986   \n",
       "1      {'dt__criterion': 'gini', 'dt__max_depth': 5}           0.478324   \n",
       "2      {'dt__criterion': 'gini', 'dt__max_depth': 9}           0.557990   \n",
       "3  {'dt__criterion': 'entropy', 'dt__max_depth': ...           0.643940   \n",
       "4   {'dt__criterion': 'entropy', 'dt__max_depth': 5}           0.474378   \n",
       "5   {'dt__criterion': 'entropy', 'dt__max_depth': 9}           0.556627   \n",
       "\n",
       "   split1_test_score  split2_test_score  split3_test_score  split4_test_score  \\\n",
       "0           0.648697           0.655477           0.650660           0.645874   \n",
       "1           0.471983           0.477655           0.465688           0.474364   \n",
       "2           0.556043           0.558617           0.548633           0.562894   \n",
       "3           0.641485           0.648241           0.652713           0.655363   \n",
       "4           0.469484           0.449196           0.468363           0.468784   \n",
       "5           0.542585           0.565366           0.533558           0.555637   \n",
       "\n",
       "   mean_test_score  std_test_score  rank_test_score  \n",
       "0         0.649739        0.003252                1  \n",
       "1         0.473603        0.004573                5  \n",
       "2         0.556835        0.004672                3  \n",
       "3         0.648348        0.005193                2  \n",
       "4         0.466041        0.008695                6  \n",
       "5         0.550755        0.011263                4  "
      ]
     },
     "execution_count": 39,
     "metadata": {},
     "output_type": "execute_result"
    }
   ],
   "source": [
    "pd.DataFrame(grid.cv_results_)"
   ]
  },
  {
   "cell_type": "code",
   "execution_count": 40,
   "metadata": {
    "scrolled": true
   },
   "outputs": [
    {
     "data": {
      "text/plain": [
       "Pipeline(steps=[('col',\n",
       "                 ColumnTransformer(remainder='passthrough',\n",
       "                                   transformers=[('zero',\n",
       "                                                  Pipeline(steps=[('ss',\n",
       "                                                                   StandardScaler())]),\n",
       "                                                  ['amount_tsh', 'gps_height',\n",
       "                                                   'longitude', 'latitude',\n",
       "                                                   'district_code',\n",
       "                                                   'population',\n",
       "                                                   'construction_year',\n",
       "                                                   'missing']),\n",
       "                                                 ('cat_pipe',\n",
       "                                                  Pipeline(steps=[('ohe',\n",
       "                                                                   OneHotEncoder(handle_unknown='ignore',\n",
       "                                                                                 sparse=False))]),\n",
       "                                                  ['basin', 'region', 'lga',\n",
       "                                                   'ward', 'extraction_type',\n",
       "                                                   'management', 'payment',\n",
       "                                                   'water_quality', 'quantity',\n",
       "                                                   'source_type',\n",
       "                                                   'waterpoint_type'])])),\n",
       "                ('smote', SMOTE()), ('dt', DecisionTreeClassifier())])"
      ]
     },
     "execution_count": 40,
     "metadata": {},
     "output_type": "execute_result"
    }
   ],
   "source": [
    "best_model = grid.best_estimator_\n",
    "best_model.fit(X_train, y_train)"
   ]
  },
  {
   "cell_type": "code",
   "execution_count": 41,
   "metadata": {},
   "outputs": [
    {
     "name": "stdout",
     "output_type": "stream",
     "text": [
      "              precision    recall  f1-score   support\n",
      "\n",
      "           0       0.81      0.79      0.80      6452\n",
      "           1       0.34      0.40      0.37       863\n",
      "           2       0.78      0.78      0.78      4565\n",
      "\n",
      "    accuracy                           0.76     11880\n",
      "   macro avg       0.64      0.66      0.65     11880\n",
      "weighted avg       0.76      0.76      0.76     11880\n",
      "\n"
     ]
    },
    {
     "data": {
      "image/png": "[encoded data removed]",
      "text/plain": [
       "<Figure size 432x288 with 2 Axes>"
      ]
     },
     "metadata": {
      "needs_background": "light"
     },
     "output_type": "display_data"
    }
   ],
   "source": [
    "evaluate_model(best_model, X_test, y_test)"
   ]
  },
  {
   "cell_type": "code",
   "execution_count": 42,
   "metadata": {},
   "outputs": [
    {
     "data": {
      "image/png": "[encoded data removed]",
      "text/plain": [
       "<Figure size 432x288 with 1 Axes>"
      ]
     },
     "metadata": {
      "needs_background": "light"
     },
     "output_type": "display_data"
    }
   ],
   "source": [
    "fig, axes = plt.subplots()\n",
    "plot_tree(best_model['dt'])\n",
    "plt.show()"
   ]
  },
  {
   "cell_type": "markdown",
   "metadata": {},
   "source": [
    "> art "
   ]
  },
  {
   "cell_type": "markdown",
   "metadata": {},
   "source": [
    "### Top features for SMOTE +Decision Tree Model "
   ]
  },
  {
   "cell_type": "code",
   "execution_count": 43,
   "metadata": {},
   "outputs": [],
   "source": [
    "cat_columns= [col for col in X.columns if X[col].dtype in ['object']]\n",
    "\n",
    "cat_ohe_cols = best_model.named_steps['col'].named_transformers_['cat_pipe']['ohe'].get_feature_names(cat_columns).tolist()"
   ]
  },
  {
   "cell_type": "code",
   "execution_count": 44,
   "metadata": {
    "scrolled": true
   },
   "outputs": [
    {
     "data": {
      "image/png": "[encoded data removed]",
      "text/plain": [
       "<Figure size 432x288 with 1 Axes>"
      ]
     },
     "metadata": {
      "needs_background": "light"
     },
     "output_type": "display_data"
    }
   ],
   "source": [
    "feat_cols = num_columns+ cat_ohe_cols \n",
    "\n",
    "X_train_tf = pd.DataFrame(best_model.named_steps['col'].fit_transform(X_train), columns=all_columns)\n",
    "\n",
    "\n",
    "important_feats = pd.Series(best_model.named_steps['dt'].feature_importances_, \n",
    "                           index=feat_cols)\n",
    "\n",
    "important_feats.sort_values(ascending=False)[:5]\n",
    "\n",
    "top_feats = important_feats.sort_values(ascending=False).head(10)\n",
    "plt.Figure(figsize=(5, 5))\n",
    "top_feats.sort_values().plot(kind='barh')\n",
    "plt.xlabel('Level of importance')\n",
    "plt.ylabel('Features')\n",
    "plt.title('Best Features');"
   ]
  },
  {
   "cell_type": "markdown",
   "metadata": {},
   "source": [
    "## Feature Selection"
   ]
  },
  {
   "cell_type": "markdown",
   "metadata": {},
   "source": [
    "### Variance Threshold filtering method "
   ]
  },
  {
   "cell_type": "code",
   "execution_count": 45,
   "metadata": {},
   "outputs": [
    {
     "name": "stdout",
     "output_type": "stream",
     "text": [
      "0.9971801346801347\n",
      "0.7596801346801347\n",
      "\n",
      "\n",
      "0.9913720538720538\n",
      "0.7298821548821549\n",
      "\n",
      "\n",
      "0.9859848484848485\n",
      "0.6681818181818182\n",
      "\n",
      "\n",
      "0.9859848484848485\n",
      "0.6695286195286195\n",
      "\n",
      "\n",
      "0.9859848484848485\n",
      "0.669949494949495\n",
      "\n",
      "\n",
      "0.9836700336700337\n",
      "0.5820707070707071\n",
      "\n",
      "\n"
     ]
    }
   ],
   "source": [
    "threshold_ranges= np.linspace(0,1, num=6)\n",
    "\n",
    "for thresh in threshold_ranges:\n",
    "    selector = VarianceThreshold(thresh)\n",
    "    reduce_featrue_train= selector.fit_transform(cleaned_df_train)\n",
    "    reduce_featrue_test= selector.transform(cleaned_df_test)\n",
    "    base2 = DecisionTreeClassifier()\n",
    "    base2.fit(reduce_featrue_train, y_train)\n",
    "    print(base2.score(reduce_featrue_train, y_train))\n",
    "    print(base2.score(reduce_featrue_test, y_test))\n",
    "    print(\"\\n\")\n",
    "   "
   ]
  },
  {
   "cell_type": "markdown",
   "metadata": {},
   "source": [
    "> overfitting "
   ]
  },
  {
   "cell_type": "code",
   "execution_count": 47,
   "metadata": {},
   "outputs": [
    {
     "data": {
      "text/html": [
       "<div>\n",
       "<style scoped>\n",
       "    .dataframe tbody tr th:only-of-type {\n",
       "        vertical-align: middle;\n",
       "    }\n",
       "\n",
       "    .dataframe tbody tr th {\n",
       "        vertical-align: top;\n",
       "    }\n",
       "\n",
       "    .dataframe thead th {\n",
       "        text-align: right;\n",
       "    }\n",
       "</style>\n",
       "<table border=\"1\" class=\"dataframe\">\n",
       "  <thead>\n",
       "    <tr style=\"text-align: right;\">\n",
       "      <th></th>\n",
       "      <th>gps_height</th>\n",
       "      <th>longitude</th>\n",
       "      <th>population</th>\n",
       "      <th>missing</th>\n",
       "    </tr>\n",
       "  </thead>\n",
       "  <tbody>\n",
       "    <tr>\n",
       "      <th>0</th>\n",
       "      <td>-0.966189</td>\n",
       "      <td>-0.082347</td>\n",
       "      <td>-0.388285</td>\n",
       "      <td>1.424385</td>\n",
       "    </tr>\n",
       "    <tr>\n",
       "      <th>1</th>\n",
       "      <td>1.990527</td>\n",
       "      <td>0.089031</td>\n",
       "      <td>-0.010377</td>\n",
       "      <td>-0.702057</td>\n",
       "    </tr>\n",
       "    <tr>\n",
       "      <th>2</th>\n",
       "      <td>-0.547718</td>\n",
       "      <td>0.634332</td>\n",
       "      <td>4.578495</td>\n",
       "      <td>-0.702057</td>\n",
       "    </tr>\n",
       "    <tr>\n",
       "      <th>3</th>\n",
       "      <td>-0.966189</td>\n",
       "      <td>-0.513692</td>\n",
       "      <td>-0.388285</td>\n",
       "      <td>1.424385</td>\n",
       "    </tr>\n",
       "    <tr>\n",
       "      <th>4</th>\n",
       "      <td>-0.966189</td>\n",
       "      <td>0.199466</td>\n",
       "      <td>-0.388285</td>\n",
       "      <td>1.424385</td>\n",
       "    </tr>\n",
       "    <tr>\n",
       "      <th>...</th>\n",
       "      <td>...</td>\n",
       "      <td>...</td>\n",
       "      <td>...</td>\n",
       "      <td>...</td>\n",
       "    </tr>\n",
       "    <tr>\n",
       "      <th>47515</th>\n",
       "      <td>-0.260560</td>\n",
       "      <td>0.638912</td>\n",
       "      <td>2.419026</td>\n",
       "      <td>-0.702057</td>\n",
       "    </tr>\n",
       "    <tr>\n",
       "      <th>47516</th>\n",
       "      <td>-0.966189</td>\n",
       "      <td>-0.023830</td>\n",
       "      <td>-0.388285</td>\n",
       "      <td>1.424385</td>\n",
       "    </tr>\n",
       "    <tr>\n",
       "      <th>47517</th>\n",
       "      <td>-0.101829</td>\n",
       "      <td>0.790675</td>\n",
       "      <td>-0.386125</td>\n",
       "      <td>-0.702057</td>\n",
       "    </tr>\n",
       "    <tr>\n",
       "      <th>47518</th>\n",
       "      <td>-0.351469</td>\n",
       "      <td>0.803744</td>\n",
       "      <td>0.302746</td>\n",
       "      <td>-0.702057</td>\n",
       "    </tr>\n",
       "    <tr>\n",
       "      <th>47519</th>\n",
       "      <td>-0.243244</td>\n",
       "      <td>0.531094</td>\n",
       "      <td>-0.193932</td>\n",
       "      <td>-0.702057</td>\n",
       "    </tr>\n",
       "  </tbody>\n",
       "</table>\n",
       "<p>47520 rows × 4 columns</p>\n",
       "</div>"
      ],
      "text/plain": [
       "       gps_height  longitude  population   missing\n",
       "0       -0.966189  -0.082347   -0.388285  1.424385\n",
       "1        1.990527   0.089031   -0.010377 -0.702057\n",
       "2       -0.547718   0.634332    4.578495 -0.702057\n",
       "3       -0.966189  -0.513692   -0.388285  1.424385\n",
       "4       -0.966189   0.199466   -0.388285  1.424385\n",
       "...           ...        ...         ...       ...\n",
       "47515   -0.260560   0.638912    2.419026 -0.702057\n",
       "47516   -0.966189  -0.023830   -0.388285  1.424385\n",
       "47517   -0.101829   0.790675   -0.386125 -0.702057\n",
       "47518   -0.351469   0.803744    0.302746 -0.702057\n",
       "47519   -0.243244   0.531094   -0.193932 -0.702057\n",
       "\n",
       "[47520 rows x 4 columns]"
      ]
     },
     "execution_count": 47,
     "metadata": {},
     "output_type": "execute_result"
    }
   ],
   "source": [
    "cleaned_df_train[cleaned_df_train.columns[selector.get_support(indices=True)]] "
   ]
  },
  {
   "cell_type": "markdown",
   "metadata": {},
   "source": [
    "### Tree Pruning using variance threshold data"
   ]
  },
  {
   "cell_type": "code",
   "execution_count": 48,
   "metadata": {},
   "outputs": [],
   "source": [
    "clf = DecisionTreeClassifier()"
   ]
  },
  {
   "cell_type": "code",
   "execution_count": 49,
   "metadata": {},
   "outputs": [],
   "source": [
    "path = clf.cost_complexity_pruning_path(reduce_featrue_train, y_train)"
   ]
  },
  {
   "cell_type": "code",
   "execution_count": 50,
   "metadata": {},
   "outputs": [],
   "source": [
    "ccp_alphas = path.ccp_alphas"
   ]
  },
  {
   "cell_type": "code",
   "execution_count": 51,
   "metadata": {},
   "outputs": [],
   "source": [
    "ccp_alphas = ccp_alphas[:-1]"
   ]
  },
  {
   "cell_type": "code",
   "execution_count": 52,
   "metadata": {},
   "outputs": [],
   "source": [
    "clfs= []"
   ]
  },
  {
   "cell_type": "code",
   "execution_count": 53,
   "metadata": {},
   "outputs": [
    {
     "name": "stdout",
     "output_type": "stream",
     "text": [
      "Number of nodes in the last tree is: 5 with ccp_alpha: 0.0028112996843502325\n"
     ]
    }
   ],
   "source": [
    "for ccp_alpha in ccp_alphas: \n",
    "    clf =DecisionTreeClassifier(random_state =0, ccp_alpha= ccp_alpha)\n",
    "    clf.fit(reduce_featrue_train, y_train)\n",
    "    clfs.append(clf)\n",
    "print(\"Number of nodes in the last tree is: {} with ccp_alpha: {}\".format(clfs[-1].tree_.node_count, ccp_alphas[-1]))"
   ]
  },
  {
   "cell_type": "code",
   "execution_count": 55,
   "metadata": {},
   "outputs": [
    {
     "data": {
      "image/png": "[encoded data removed]",
      "text/plain": [
       "<Figure size 432x288 with 1 Axes>"
      ]
     },
     "metadata": {
      "needs_background": "light"
     },
     "output_type": "display_data"
    }
   ],
   "source": [
    "train_scores = [clf.score(reduce_featrue_train, y_train) for clf in clfs]\n",
    "test_scores = [clf.score(reduce_featrue_test, y_test) for clf in clfs]\n",
    "\n",
    "fig, ax = plt.subplots()\n",
    "ax.set_xlabel(\"alpha\")\n",
    "ax.set_ylabel(\"accuracy\")\n",
    "ax.set_title(\"Accuracy vs alpha for training and testing sets\")\n",
    "ax.plot(ccp_alphas, train_scores, marker='o', label=\"train\",\n",
    "        drawstyle=\"steps-post\")\n",
    "ax.plot(ccp_alphas, test_scores, marker='o', label=\"test\",\n",
    "        drawstyle=\"steps-post\")\n",
    "ax.legend()\n",
    "plt.show()"
   ]
  },
  {
   "cell_type": "markdown",
   "metadata": {},
   "source": [
    "alpha_loop_values = []\n",
    "\n",
    "for ccp_alpha in ccp_alphas: \n",
    "    clf = ecisionTreeClassifier(random_state = 42, ccp_alpha= ccp_alpha)\n",
    "    scores= cross_val_score(clf, reduce_featrue_train, y_train, cv=2)\n",
    "    alpha_loop_values.append([ccp_alpha, np.mean(scores), np.std(scores)])\n",
    "    \n",
    "alpha_results.plot= pd.DataFrame(alpha_loop_values, columns=['alpha', 'mean_accuracy', 'std'])\n",
    "alpha_results.plot(x='alpha', y= 'mean_accuracy', yerr= 'std', marker= 'o', linestyle= '--')"
   ]
  },
  {
   "cell_type": "markdown",
   "metadata": {},
   "source": [
    "ideal_ccp_alpha= alpha_results[(alpha_results['alpha']>0.0001)&((alpha_results['alpha']< 0.00012))]['alpha']"
   ]
  },
  {
   "cell_type": "code",
   "execution_count": 57,
   "metadata": {},
   "outputs": [],
   "source": [
    "clf_pruned = DecisionTreeClassifier(random_state = 42, ccp_alpha= 0.000110)\n",
    "clf_pruned = clf_pruned.fit(reduce_featrue_train, y_train)"
   ]
  },
  {
   "cell_type": "code",
   "execution_count": 58,
   "metadata": {},
   "outputs": [
    {
     "name": "stdout",
     "output_type": "stream",
     "text": [
      "              precision    recall  f1-score   support\n",
      "\n",
      "           0       0.64      0.77      0.70      6452\n",
      "           1       0.54      0.05      0.09       863\n",
      "           2       0.58      0.51      0.54      4565\n",
      "\n",
      "    accuracy                           0.62     11880\n",
      "   macro avg       0.58      0.44      0.44     11880\n",
      "weighted avg       0.61      0.62      0.59     11880\n",
      "\n"
     ]
    },
    {
     "data": {
      "image/png": "[encoded data removed]",
      "text/plain": [
       "<Figure size 432x288 with 2 Axes>"
      ]
     },
     "metadata": {
      "needs_background": "light"
     },
     "output_type": "display_data"
    }
   ],
   "source": [
    "evaluate_model(clf_pruned,reduce_featrue_test, y_test)"
   ]
  },
  {
   "cell_type": "code",
   "execution_count": 59,
   "metadata": {},
   "outputs": [
    {
     "name": "stdout",
     "output_type": "stream",
     "text": [
      "              precision    recall  f1-score   support\n",
      "\n",
      "           0       0.66      0.79      0.72     25807\n",
      "           1       0.68      0.07      0.12      3454\n",
      "           2       0.61      0.55      0.58     18259\n",
      "\n",
      "    accuracy                           0.64     47520\n",
      "   macro avg       0.65      0.47      0.47     47520\n",
      "weighted avg       0.64      0.64      0.62     47520\n",
      "\n"
     ]
    },
    {
     "data": {
      "image/png": "[encoded data removed]",
      "text/plain": [
       "<Figure size 432x288 with 2 Axes>"
      ]
     },
     "metadata": {
      "needs_background": "light"
     },
     "output_type": "display_data"
    }
   ],
   "source": [
    "evaluate_model(clf_pruned,reduce_featrue_train, y_train)"
   ]
  },
  {
   "cell_type": "markdown",
   "metadata": {},
   "source": [
    "> fix the overfitting issue but the scores are bad"
   ]
  },
  {
   "cell_type": "markdown",
   "metadata": {},
   "source": [
    "## Final Model"
   ]
  },
  {
   "cell_type": "code",
   "execution_count": 60,
   "metadata": {},
   "outputs": [],
   "source": [
    "gradient_pipe = imbpipeline(steps=[\n",
    "    ('col', coltran),\n",
    "    ('smote', SMOTE()),\n",
    "    ('gb', GradientBoostingClassifier(learning_rate= 0.2, max_depth= 6, subsample= 0.7))\n",
    "])\n"
   ]
  },
  {
   "cell_type": "code",
   "execution_count": 61,
   "metadata": {},
   "outputs": [
    {
     "data": {
      "text/plain": [
       "Pipeline(steps=[('col',\n",
       "                 ColumnTransformer(remainder='passthrough',\n",
       "                                   transformers=[('zero',\n",
       "                                                  Pipeline(steps=[('ss',\n",
       "                                                                   StandardScaler())]),\n",
       "                                                  ['amount_tsh', 'gps_height',\n",
       "                                                   'longitude', 'latitude',\n",
       "                                                   'district_code',\n",
       "                                                   'population',\n",
       "                                                   'construction_year',\n",
       "                                                   'missing']),\n",
       "                                                 ('cat_pipe',\n",
       "                                                  Pipeline(steps=[('ohe',\n",
       "                                                                   OneHotEncoder(handle_unknown='ignore',\n",
       "                                                                                 sparse=False))]),\n",
       "                                                  ['basin', 'region', 'lga',\n",
       "                                                   'ward', 'extraction_type',\n",
       "                                                   'management', 'payment',\n",
       "                                                   'water_quality', 'quantity',\n",
       "                                                   'source_type',\n",
       "                                                   'waterpoint_type'])])),\n",
       "                ('smote', SMOTE()),\n",
       "                ('gb',\n",
       "                 GradientBoostingClassifier(learning_rate=0.2, max_depth=6,\n",
       "                                            subsample=0.7))])"
      ]
     },
     "execution_count": 61,
     "metadata": {},
     "output_type": "execute_result"
    }
   ],
   "source": [
    "gradient_pipe.fit(X_train, y_train)"
   ]
  },
  {
   "cell_type": "code",
   "execution_count": 63,
   "metadata": {},
   "outputs": [
    {
     "name": "stdout",
     "output_type": "stream",
     "text": [
      "              precision    recall  f1-score   support\n",
      "\n",
      "           0       0.81      0.80      0.80      6452\n",
      "           1       0.33      0.58      0.42       863\n",
      "           2       0.83      0.72      0.77      4565\n",
      "\n",
      "    accuracy                           0.75     11880\n",
      "   macro avg       0.65      0.70      0.66     11880\n",
      "weighted avg       0.78      0.75      0.76     11880\n",
      "\n"
     ]
    },
    {
     "data": {
      "image/png": "[encoded data removed]",
      "text/plain": [
       "<Figure size 432x288 with 2 Axes>"
      ]
     },
     "metadata": {
      "needs_background": "light"
     },
     "output_type": "display_data"
    }
   ],
   "source": [
    "evaluate_model(gradient_pipe, X_test, y_test)"
   ]
  },
  {
   "cell_type": "code",
   "execution_count": 64,
   "metadata": {},
   "outputs": [
    {
     "name": "stdout",
     "output_type": "stream",
     "text": [
      "              precision    recall  f1-score   support\n",
      "\n",
      "           0       0.84      0.83      0.84     25807\n",
      "           1       0.41      0.70      0.52      3454\n",
      "           2       0.86      0.76      0.81     18259\n",
      "\n",
      "    accuracy                           0.79     47520\n",
      "   macro avg       0.70      0.77      0.72     47520\n",
      "weighted avg       0.82      0.79      0.80     47520\n",
      "\n"
     ]
    },
    {
     "data": {
      "image/png": "[encoded data removed]",
      "text/plain": [
       "<Figure size 432x288 with 2 Axes>"
      ]
     },
     "metadata": {
      "needs_background": "light"
     },
     "output_type": "display_data"
    }
   ],
   "source": [
    "evaluate_model(gradient_pipe, X_train, y_train)"
   ]
  },
  {
   "cell_type": "code",
   "execution_count": null,
   "metadata": {},
   "outputs": [],
   "source": []
  }
 ],
 "metadata": {
  "kernelspec": {
   "display_name": "learn-env",
   "language": "python",
   "name": "learn-env"
  },
  "language_info": {
   "codemirror_mode": {
    "name": "ipython",
    "version": 3
   },
   "file_extension": ".py",
   "mimetype": "text/x-python",
   "name": "python",
   "nbconvert_exporter": "python",
   "pygments_lexer": "ipython3",
   "version": "3.8.8"
  }
 },
 "nbformat": 4,
 "nbformat_minor": 4
}
